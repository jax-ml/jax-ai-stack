{
 "cells": [
  {
   "cell_type": "markdown",
   "metadata": {
    "id": "Kzqlx7fpXRnJ"
   },
   "source": [
    "# Image generation in JAX: a simple diffusion model\n",
    "\n",
    "[![Open in Colab](https://colab.research.google.com/assets/colab-badge.svg)](https://colab.research.google.com/github/jax-ml/jax-ai-stack/blob/main/docs/digits_diffusion_model.ipynb)\n",
    "\n",
    "In [Debugging in JAX: a Variational autoencoder (VAE) model](digits_vae.ipynb) you explored a simplified version of a [Variational Autoencoder (VAE)](https://en.wikipedia.org/wiki/Variational_autoencoder) trained on the simple digits data. In this tutorial you will find the steps to develop, train and perform inferences with a simple diffusion model developed with JAX, Flax, NNX and Optax. It includes:\n",
    "- preparing the dataset\n",
    "- Developing the custom diffusion model\n",
    "- Creating the loss and training functions\n",
    "- Perform the model training using Colab TPU v2 as a hardware accelerator\n",
    "- Visualizing and tracking your model progress."
   ]
  },
  {
   "cell_type": "markdown",
   "metadata": {
    "id": "gwaaMmjXt7n7"
   },
   "source": [
    "## Setting your environment up\n",
    "\n",
    "First you will prepare your development environment. You will need to install the required python packages:"
   ]
  },
  {
   "cell_type": "markdown",
   "metadata": {
    "id": "_nmgM2aSYAqc"
   },
   "source": [
    "### Installing required modules"
   ]
  },
  {
   "cell_type": "code",
   "execution_count": null,
   "metadata": {
    "colab": {
     "base_uri": "https://localhost:8080/"
    },
    "id": "f3NCUma0t28r",
    "outputId": "25a9af50-164c-44e9-fce8-22ed28dba269"
   },
   "outputs": [
    {
     "name": "stdout",
     "output_type": "stream",
     "text": [
      "\u001b[?25l   \u001b[90m━━━━━━━━━━━━━━━━━━━━━━━━━━━━━━━━━━━━━━━━\u001b[0m \u001b[32m0.0/780.7 kB\u001b[0m \u001b[31m?\u001b[0m eta \u001b[36m-:--:--\u001b[0m\r",
      "\u001b[2K   \u001b[91m━━━━━━━━━━━━━━━━━━━━━━━━━━━━━━━\u001b[0m\u001b[90m╺\u001b[0m\u001b[90m━━━━━━━━\u001b[0m \u001b[32m614.4/780.7 kB\u001b[0m \u001b[31m18.5 MB/s\u001b[0m eta \u001b[36m0:00:01\u001b[0m\r",
      "\u001b[2K   \u001b[90m━━━━━━━━━━━━━━━━━━━━━━━━━━━━━━━━━━━━━━━━\u001b[0m \u001b[32m780.7/780.7 kB\u001b[0m \u001b[31m13.8 MB/s\u001b[0m eta \u001b[36m0:00:00\u001b[0m\n",
      "\u001b[?25h\u001b[?25l   \u001b[90m━━━━━━━━━━━━━━━━━━━━━━━━━━━━━━━━━━━━━━━━\u001b[0m \u001b[32m0.0/2.2 MB\u001b[0m \u001b[31m?\u001b[0m eta \u001b[36m-:--:--\u001b[0m\r",
      "\u001b[2K   \u001b[91m━━━━━━━━━━━━━━━━━━━━━━━━━━━━━━━━━━━━━━━\u001b[0m\u001b[91m╸\u001b[0m \u001b[32m2.2/2.2 MB\u001b[0m \u001b[31m153.1 MB/s\u001b[0m eta \u001b[36m0:00:01\u001b[0m\r",
      "\u001b[2K   \u001b[90m━━━━━━━━━━━━━━━━━━━━━━━━━━━━━━━━━━━━━━━━\u001b[0m \u001b[32m2.2/2.2 MB\u001b[0m \u001b[31m59.0 MB/s\u001b[0m eta \u001b[36m0:00:00\u001b[0m\n",
      "\u001b[2K   \u001b[90m━━━━━━━━━━━━━━━━━━━━━━━━━━━━━━━━━━━━━━━━\u001b[0m \u001b[32m289.6/289.6 kB\u001b[0m \u001b[31m18.5 MB/s\u001b[0m eta \u001b[36m0:00:00\u001b[0m\n",
      "\u001b[2K   \u001b[90m━━━━━━━━━━━━━━━━━━━━━━━━━━━━━━━━━━━━━━━━\u001b[0m \u001b[32m270.5/270.5 kB\u001b[0m \u001b[31m17.0 MB/s\u001b[0m eta \u001b[36m0:00:00\u001b[0m\n",
      "\u001b[2K   \u001b[90m━━━━━━━━━━━━━━━━━━━━━━━━━━━━━━━━━━━━━━━━\u001b[0m \u001b[32m62.5/62.5 kB\u001b[0m \u001b[31m4.4 MB/s\u001b[0m eta \u001b[36m0:00:00\u001b[0m\n",
      "\u001b[2K   \u001b[90m━━━━━━━━━━━━━━━━━━━━━━━━━━━━━━━━━━━━━━━━\u001b[0m \u001b[32m15.3/15.3 MB\u001b[0m \u001b[31m99.3 MB/s\u001b[0m eta \u001b[36m0:00:00\u001b[0m\n",
      "\u001b[2K   \u001b[90m━━━━━━━━━━━━━━━━━━━━━━━━━━━━━━━━━━━━━━━━\u001b[0m \u001b[32m128.1/128.1 kB\u001b[0m \u001b[31m7.9 MB/s\u001b[0m eta \u001b[36m0:00:00\u001b[0m\n",
      "\u001b[2K   \u001b[90m━━━━━━━━━━━━━━━━━━━━━━━━━━━━━━━━━━━━━━━━\u001b[0m \u001b[32m42.4/42.4 kB\u001b[0m \u001b[31m2.6 MB/s\u001b[0m eta \u001b[36m0:00:00\u001b[0m\n",
      "\u001b[2K   \u001b[90m━━━━━━━━━━━━━━━━━━━━━━━━━━━━━━━━━━━━━━━━\u001b[0m \u001b[32m49.5/49.5 kB\u001b[0m \u001b[31m3.0 MB/s\u001b[0m eta \u001b[36m0:00:00\u001b[0m\n",
      "\u001b[?25h\u001b[31mERROR: pip's dependency resolver does not currently take into account all the packages that are installed. This behaviour is the source of the following dependency conflicts.\n",
      "tensorflow 2.15.0 requires ml-dtypes~=0.2.0, but you have ml-dtypes 0.4.0 which is incompatible.\u001b[0m\u001b[31m\n",
      "\u001b[0m"
     ]
    }
   ],
   "source": [
    "%pip install jax-ai-stack -q"
   ]
  },
  {
   "cell_type": "markdown",
   "metadata": {
    "id": "Qb_di6i2t_ip"
   },
   "source": [
    "Then import the required modules:"
   ]
  },
  {
   "cell_type": "code",
   "execution_count": null,
   "metadata": {
    "id": "dVVACvmDuDCM"
   },
   "outputs": [],
   "source": [
    "import jax\n",
    "import optax\n",
    "from flax import nnx\n",
    "import jax.numpy as jnp\n",
    "from functools import partial\n",
    "import matplotlib.pyplot as plt\n",
    "from sklearn.datasets import load_digits\n",
    "from typing import Tuple, Callable, List, Optional\n",
    "from sklearn.model_selection import train_test_split"
   ]
  },
  {
   "cell_type": "markdown",
   "metadata": {
    "id": "tQ5KGMyrYG2H"
   },
   "source": [
    "### Checking if the Colab TPU devices are available at the Colab instance\n",
    "\n",
    "If you are running this code on [Google Colab](https://colab.research.google.com/), you must select the runtime with a Google TPU v2 as hardware accelerator - The output of the cell below will be a list of 8 (eight) TPU devices:"
   ]
  },
  {
   "cell_type": "code",
   "execution_count": null,
   "metadata": {
    "colab": {
     "base_uri": "https://localhost:8080/"
    },
    "id": "ldmtemzPBO5z",
    "outputId": "d21720a2-65cd-4a5c-ef86-3a0912e36c34"
   },
   "outputs": [
    {
     "data": {
      "text/plain": [
       "[TpuDevice(id=0, process_index=0, coords=(0,0,0), core_on_chip=0),\n",
       " TpuDevice(id=1, process_index=0, coords=(0,0,0), core_on_chip=1),\n",
       " TpuDevice(id=2, process_index=0, coords=(1,0,0), core_on_chip=0),\n",
       " TpuDevice(id=3, process_index=0, coords=(1,0,0), core_on_chip=1),\n",
       " TpuDevice(id=4, process_index=0, coords=(0,1,0), core_on_chip=0),\n",
       " TpuDevice(id=5, process_index=0, coords=(0,1,0), core_on_chip=1),\n",
       " TpuDevice(id=6, process_index=0, coords=(1,1,0), core_on_chip=0),\n",
       " TpuDevice(id=7, process_index=0, coords=(1,1,0), core_on_chip=1)]"
      ]
     },
     "execution_count": 3,
     "metadata": {},
     "output_type": "execute_result"
    }
   ],
   "source": [
    "# Check available JAX devices\n",
    "jax.devices()"
   ]
  },
  {
   "cell_type": "markdown",
   "metadata": {},
   "source": [
    "## Loading the digits\n",
    "\n",
    "As before, you will use the small, self-contained [scikit-learn digits dataset](https://scikit-learn.org/stable/modules/generated/sklearn.datasets.load_digits.html) for ease of experimentation and also will get only the digits '1' (one) from the dataset:"
   ]
  },
  {
   "cell_type": "code",
   "execution_count": null,
   "metadata": {
    "colab": {
     "base_uri": "https://localhost:8080/",
     "height": 303
    },
    "id": "jNizSH6uuXY4",
    "outputId": "112723a1-fd36-46b2-946d-6d789f5a33ed"
   },
   "outputs": [
    {
     "name": "stdout",
     "output_type": "stream",
     "text": [
      "Training set size: 172\n",
      "Test set size: 10\n"
     ]
    },
    {
     "data": {
      "image/png": "[encoded data removed]",
      "text/plain": [
       "<Figure size 300x300 with 9 Axes>"
      ]
     },
     "metadata": {},
     "output_type": "display_data"
    }
   ],
   "source": [
    "# Data preprocessing\n",
    "digits = load_digits()\n",
    "images = digits.images[digits.target == 1] # Filter images of digit '1'\n",
    "images = images / 16.0 # Normalize pixel values to [0, 1]\n",
    "images = jnp.asarray(images) # Convert to JAX array\n",
    "images = images.reshape(-1, 8, 8, 1) # Reshape to (num_images, height, width, channels)\n",
    "\n",
    "# Split the dataset\n",
    "images_train, images_test = train_test_split(images, test_size=0.05, random_state=42)\n",
    "print(f\"Training set size: {images_train.shape[0]}\")\n",
    "print(f\"Test set size: {images_test.shape[0]}\")\n",
    "\n",
    "# Visualize sample images\n",
    "fig, axes = plt.subplots(3, 3, figsize=(3, 3))\n",
    "for i, ax in enumerate(axes.flat):\n",
    "    if i < len(images_train):\n",
    "        ax.imshow(images_train[i, ..., 0], cmap='gray', interpolation='gaussian')\n",
    "        ax.axis('off')\n",
    "plt.show()"
   ]
  },
  {
   "cell_type": "markdown",
   "metadata": {
    "id": "exKxj9OcG0yk"
   },
   "source": [
    "## Building your diffusion model\n",
    "\n",
    "Now you will start developing the parts of your [diffusion model](https://en.wikipedia.org/wiki/Diffusion_model). It is composed of a [UNet architecture](https://en.wikipedia.org/wiki/U-Net) backbone and the diffusion layers.\n",
    "\n",
    "### U-Net Architecture\n",
    "\n",
    "The U-Net architecture serves as the backbone of our diffusion model. It consists of:\n",
    "- An encoder path with downsampling;\n",
    "- A bridge with an [attention mechanism](https://en.wikipedia.org/wiki/Attention_(machine_learning));\n",
    "- A decoder path with upsampling;\n",
    "- Skip connections between encoder and decoder."
   ]
  },
  {
   "cell_type": "code",
   "execution_count": null,
   "metadata": {
    "id": "F4pxdITOuk79"
   },
   "outputs": [],
   "source": [
    "class UNet(nnx.Module):\n",
    "    def __init__(self,\n",
    "                 in_channels: int,\n",
    "                 out_channels: int,\n",
    "                 features: int,\n",
    "                 time_emb_dim: int = 128,\n",
    "                 *,\n",
    "                 rngs: nnx.Rngs):\n",
    "        \"\"\"\n",
    "        Initialize UNet architecture with time embedding\n",
    "        \"\"\"\n",
    "        self.features = features\n",
    "\n",
    "        # Time embedding layers for diffusion timestep conditioning\n",
    "        self.time_mlp_1 = nnx.Linear(in_features=time_emb_dim, out_features=time_emb_dim, rngs=rngs)\n",
    "        self.time_mlp_2 = nnx.Linear(in_features=time_emb_dim, out_features=time_emb_dim, rngs=rngs)\n",
    "\n",
    "        # Time projection layers for different scales\n",
    "        self.time_proj1 = nnx.Linear(in_features=time_emb_dim, out_features=features, rngs=rngs)\n",
    "        self.time_proj2 = nnx.Linear(in_features=time_emb_dim, out_features=features * 2, rngs=rngs)\n",
    "        self.time_proj3 = nnx.Linear(in_features=time_emb_dim, out_features=features * 4, rngs=rngs)\n",
    "        self.time_proj4 = nnx.Linear(in_features=time_emb_dim, out_features=features * 8, rngs=rngs)\n",
    "\n",
    "        # Encoder path\n",
    "        self.down_conv1 = self._create_residual_block(in_channels, features, rngs)\n",
    "        self.down_conv2 = self._create_residual_block(features, features * 2, rngs)\n",
    "        self.down_conv3 = self._create_residual_block(features * 2, features * 4, rngs)\n",
    "        self.down_conv4 = self._create_residual_block(features * 4, features * 8, rngs)\n",
    "\n",
    "        # Multi-head self-attention blocks\n",
    "        self.attention1 = self._create_attention_block(features * 4, rngs)\n",
    "        self.attention2 = self._create_attention_block(features * 8, rngs)\n",
    "\n",
    "        # Bridge connecting encoder and decoder\n",
    "        self.bridge_down = self._create_residual_block(features * 8, features * 16, rngs)\n",
    "        self.bridge_attention = self._create_attention_block(features * 16, rngs)\n",
    "        self.bridge_up = self._create_residual_block(features * 16, features * 16, rngs)\n",
    "\n",
    "        # Decoder path with skip connections\n",
    "        self.up_conv4 = self._create_residual_block(features * 24, features * 8, rngs)\n",
    "        self.up_conv3 = self._create_residual_block(features * 12, features * 4, rngs)\n",
    "        self.up_conv2 = self._create_residual_block(features * 6, features * 2, rngs)\n",
    "        self.up_conv1 = self._create_residual_block(features * 3, features, rngs)\n",
    "\n",
    "        # Output layers\n",
    "        self.final_norm = nnx.LayerNorm(features, rngs=rngs)\n",
    "        self.final_conv = nnx.Conv(in_features=features,\n",
    "                                 out_features=out_channels,\n",
    "                                 kernel_size=(3, 3),\n",
    "                                 strides=(1, 1),\n",
    "                                 padding=((1, 1), (1, 1)),\n",
    "                                 rngs=rngs)\n",
    "\n",
    "    def _create_attention_block(self, channels: int, rngs: nnx.Rngs) -> Callable:\n",
    "        \"\"\"Creates a self-attention block with learned query, key, value projections\"\"\"\n",
    "        query_proj = nnx.Linear(in_features=channels, out_features=channels, rngs=rngs)\n",
    "        key_proj = nnx.Linear(in_features=channels, out_features=channels, rngs=rngs)\n",
    "        value_proj = nnx.Linear(in_features=channels, out_features=channels, rngs=rngs)\n",
    "\n",
    "        def forward(x: jax.Array) -> jax.Array:\n",
    "            B, H, W, C = x.shape\n",
    "            scale = jnp.sqrt(C).astype(x.dtype)\n",
    "\n",
    "            # Project into query, key, value spaces\n",
    "            q = query_proj(x)\n",
    "            k = key_proj(x)\n",
    "            v = value_proj(x)\n",
    "\n",
    "            # Reshape for attention computation\n",
    "            q = q.reshape(B, H * W, C)\n",
    "            k = k.reshape(B, H * W, C)\n",
    "            v = v.reshape(B, H * W, C)\n",
    "\n",
    "            # Compute scaled dot-product attention\n",
    "            attention = jnp.einsum('bic,bjc->bij', q, k) / scale\n",
    "            attention = jax.nn.softmax(attention, axis=-1)\n",
    "\n",
    "            out = jnp.einsum('bij,bjc->bic', attention, v)\n",
    "            out = out.reshape(B, H, W, C)\n",
    "\n",
    "            return x + out\n",
    "\n",
    "        return forward\n",
    "\n",
    "    def _create_residual_block(self,\n",
    "                              in_channels: int,\n",
    "                              out_channels: int,\n",
    "                              rngs: nnx.Rngs) -> Callable:\n",
    "        \"\"\"Creates a residual block with two convolutions and normalization\"\"\"\n",
    "        conv1 = nnx.Conv(in_features=in_channels,\n",
    "                        out_features=out_channels,\n",
    "                        kernel_size=(3, 3),\n",
    "                        strides=(1, 1),\n",
    "                        padding=((1, 1), (1, 1)),\n",
    "                        rngs=rngs)\n",
    "        norm1 = nnx.LayerNorm(out_channels, rngs=rngs)\n",
    "        conv2 = nnx.Conv(in_features=out_channels,\n",
    "                        out_features=out_channels,\n",
    "                        kernel_size=(3, 3),\n",
    "                        strides=(1, 1),\n",
    "                        padding=((1, 1), (1, 1)),\n",
    "                        rngs=rngs)\n",
    "        norm2 = nnx.LayerNorm(out_channels, rngs=rngs)\n",
    "\n",
    "        # Projection shortcut if dimensions change\n",
    "        shortcut = nnx.Conv(in_features=in_channels,\n",
    "                            out_features=out_channels,\n",
    "                            kernel_size=(1, 1),\n",
    "                            strides=(1, 1),\n",
    "                            rngs=rngs)\n",
    "\n",
    "        def forward(x: jax.Array) -> jax.Array:\n",
    "            identity = shortcut(x)\n",
    "\n",
    "            x = conv1(x)\n",
    "            x = norm1(x)\n",
    "            x = nnx.gelu(x)\n",
    "\n",
    "            x = conv2(x)\n",
    "            x = norm2(x)\n",
    "            x = nnx.gelu(x)\n",
    "\n",
    "            return x + identity\n",
    "\n",
    "        return forward\n",
    "\n",
    "    def _pos_encoding(self, t: jax.Array, dim: int) -> jax.Array:\n",
    "        \"\"\"Sinusoidal positional encoding for time embedding\"\"\"\n",
    "        half_dim = dim // 2\n",
    "        emb = jnp.log(10000.0) / (half_dim - 1)\n",
    "        emb = jnp.exp(jnp.arange(half_dim) * -emb)\n",
    "        emb = t[:, None] * emb[None, :]\n",
    "        emb = jnp.concatenate([jnp.sin(emb), jnp.cos(emb)], axis=1)\n",
    "        return emb\n",
    "\n",
    "    def _downsample(self, x: jax.Array) -> jax.Array:\n",
    "        \"\"\"Max pooling for downsampling\"\"\"\n",
    "        return nnx.max_pool(x, window_shape=(2, 2), strides=(2, 2), padding='SAME')\n",
    "\n",
    "    def _upsample(self, x: jax.Array, target_size: int) -> jax.Array:\n",
    "        \"\"\"Nearest neighbor upsampling\"\"\"\n",
    "        return jax.image.resize(x,\n",
    "                              (x.shape[0], target_size, target_size, x.shape[3]),\n",
    "                              method='nearest')\n",
    "\n",
    "    def __call__(self, x: jax.Array, t: jax.Array) -> jax.Array:\n",
    "        \"\"\"Forward pass through the UNet\"\"\"\n",
    "        # Time embedding and projection\n",
    "        t_emb = self._pos_encoding(t, 128)\n",
    "        t_emb = self.time_mlp_1(t_emb)\n",
    "        t_emb = nnx.gelu(t_emb)\n",
    "        t_emb = self.time_mlp_2(t_emb)\n",
    "\n",
    "        # Project time embeddings for each scale\n",
    "        t_emb1 = self.time_proj1(t_emb)[:, None, None, :]\n",
    "        t_emb2 = self.time_proj2(t_emb)[:, None, None, :]\n",
    "        t_emb3 = self.time_proj3(t_emb)[:, None, None, :]\n",
    "        t_emb4 = self.time_proj4(t_emb)[:, None, None, :]\n",
    "\n",
    "        # Encoder path with time injection\n",
    "        d1 = self.down_conv1(x)\n",
    "        t_emb1 = jnp.broadcast_to(t_emb1, d1.shape)\n",
    "        d1 = d1 + t_emb1\n",
    "\n",
    "        d2 = self.down_conv2(self._downsample(d1))\n",
    "        t_emb2 = jnp.broadcast_to(t_emb2, d2.shape)\n",
    "        d2 = d2 + t_emb2\n",
    "\n",
    "        d3 = self.down_conv3(self._downsample(d2))\n",
    "        d3 = self.attention1(d3)\n",
    "        t_emb3 = jnp.broadcast_to(t_emb3, d3.shape)\n",
    "        d3 = d3 + t_emb3\n",
    "\n",
    "        d4 = self.down_conv4(self._downsample(d3))\n",
    "        d4 = self.attention2(d4)\n",
    "        t_emb4 = jnp.broadcast_to(t_emb4, d4.shape)\n",
    "        d4 = d4 + t_emb4\n",
    "\n",
    "        # Bridge\n",
    "        b = self._downsample(d4)\n",
    "        b = self.bridge_down(b)\n",
    "        b = self.bridge_attention(b)\n",
    "        b = self.bridge_up(b)\n",
    "\n",
    "        # Decoder path with skip connections\n",
    "        u4 = self.up_conv4(jnp.concatenate([self._upsample(b, d4.shape[1]), d4], axis=-1))\n",
    "        u3 = self.up_conv3(jnp.concatenate([self._upsample(u4, d3.shape[1]), d3], axis=-1))\n",
    "        u2 = self.up_conv2(jnp.concatenate([self._upsample(u3, d2.shape[1]), d2], axis=-1))\n",
    "        u1 = self.up_conv1(jnp.concatenate([self._upsample(u2, d1.shape[1]), d1], axis=-1))\n",
    "\n",
    "        # Final layers\n",
    "        x = self.final_norm(u1)\n",
    "        x = nnx.gelu(x)\n",
    "        return self.final_conv(x)"
   ]
  },
  {
   "cell_type": "markdown",
   "metadata": {
    "id": "XJaqiL07HD9D"
   },
   "source": [
    "### Diffusion Model\n",
    "\n",
    "Now it is time to create the second part of your diffusion model. It will rely on the UNet model and will include all the layers needed to perform the diffusion operations.\n",
    "\n",
    "This class implements the diffusion process with:\n",
    "- Forward diffusion (adding noise)\n",
    "- Reverse diffusion (denoising)\n",
    "- Custom noise scheduling"
   ]
  },
  {
   "cell_type": "code",
   "execution_count": null,
   "metadata": {
    "id": "4ml8cKFUvCdv"
   },
   "outputs": [],
   "source": [
    "class DiffusionModel:\n",
    "    def __init__(self,\n",
    "                 model: UNet,\n",
    "                 num_steps: int,\n",
    "                 beta_start: float,\n",
    "                 beta_end: float):\n",
    "        \"\"\"Initialize diffusion process parameters\"\"\"\n",
    "        self.model = model\n",
    "        self.num_steps = num_steps\n",
    "\n",
    "        # Noise schedule parameters\n",
    "        self.beta = self._cosine_beta_schedule(num_steps, beta_start, beta_end)\n",
    "        self.alpha = 1 - self.beta\n",
    "        self.alpha_cumulative = jnp.cumprod(self.alpha)\n",
    "\n",
    "        self.sqrt_alpha_cumulative = jnp.sqrt(self.alpha_cumulative)\n",
    "        self.sqrt_one_minus_alpha_cumulative = jnp.sqrt(1 - self.alpha_cumulative)\n",
    "        self.sqrt_recip_alpha = jnp.sqrt(1 / self.alpha)\n",
    "\n",
    "        self.posterior_variance = self.beta * (1 - self.alpha_cumulative) / (1 - self.alpha_cumulative + 1e-7)\n",
    "\n",
    "    def _cosine_beta_schedule(self,\n",
    "                            num_steps: int,\n",
    "                            beta_start: float,\n",
    "                            beta_end: float) -> jax.Array:\n",
    "        \"\"\"Cosine schedule for noise levels\"\"\"\n",
    "        steps = jnp.linspace(0, num_steps, num_steps + 1)\n",
    "        x = steps / num_steps\n",
    "        alphas = jnp.cos(((x + 0.008) / 1.008) * jnp.pi * 0.5) ** 2\n",
    "        alphas = alphas / alphas[0]\n",
    "        betas = 1 - (alphas[1:] / alphas[:-1])\n",
    "        betas = jnp.clip(betas, beta_start, beta_end)\n",
    "        return jnp.concatenate([betas[0:1], betas])\n",
    "\n",
    "    def forward(self,\n",
    "                x: jax.Array,\n",
    "                t: jax.Array,\n",
    "                key: jax.Array) -> Tuple[jax.Array, jax.Array]:\n",
    "        \"\"\"Forward diffusion process - adds noise according to schedule\"\"\"\n",
    "        noise = jax.random.normal(key, x.shape)\n",
    "        noisy_x = (\n",
    "            jnp.sqrt(self.alpha_cumulative[t])[:, None, None, None] * x +\n",
    "            jnp.sqrt(1 - self.alpha_cumulative[t])[:, None, None, None] * noise\n",
    "        )\n",
    "        return noisy_x, noise\n",
    "\n",
    "    def reverse(self, x: jax.Array, key: jax.Array) -> jax.Array:\n",
    "        \"\"\"Reverse diffusion process - removes noise gradually\"\"\"\n",
    "        x_t = x\n",
    "        for t in reversed(range(self.num_steps)):\n",
    "            t_batch = jnp.array([t] * x.shape[0])\n",
    "            predicted = self.model(x_t, t_batch)\n",
    "\n",
    "            key, subkey = jax.random.split(key)\n",
    "            noise = jax.random.normal(subkey, x_t.shape) if t > 0 else 0\n",
    "\n",
    "            x_t = (1 / jnp.sqrt(self.alpha[t])) * (\n",
    "                x_t - ((1 - self.alpha[t]) / jnp.sqrt(1 - self.alpha_cumulative[t])) * predicted\n",
    "            ) + jnp.sqrt(self.beta[t]) * noise\n",
    "\n",
    "        return x_t"
   ]
  },
  {
   "cell_type": "markdown",
   "metadata": {
    "id": "wKnYRqMAI06f"
   },
   "source": [
    "## Training Components\n",
    "\n",
    "In this section, you will define the training components for our model, including:\n",
    "- A Loss function (`loss_fn()`) with [SNR weighting](https://en.wikipedia.org/wiki/Signal-to-noise_ratio) and gradient penalty\n",
    "- The training step (`train_step()`) with [gradient clipping](https://arxiv.org/pdf/1905.11881)\n",
    "\n",
    "Next, you will define your model configuration and the training loop implementation."
   ]
  },
  {
   "cell_type": "code",
   "execution_count": null,
   "metadata": {
    "id": "rq9Ic8WYCCJI"
   },
   "outputs": [],
   "source": [
    "def loss_fn(model: UNet,\n",
    "           images: jax.Array,\n",
    "           t: jax.Array,\n",
    "           noise: jax.Array,\n",
    "           sqrt_alpha_cumulative: jax.Array,\n",
    "           sqrt_one_minus_alpha_cumulative: jax.Array) -> jax.Array:\n",
    "    \"\"\"Loss function with SNR weighting and adaptive noise scaling\"\"\"\n",
    "\n",
    "    # Compute noisy images\n",
    "    noisy_images = (\n",
    "        sqrt_alpha_cumulative[t][:, None, None, None] * images +\n",
    "        sqrt_one_minus_alpha_cumulative[t][:, None, None, None] * noise\n",
    "    )\n",
    "\n",
    "    predicted = model(noisy_images, t)\n",
    "\n",
    "    # SNR-weighted loss computation\n",
    "    snr = (sqrt_alpha_cumulative[t] / sqrt_one_minus_alpha_cumulative[t])[:, None, None, None]\n",
    "    loss_weights = snr / (1 + snr)\n",
    "\n",
    "    squared_error = (noise - predicted) ** 2\n",
    "    main_loss = jnp.mean(loss_weights * squared_error)\n",
    "\n",
    "    # Gradient penalty with reduced coefficient\n",
    "    grad = jax.grad(lambda x: model(x, t).mean())(noisy_images)\n",
    "    grad_penalty = 0.02 * (jnp.square(grad).mean())\n",
    "\n",
    "    return main_loss + grad_penalty\n",
    "\n",
    "@nnx.jit\n",
    "def train_step(model: UNet,\n",
    "               optimizer: nnx.Optimizer,\n",
    "               images: jax.Array,\n",
    "               t: jax.Array,\n",
    "               noise: jax.Array,\n",
    "               sqrt_alpha_cumulative: jax.Array,\n",
    "               sqrt_one_minus_alpha_cumulative: jax.Array) -> jax.Array:\n",
    "    \"\"\"Single training step with gradient clipping\"\"\"\n",
    "    loss, grads = nnx.value_and_grad(loss_fn)(\n",
    "        model, images, t, noise,\n",
    "        sqrt_alpha_cumulative, sqrt_one_minus_alpha_cumulative\n",
    "    )\n",
    "\n",
    "    # Conservative gradient clipping\n",
    "    clip_threshold = 0.3\n",
    "    grads = jax.tree_util.tree_map(\n",
    "        lambda g: jnp.clip(g, -clip_threshold, clip_threshold),\n",
    "        grads\n",
    "    )\n",
    "\n",
    "    optimizer.update(grads)\n",
    "    return loss"
   ]
  },
  {
   "cell_type": "markdown",
   "metadata": {
    "id": "4slhkQ6vI5tZ"
   },
   "source": [
    "### Model Training Configuration\n",
    "\n",
    "Now, you set up:\n",
    "- Model hyperparameters;\n",
    "- An optimizer with learning rate schedule."
   ]
  },
  {
   "cell_type": "code",
   "execution_count": null,
   "metadata": {
    "id": "w4CwR-6ivIjS"
   },
   "outputs": [],
   "source": [
    "# Model and training hyperparameters\n",
    "key = jax.random.PRNGKey(42)\n",
    "in_channels = 1\n",
    "out_channels = 1\n",
    "features = 64\n",
    "num_steps = 1000\n",
    "num_epochs = 5000\n",
    "batch_size = 64\n",
    "learning_rate = 1e-4\n",
    "beta_start = 1e-4\n",
    "beta_end = 0.02\n",
    "\n",
    "# Initialize model components\n",
    "key, subkey = jax.random.split(key)\n",
    "model = UNet(in_channels, out_channels, features, rngs=nnx.Rngs(default=subkey))\n",
    "\n",
    "diffusion = DiffusionModel(\n",
    "    model=model,\n",
    "    num_steps=num_steps,\n",
    "    beta_start=beta_start,\n",
    "    beta_end=beta_end\n",
    ")"
   ]
  },
  {
   "cell_type": "code",
   "execution_count": null,
   "metadata": {
    "colab": {
     "base_uri": "https://localhost:8080/"
    },
    "id": "yLjb_t026uy3",
    "outputId": "2cda0980-ac98-4fd7-ee3a-02728a64f1f7"
   },
   "outputs": [
    {
     "name": "stdout",
     "output_type": "stream",
     "text": [
      "Input shape: (1, 8, 8, 1)\n",
      "Output shape: (1, 8, 8, 1)\n",
      "\n",
      "Model initialized successfully\n"
     ]
    }
   ],
   "source": [
    "# Learning rate schedule configuration\n",
    "warmup_steps = 1000\n",
    "total_steps = num_epochs\n",
    "\n",
    "schedule_fn = optax.join_schedules(\n",
    "    schedules=[\n",
    "        optax.linear_schedule(\n",
    "            init_value=0.0,\n",
    "            end_value=learning_rate,\n",
    "            transition_steps=warmup_steps\n",
    "        ),\n",
    "        optax.cosine_decay_schedule(\n",
    "            init_value=learning_rate,\n",
    "            decay_steps=total_steps - warmup_steps,\n",
    "            alpha=0.01\n",
    "        )\n",
    "    ],\n",
    "    boundaries=[warmup_steps]\n",
    ")\n",
    "\n",
    "# Optimizer configuration\n",
    "optimizer = nnx.Optimizer(model, optax.chain(\n",
    "    optax.clip_by_global_norm(0.5),\n",
    "    optax.adamw(\n",
    "        learning_rate=schedule_fn,\n",
    "        weight_decay=2e-5,\n",
    "        b1=0.9,\n",
    "        b2=0.999,\n",
    "        eps=1e-8\n",
    "    )\n",
    "))\n",
    "\n",
    "# Model initialization with dummy input\n",
    "dummy_input = jnp.ones((1, 8, 8, 1))\n",
    "dummy_t = jnp.zeros((1,), dtype=jnp.int32)\n",
    "output = model(dummy_input, dummy_t)\n",
    "\n",
    "print(\"Input shape:\", dummy_input.shape)\n",
    "print(\"Output shape:\", output.shape)\n",
    "print(\"\\nModel initialized successfully\")"
   ]
  },
  {
   "cell_type": "markdown",
   "metadata": {
    "id": "LrzTfkDPJm2X"
   },
   "source": [
    "### Training Loop Implementation\n",
    "\n",
    "Here you have the main training loop for the diffusion model with:\n",
    "- Progressive timestep sampling strategy\n",
    "- [Exponential Moving Average (EMA)](https://en.wikipedia.org/wiki/Moving_average#Exponential_moving_average) loss tracking\n",
    "- Adaptive noise generation"
   ]
  },
  {
   "cell_type": "code",
   "execution_count": null,
   "metadata": {
    "colab": {
     "base_uri": "https://localhost:8080/"
    },
    "id": "ZnQqHCAoVfi1",
    "outputId": "a105e2de-ba88-44d0-bad5-3a9a69e54826"
   },
   "outputs": [
    {
     "name": "stdout",
     "output_type": "stream",
     "text": [
      "Epoch 0, Loss: 1.2441\n",
      "Epoch 100, Loss: 1.1178\n",
      "Epoch 200, Loss: 0.8737\n",
      "Epoch 300, Loss: 0.7176\n",
      "Epoch 400, Loss: 0.6327\n",
      "Epoch 500, Loss: 0.5682\n",
      "Epoch 600, Loss: 0.5024\n",
      "Epoch 700, Loss: 0.4417\n",
      "Epoch 800, Loss: 0.3805\n",
      "Epoch 900, Loss: 0.3254\n",
      "Epoch 1000, Loss: 0.2803\n",
      "Epoch 1100, Loss: 0.2534\n",
      "Epoch 1200, Loss: 0.2339\n",
      "Epoch 1300, Loss: 0.2221\n",
      "Epoch 1400, Loss: 0.2141\n",
      "Epoch 1500, Loss: 0.2085\n",
      "Epoch 1600, Loss: 0.2046\n",
      "Epoch 1700, Loss: 0.1991\n",
      "Epoch 1800, Loss: 0.1951\n",
      "Epoch 1900, Loss: 0.1923\n",
      "Epoch 2000, Loss: 0.1919\n",
      "Epoch 2100, Loss: 0.1913\n",
      "Epoch 2200, Loss: 0.1888\n",
      "Epoch 2300, Loss: 0.1858\n",
      "Epoch 2400, Loss: 0.1861\n",
      "Epoch 2500, Loss: 0.1867\n",
      "Epoch 2600, Loss: 0.1855\n",
      "Epoch 2700, Loss: 0.1832\n",
      "Epoch 2800, Loss: 0.1834\n",
      "Epoch 2900, Loss: 0.1839\n",
      "Epoch 3000, Loss: 0.1844\n",
      "Epoch 3100, Loss: 0.1838\n",
      "Epoch 3200, Loss: 0.1816\n",
      "Epoch 3300, Loss: 0.1824\n",
      "Epoch 3400, Loss: 0.1815\n",
      "Epoch 3500, Loss: 0.1823\n",
      "Epoch 3600, Loss: 0.1834\n",
      "Epoch 3700, Loss: 0.1823\n",
      "Epoch 3800, Loss: 0.1811\n",
      "Epoch 3900, Loss: 0.1806\n",
      "Epoch 4000, Loss: 0.1804\n",
      "Epoch 4100, Loss: 0.1814\n",
      "Epoch 4200, Loss: 0.1802\n",
      "Epoch 4300, Loss: 0.1813\n",
      "Epoch 4400, Loss: 0.1799\n",
      "Epoch 4500, Loss: 0.1811\n",
      "Epoch 4600, Loss: 0.1820\n",
      "Epoch 4700, Loss: 0.1829\n",
      "Epoch 4800, Loss: 0.1828\n",
      "Epoch 4900, Loss: 0.1832\n",
      "Epoch 5000, Loss: 0.1827\n",
      "\n",
      "Training completed.\n"
     ]
    }
   ],
   "source": [
    "# Initialize training metrics\n",
    "losses: List[float] = []                # Store EMA loss history\n",
    "moving_avg_loss: Optional[float] = None  # EMA of the loss value\n",
    "beta: float = 0.99                      # EMA decay factor for loss smoothing\n",
    "\n",
    "for epoch in range(num_epochs + 1):\n",
    "    # Split PRNG key for independent random operations\n",
    "    key, subkey1 = jax.random.split(key)\n",
    "    key, subkey2 = jax.random.split(key)\n",
    "\n",
    "    # Progressive timestep sampling - weights early steps more heavily as training progresses\n",
    "    # This helps model focus on fine details in later epochs while maintaining stability\n",
    "    progress = epoch / num_epochs\n",
    "    t_weights = jnp.linspace(1.0, 0.1 * (1.0 - progress), num_steps)\n",
    "    t = jax.random.choice(\n",
    "        subkey1,\n",
    "        num_steps,\n",
    "        shape=(images_train.shape[0],),\n",
    "        p=t_weights/t_weights.sum()\n",
    "    )\n",
    "\n",
    "    # Generate Gaussian noise for current batch\n",
    "    noise = jax.random.normal(subkey2, images_train.shape)\n",
    "\n",
    "    # Execute training step with noise prediction and parameter updates\n",
    "    loss = train_step(\n",
    "        model, optimizer, images_train, t, noise,\n",
    "        diffusion.sqrt_alpha_cumulative, diffusion.sqrt_one_minus_alpha_cumulative\n",
    "    )\n",
    "\n",
    "    # Update exponential moving average of loss for smoother tracking\n",
    "    if moving_avg_loss is None:\n",
    "        moving_avg_loss = loss\n",
    "    else:\n",
    "        moving_avg_loss = beta * moving_avg_loss + (1 - beta) * loss\n",
    "\n",
    "    losses.append(moving_avg_loss)\n",
    "\n",
    "    # Log training progress at regular intervals\n",
    "    if epoch % 100 == 0:\n",
    "        print(f\"Epoch {epoch}, Loss: {moving_avg_loss:.4f}\")\n",
    "\n",
    "print(\"\\nTraining completed.\")"
   ]
  },
  {
   "cell_type": "markdown",
   "metadata": {
    "id": "s-iqch4HKlBV"
   },
   "source": [
    "### Training loss visualization\n",
    "\n",
    "It uses a logarithmic scale to better display the exponential decay of the loss values over time. This representation helps identify both early rapid improvements and later fine-tuning phases of the training process.\n",
    "\n",
    "You can see that your model performs well, due to the reducing training loss over the training time."
   ]
  },
  {
   "cell_type": "code",
   "execution_count": null,
   "metadata": {
    "colab": {
     "base_uri": "https://localhost:8080/",
     "height": 487
    },
    "id": "1bjvWNCcbN24",
    "outputId": "457fd13f-377f-4021-ddc2-e36940b42550"
   },
   "outputs": [
    {
     "data": {
      "image/png": "[encoded data removed]",
      "text/plain": [
       "<Figure size 1000x500 with 1 Axes>"
      ]
     },
     "metadata": {},
     "output_type": "display_data"
    }
   ],
   "source": [
    "# Plot the training loss history with logarithmic scaling\n",
    "plt.figure(figsize=(10, 5))            # Create figure with wide aspect ratio for clarity\n",
    "plt.plot(losses)                       # losses: List[float] - historical EMA loss values\n",
    "plt.title('Training Loss Over Time')\n",
    "plt.xlabel('Epoch')\n",
    "plt.ylabel('Loss')\n",
    "plt.yscale('log')                      # Use log scale to better visualize exponential decay\n",
    "plt.grid(True)                         # Add grid for easier value reading\n",
    "plt.show()"
   ]
  },
  {
   "cell_type": "markdown",
   "metadata": {
    "id": "M2ql0KwYJLqn"
   },
   "source": [
    "## Visualization Functions\n",
    "\n",
    "In this section, you will include utilities for:\n",
    "- Sample generation\n",
    "- Forward/reverse process visualization\n",
    "- Training progress tracking"
   ]
  },
  {
   "cell_type": "code",
   "execution_count": null,
   "metadata": {
    "colab": {
     "base_uri": "https://localhost:8080/",
     "height": 212
    },
    "id": "thP6DDl56iXM",
    "outputId": "68b47408-bbc1-40e8-fb90-47d43230984e"
   },
   "outputs": [
    {
     "data": {
      "image/png": "[encoded data removed]",
      "text/plain": [
       "<Figure size 800x200 with 18 Axes>"
      ]
     },
     "metadata": {},
     "output_type": "display_data"
    }
   ],
   "source": [
    "@partial(nnx.jit, static_argnums=(3,))\n",
    "def reverse_diffusion_batch(model: UNet,\n",
    "                          x: jax.Array,\n",
    "                          key: jax.Array,\n",
    "                          num_steps: int) -> jax.Array:\n",
    "    \"\"\"Efficient batched reverse diffusion using scan\"\"\"\n",
    "    beta = jnp.linspace(1e-4, 0.02, num_steps)\n",
    "    alpha = 1 - beta\n",
    "    alpha_cumulative = jnp.cumprod(alpha)\n",
    "\n",
    "    def scan_step(carry: Tuple[jax.Array, jax.Array],\n",
    "                 step: int) -> Tuple[Tuple[jax.Array, jax.Array], jax.Array]:\n",
    "        x, key = carry\n",
    "        t_batch = jnp.full((x.shape[0],), step)\n",
    "        predicted = model(x, t_batch)\n",
    "\n",
    "        key, subkey = jax.random.split(key)\n",
    "        noise = jnp.where(step > 0, jax.random.normal(subkey, x.shape), 0)\n",
    "\n",
    "        x_new = 1 / jnp.sqrt(alpha[step]) * (\n",
    "            x - (1 - alpha[step]) / jnp.sqrt(1 - alpha_cumulative[step]) * predicted\n",
    "        ) + jnp.sqrt(beta[step]) * noise\n",
    "\n",
    "        return (x_new, key), x_new\n",
    "\n",
    "    steps = jnp.arange(num_steps - 1, -1, -1)\n",
    "    (final_x, _), _ = jax.lax.scan(scan_step, (x, key), steps)\n",
    "    return final_x\n",
    "\n",
    "def plot_samples(model: UNet,\n",
    "                diffusion: DiffusionModel,\n",
    "                images: jax.Array,\n",
    "                key: jax.Array,\n",
    "                num_samples: int = 9) -> None:\n",
    "    \"\"\"Visualize original vs reconstructed images\"\"\"\n",
    "    indices = jax.random.randint(key, (num_samples,), 0, len(images))\n",
    "    samples = images[indices]\n",
    "\n",
    "    key, subkey = jax.random.split(key)\n",
    "    noisy = diffusion.forward(samples, jnp.full((num_samples,), diffusion.num_steps-1), subkey)[0]\n",
    "\n",
    "    key, subkey = jax.random.split(key)\n",
    "    reconstructed = reverse_diffusion_batch(model, noisy, subkey, diffusion.num_steps)\n",
    "\n",
    "    fig, axes = plt.subplots(2, num_samples, figsize=(8, 2))\n",
    "\n",
    "    for i in range(num_samples):\n",
    "        axes[0, i].imshow(samples[i, ..., 0], cmap='gray')\n",
    "        axes[0, i].axis('off')\n",
    "        axes[1, i].imshow(reconstructed[i, ..., 0], cmap='gray')\n",
    "        axes[1, i].axis('off')\n",
    "\n",
    "    axes[0, 0].set_title('Original')\n",
    "    axes[1, 0].set_title('Reconstructed')\n",
    "    plt.tight_layout()\n",
    "    plt.show()\n",
    "\n",
    "# Generate visualization\n",
    "key, subkey = jax.random.split(key)\n",
    "plot_samples(model, diffusion, images_test, subkey)"
   ]
  },
  {
   "cell_type": "code",
   "execution_count": null,
   "metadata": {
    "colab": {
     "base_uri": "https://localhost:8080/",
     "height": 277
    },
    "id": "iqfjpn8havnI",
    "outputId": "756595c5-5380-46fd-f625-e21b4581381e"
   },
   "outputs": [
    {
     "name": "stdout",
     "output_type": "stream",
     "text": [
      "\n",
      "Full Forward and Reverse Process:\n"
     ]
    },
    {
     "data": {
      "image/png": "[encoded data removed]",
      "text/plain": [
       "<Figure size 800x200 with 18 Axes>"
      ]
     },
     "metadata": {},
     "output_type": "display_data"
    }
   ],
   "source": [
    "@partial(nnx.jit, static_argnums=(3,))\n",
    "def compute_forward_sequence(model: UNet,\n",
    "                           image: jax.Array,\n",
    "                           key: jax.Array,\n",
    "                           num_vis_steps: int) -> jax.Array:\n",
    "    \"\"\"Compute forward diffusion sequence efficiently.\"\"\"\n",
    "    # Prepare image sequence and noise parameters\n",
    "    image_repeated = jnp.repeat(image[None], num_vis_steps, axis=0)\n",
    "    timesteps = jnp.linspace(0, 999, num_vis_steps).astype(jnp.int32)  # Assuming 1000 steps\n",
    "    beta = jnp.linspace(1e-4, 0.02, 1000)\n",
    "    alpha = 1 - beta\n",
    "    alpha_cumulative = jnp.cumprod(alpha)\n",
    "\n",
    "    # Generate and apply noise progressively\n",
    "    noise = jax.random.normal(key, image_repeated.shape)\n",
    "    noisy_images = (\n",
    "        jnp.sqrt(alpha_cumulative[timesteps])[:, None, None, None] * image_repeated +\n",
    "        jnp.sqrt(1 - alpha_cumulative[timesteps])[:, None, None, None] * noise\n",
    "    )\n",
    "    return noisy_images\n",
    "\n",
    "@partial(nnx.jit, static_argnums=(3,))\n",
    "def compute_reverse_sequence(model: UNet,\n",
    "                           noisy_image: jax.Array,\n",
    "                           key: jax.Array,\n",
    "                           num_vis_steps: int) -> jax.Array:\n",
    "    \"\"\"Compute reverse diffusion sequence efficiently.\"\"\"\n",
    "    # Denoise completely and create interpolation sequence\n",
    "    final_image = reverse_diffusion_batch(model, noisy_image[None], key, 1000)[0]\n",
    "    alphas = jnp.linspace(0, 1, num_vis_steps)\n",
    "    reverse_sequence = (\n",
    "        (1 - alphas)[:, None, None, None] * noisy_image +\n",
    "        alphas[:, None, None, None] * final_image\n",
    "    )\n",
    "    return reverse_sequence\n",
    "\n",
    "def plot_forward_and_reverse(model: UNet,\n",
    "                          diffusion: DiffusionModel,\n",
    "                          image: jax.Array,\n",
    "                          key: jax.Array,\n",
    "                          num_steps: int = 9) -> None:\n",
    "    \"\"\"Plot both forward and reverse diffusion processes with optimized computation.\"\"\"\n",
    "    # Compute the forward/reverse transformations\n",
    "    key1, key2 = jax.random.split(key)\n",
    "    forward_sequence = compute_forward_sequence(model, image, key1, num_steps)\n",
    "    reverse_sequence = compute_reverse_sequence(model, forward_sequence[-1], key2, num_steps)\n",
    "\n",
    "    # Setup visualization grid\n",
    "    fig, (ax1, ax2) = plt.subplots(2, num_steps, figsize=(8, 2))\n",
    "    fig.suptitle('Forward and Reverse Diffusion Process', y=1.1)\n",
    "\n",
    "    timesteps = jnp.linspace(0, diffusion.num_steps-1, num_steps).astype(jnp.int32)\n",
    "\n",
    "    # Visualize forward diffusion\n",
    "    for i in range(num_steps):\n",
    "        ax1[i].imshow(forward_sequence[i, ..., 0], cmap='binary', interpolation='gaussian')\n",
    "        ax1[i].axis('off')\n",
    "        ax1[i].set_title(f't={timesteps[i]}')\n",
    "    ax1[0].set_ylabel('Forward', rotation=90, labelpad=10)\n",
    "\n",
    "    # Visualize reverse diffusion\n",
    "    for i in range(num_steps):\n",
    "        ax2[i].imshow(reverse_sequence[i, ..., 0], cmap='binary', interpolation='gaussian')\n",
    "        ax2[i].axis('off')\n",
    "        ax2[i].set_title(f't={timesteps[num_steps-1-i]}')\n",
    "    ax2[0].set_ylabel('Reverse', rotation=90, labelpad=10)\n",
    "\n",
    "    plt.tight_layout()\n",
    "    plt.show()\n",
    "\n",
    "# Generate visualization\n",
    "key, subkey = jax.random.split(key)\n",
    "print(\"\\nFull Forward and Reverse Process:\")\n",
    "plot_forward_and_reverse(model, diffusion, images_test[0], subkey)"
   ]
  },
  {
   "cell_type": "markdown",
   "metadata": {
    "id": "o43bRWpiM6Mt"
   },
   "source": [
    "## Summary\n",
    "This tutorial demonstrated the implementation of a diffusion model using JAX and Flax libraries. You explored the U-Net architecture with attention mechanisms, efficient training strategies using JIT compilation, and comprehensive visualization techniques for the diffusion process. The implementation showcases JAX's powerful features for high-performance machine learning, including automatic differentiation, vectorization, and just-in-time compilation.\n",
    "\n",
    "Check the [JAX documentation](https://jax.readthedocs.io/en/latest/) for more tutorials and experiments with the JAX stack."
   ]
  }
 ],
 "metadata": {
  "accelerator": "TPU",
  "colab": {
   "gpuType": "V28",
   "machine_shape": "hm",
   "provenance": []
  },
  "jupytext": {
   "formats": "ipynb,md:myst"
  },
  "kernelspec": {
   "display_name": "Python 3",
   "name": "python3"
  },
  "language_info": {
   "name": "python",
   "version": "3.11.9"
  }
 },
 "nbformat": 4,
 "nbformat_minor": 0
}
