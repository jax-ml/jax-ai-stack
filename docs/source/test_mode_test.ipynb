{
 "cells": [
  {
   "cell_type": "code",
   "execution_count": null,
   "metadata": {},
   "outputs": [],
   "source": [
    "# Tests that CI substitutes False with True\n",
    "JAS_TEST_MODE = False\n",
    "JAS_TEST_MODE"
   ]
  }
 ],
 "metadata": {
  "jupytext": {
   "formats": "ipynb,md",
   "main_language": "python"
  },
  "language_info": {
   "name": "python"
  },
  "nbsphinx": {
   "orphan": true
  },
  "nbreg": {
    "diff_ignore": ["/cells/0/execution_count", "/cells/0/outputs", "/metadata"]
  }
 },
 "nbformat": 4,
 "nbformat_minor": 5
}
