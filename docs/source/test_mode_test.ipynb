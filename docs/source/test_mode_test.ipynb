{
 "cells": [
  {
   "cell_type": "code",
   "execution_count": null,
   "id": "4765c6f3",
   "metadata": {},
   "outputs": [],
   "source": [
    "# Tests that CI sets the test mode environment variable\n",
    "import os\n",
    "test_mode = os.environ.get('AI_STACK_TEST_MODE', False)\n",
    "assert test_mode"
   ]
  }
 ],
 "metadata": {
  "jupytext": {
   "formats": "ipynb,md",
   "main_language": "python"
  },
  "language_info": {
   "name": "python"
  },
  "nbreg": {
   "diff_ignore": [
    "/cells/0/execution_count",
    "/cells/0/outputs",
    "/metadata"
   ]
  },
  "nbsphinx": {
   "orphan": true
  }
 },
 "nbformat": 4,
 "nbformat_minor": 5
}
