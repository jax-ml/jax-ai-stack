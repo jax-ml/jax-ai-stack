{
 "cells": [
  {
   "cell_type": "markdown",
   "id": "072f8ce2-7014-4f04-83a6-96953e9c8a79",
   "metadata": {},
   "source": [
    "# Basic text classification with 1D CNN\n",
    "\n",
    "[![Open in Colab](https://colab.research.google.com/assets/colab-badge.svg)](https://colab.research.google.com/github/jax-ml/jax-ai-stack/blob/main/docs/source/JAX_basic_text_classification.ipynb)\n",
    "\n",
    "In this tutorial we learn how to perform text classification from raw text data and train a basic 1D Convolutional Neural Network to perform sentiment analysis using JAX. This tutorial is originally inspired by [\"Text classification from scratch with Keras\"](https://keras.io/examples/nlp/text_classification_from_scratch/#build-a-model).\n",
    "\n",
    "We will use the IMDB movie review dataset to classify the review to \"positive\" and \"negative\" classes. We implement from scratch a simple model using Flax, train it and compute metrics on the test set."
   ]
  },
  {
   "cell_type": "markdown",
   "id": "ef7f5048-87d4-4578-a8ef-6fd8a9bad28e",
   "metadata": {},
   "source": [
    "## Setup\n",
    "\n",
    "We will be using the following packages in this tutorial:\n",
    "- [Tiktoken](https://github.com/openai/tiktoken) to tokenize the raw text\n",
    "- [Grain](https://github.com/google/grain) for efficient data loading and batching\n",
    "- [tqdm](https://tqdm.github.io/) for a progress bar to monitor the training progress."
   ]
  },
  {
   "cell_type": "code",
   "execution_count": 1,
   "id": "03e6ca8e-7a5e-4451-a1d6-699ddb1496eb",
   "metadata": {},
   "outputs": [
    {
     "name": "stdout",
     "output_type": "stream",
     "text": [
      "Requirement already satisfied: grain in /opt/conda/lib/python3.11/site-packages (0.2.2)\n",
      "Requirement already satisfied: tiktoken in /opt/conda/lib/python3.11/site-packages (0.8.0)\n",
      "Requirement already satisfied: tqdm in /opt/conda/lib/python3.11/site-packages (4.66.4)\n",
      "Requirement already satisfied: absl-py in /opt/conda/lib/python3.11/site-packages (from grain) (2.1.0)\n",
      "Requirement already satisfied: array-record in /opt/conda/lib/python3.11/site-packages (from grain) (0.5.1)\n",
      "Requirement already satisfied: cloudpickle in /opt/conda/lib/python3.11/site-packages (from grain) (3.1.0)\n",
      "Requirement already satisfied: dm-tree in /opt/conda/lib/python3.11/site-packages (from grain) (0.1.8)\n",
      "Requirement already satisfied: etils[epath,epy] in /opt/conda/lib/python3.11/site-packages (from grain) (1.9.4)\n",
      "Requirement already satisfied: jaxtyping in /opt/conda/lib/python3.11/site-packages (from grain) (0.2.34)\n",
      "Requirement already satisfied: more-itertools>=9.1.0 in /opt/conda/lib/python3.11/site-packages (from grain) (10.1.0)\n",
      "Requirement already satisfied: numpy in /opt/conda/lib/python3.11/site-packages (from grain) (1.26.4)\n",
      "Requirement already satisfied: regex>=2022.1.18 in /opt/conda/lib/python3.11/site-packages (from tiktoken) (2024.11.6)\n",
      "Requirement already satisfied: requests>=2.26.0 in /opt/conda/lib/python3.11/site-packages (from tiktoken) (2.32.3)\n",
      "Requirement already satisfied: charset-normalizer<4,>=2 in /opt/conda/lib/python3.11/site-packages (from requests>=2.26.0->tiktoken) (2.0.4)\n",
      "Requirement already satisfied: idna<4,>=2.5 in /opt/conda/lib/python3.11/site-packages (from requests>=2.26.0->tiktoken) (3.7)\n",
      "Requirement already satisfied: urllib3<3,>=1.21.1 in /opt/conda/lib/python3.11/site-packages (from requests>=2.26.0->tiktoken) (2.2.2)\n",
      "Requirement already satisfied: certifi>=2017.4.17 in /opt/conda/lib/python3.11/site-packages (from requests>=2.26.0->tiktoken) (2024.7.4)\n",
      "Requirement already satisfied: fsspec in /opt/conda/lib/python3.11/site-packages (from etils[epath,epy]->grain) (2024.9.0)\n",
      "Requirement already satisfied: importlib_resources in /opt/conda/lib/python3.11/site-packages (from etils[epath,epy]->grain) (6.4.5)\n",
      "Requirement already satisfied: typing_extensions in /opt/conda/lib/python3.11/site-packages (from etils[epath,epy]->grain) (4.11.0)\n",
      "Requirement already satisfied: zipp in /opt/conda/lib/python3.11/site-packages (from etils[epath,epy]->grain) (3.20.2)\n",
      "Requirement already satisfied: typeguard==2.13.3 in /opt/conda/lib/python3.11/site-packages (from jaxtyping->grain) (2.13.3)\n",
      "\u001b[33mWARNING: Running pip as the 'root' user can result in broken permissions and conflicting behaviour with the system package manager. It is recommended to use a virtual environment instead: https://pip.pypa.io/warnings/venv\u001b[0m\u001b[33m\n",
      "\u001b[0m"
     ]
    }
   ],
   "source": [
    "!pip install grain tiktoken tqdm"
   ]
  },
  {
   "cell_type": "markdown",
   "id": "86b04d7d-2011-4c57-8976-c0a3746c9374",
   "metadata": {},
   "source": [
    "### Load the data: IMDB movie review sentiment classification\n",
    "\n",
    "Let us download the dataset and briefly inspect the structure. We will be using only two classes: \"positive\" and \"negative\" for the sentiment analysis."
   ]
  },
  {
   "cell_type": "code",
   "execution_count": 2,
   "id": "f211f467-9c07-45f6-89aa-6ebef42df27a",
   "metadata": {},
   "outputs": [
    {
     "name": "stdout",
     "output_type": "stream",
     "text": [
      "--2024-11-18 16:58:00--  https://ai.stanford.edu/~amaas/data/sentiment/aclImdb_v1.tar.gz\n",
      "Resolving ai.stanford.edu (ai.stanford.edu)... 171.64.68.10\n",
      "Connecting to ai.stanford.edu (ai.stanford.edu)|171.64.68.10|:443... connected.\n",
      "HTTP request sent, awaiting response... 200 OK\n",
      "Length: 84125825 (80M) [application/x-gzip]\n",
      "Saving to: ‘/tmp/data/imdb/aclImdb_v1.tar.gz’\n",
      "\n",
      "/tmp/data/imdb/aclI 100%[===================>]  80.23M  17.8MB/s    in 8.8s    \n",
      "\n",
      "2024-11-18 16:58:09 (9.13 MB/s) - ‘/tmp/data/imdb/aclImdb_v1.tar.gz’ saved [84125825/84125825]\n",
      "\n"
     ]
    }
   ],
   "source": [
    "!rm -rf /tmp/data/imdb\n",
    "!mkdir -p /tmp/data/imdb\n",
    "!wget https://ai.stanford.edu/~amaas/data/sentiment/aclImdb_v1.tar.gz -O /tmp/data/imdb/aclImdb_v1.tar.gz\n",
    "!cd /tmp/data/imdb/ && tar -xf aclImdb_v1.tar.gz"
   ]
  },
  {
   "cell_type": "code",
   "execution_count": 3,
   "id": "b0f91f70-9f10-43f0-a289-f17a66ba9906",
   "metadata": {},
   "outputs": [
    {
     "name": "stdout",
     "output_type": "stream",
     "text": [
      "Number of positive samples in train set:\n",
      "12500\n",
      "Number of negative samples in train set:\n",
      "12500\n",
      "Number of positive samples in test set:\n",
      "12500\n",
      "Number of negative samples in test set:\n",
      "12500\n",
      "First 10 files with positive samples in train/test sets:\n",
      "0_9.txt\n",
      "10000_8.txt\n",
      "10001_10.txt\n",
      "10002_7.txt\n",
      "10003_8.txt\n",
      "10004_8.txt\n",
      "10005_7.txt\n",
      "10006_7.txt\n",
      "10007_7.txt\n",
      "10008_7.txt\n",
      "ls: write error: Broken pipe\n",
      "0_10.txt\n",
      "10000_7.txt\n",
      "10001_9.txt\n",
      "10002_8.txt\n",
      "10003_8.txt\n",
      "10004_9.txt\n",
      "10005_8.txt\n",
      "10006_7.txt\n",
      "10007_10.txt\n",
      "10008_8.txt\n",
      "ls: write error: Broken pipe\n",
      "Display a single positive sample:\n",
      "Being an Austrian myself this has been a straight knock in my face. Fortunately I don't live nowhere near the place where this movie takes place but unfortunately it portrays everything that the rest of Austria hates about Viennese people (or people close to that region). And it is very easy to read that this is exactly the directors intention: to let your head sink into your hands and say \"Oh my god, how can THAT be possible!\". No, not with me, the (in my opinion) totally exaggerated uncensored swinger club scene is not necessary, I watch porn, sure, but in this context I was rather disgusted than put in the right context.<br /><br />This movie tells a story about how misled people who suffer from lack of education or bad company try to survive and live in a world of redundancy and boring horizons. A girl who is treated like a whore by her super-jealous boyfriend (and still keeps coming back), a female teacher who discovers her masochism by putting the life of her super-cruel \"lover\" on the line, an old couple who has an almost mathematical daily cycle (she is the \"official replacement\" of his ex wife), a couple that has just divorced and has the ex husband suffer under the acts of his former wife obviously having a relationship with her masseuse and finally a crazy hitchhiker who asks her drivers the most unusual questions and stretches their nerves by just being super-annoying.<br /><br />After having seen it you feel almost nothing. You're not even shocked, sad, depressed or feel like doing anything... Maybe that's why I gave it 7 points, it made me react in a way I never reacted before. If that's good or bad is up to you!"
     ]
    }
   ],
   "source": [
    "!echo \"Number of positive samples in train set:\"\n",
    "!ls /tmp/data/imdb/aclImdb/train/pos | wc -l\n",
    "!echo \"Number of negative samples in train set:\"\n",
    "!ls /tmp/data/imdb/aclImdb/train/neg | wc -l\n",
    "!echo \"Number of positive samples in test set:\"\n",
    "!ls /tmp/data/imdb/aclImdb/test/pos | wc -l\n",
    "!echo \"Number of negative samples in test set:\"\n",
    "!ls /tmp/data/imdb/aclImdb/test/neg | wc -l\n",
    "!echo \"First 10 files with positive samples in train/test sets:\"\n",
    "!ls /tmp/data/imdb/aclImdb/train/pos | head\n",
    "!ls /tmp/data/imdb/aclImdb/test/pos | head\n",
    "!echo \"Display a single positive sample:\"\n",
    "!cat /tmp/data/imdb/aclImdb/train/pos/6248_7.txt"
   ]
  },
  {
   "cell_type": "markdown",
   "id": "830d0e88-9d28-4c26-8cf1-842b65c8c85c",
   "metadata": {},
   "source": [
    "Next, we will:\n",
    "- create the dataset Python class to read samples from the disk\n",
    "- use [Tiktoken](https://github.com/openai/tiktoken) to encode raw text into tokens and\n",
    "- use [Grain](https://github.com/google/grain) for efficient data loading and batching."
   ]
  },
  {
   "cell_type": "code",
   "execution_count": 4,
   "id": "4a1eceb5-4719-40da-ba81-9060920a7ef1",
   "metadata": {},
   "outputs": [
    {
     "name": "stdout",
     "output_type": "stream",
     "text": [
      "- Number of samples in train and test sets: 25000 25000\n",
      "- First train sample: {'text': \"Preston Waters, a 11 years old boy,has problems with his parents and brothers specially because of money issues. He is crazy to have his own house and his own rules,since his brothers always stole his saved money and his parents neglect his wishes. One awful day, Preston was riding his bicycle; It was the same day that the villain of the story,Quigley, was trying to scape from the Police and accidentally ran the car over Preston's bike. Needing to be far away from the police, Quigley gives in a hurry, a check to cover the damages of Preston's bike. The problem was: It was a blank check! Preston is a clever boy and decides to have a high price on that check: 1 million dollars! All that money gives Preston things that he always wished for, like a mansion with pool,lots of toys, and even a limousine! The problems start to begin when the FBI and Quigley wants to know where the money is, making Preston in a hard situation and facing many problems.<br /><br />This movie was one of my favorites during my childhood. :)\", 'label': 0}\n",
      "- First test sample: {'text': \"I think I was recommended this film by the lady in the shop I was hiring it from! For once she was bang on! What a superb film! First of all I was convinced James McAvoy & Romola Garai were Irish so convincing were their accents; and by half way through the film I was utterly convinced Steven Robertson was a disabled actor and pretty sure James McAvoy was also! When I watched the special features on the DVD and saw both actors in their 'normal' guise, to say I was blown away would be an understatement!!! I can remember all the acclaim Dustin Hoffmann got back in the 80's for his portrayal of autism in the film 'Rain Man' - quite frankly (in my opinion of course!)Steven Robertson's performance/portrayal blows Dustin Hoffmann's right out of the water - and he deserves recognition as such!! All in all one of the greatest portrayals of human friendship/love/relationships ever - and it was made in Britain/Ireland with home grown actors - stick that in yer pipe and smoke it Hollywood!\", 'label': 0}\n"
     ]
    }
   ],
   "source": [
    "from pathlib import Path\n",
    "\n",
    "\n",
    "class SentimentAnalysisDataset:\n",
    "    def __init__(self, path: str | Path):\n",
    "        self.path = Path(path)\n",
    "        assert self.path.exists()\n",
    "\n",
    "        pos_texts = list((self.path / \"pos\").glob(\"*.txt\"))\n",
    "        neg_texts = list((self.path / \"neg\").glob(\"*.txt\"))\n",
    "        self.text_files = pos_texts + neg_texts\n",
    "        assert len(self.text_files) > 0\n",
    "        # Label 0 for Positive comments\n",
    "        # Label 1 for Negative comments\n",
    "        self.labels = [0] * len(pos_texts) + [1] * len(neg_texts)\n",
    "\n",
    "    def __len__(self) -> int:\n",
    "        return len(self.text_files)\n",
    "\n",
    "    def read_text_file(self, path: str | Path) -> str:\n",
    "        with open(path, \"r\") as handler:\n",
    "            lines = handler.readlines()\n",
    "        return \"\\n\".join(lines)\n",
    "\n",
    "    def __getitem__(self, index: int) -> tuple[str, int]:\n",
    "        label = self.labels[index]\n",
    "        text = self.read_text_file(self.text_files[index])\n",
    "        return {\"text\": text, \"label\": label}\n",
    "\n",
    "\n",
    "root_path = Path(\"/tmp/data/imdb/aclImdb/\")\n",
    "train_dataset = SentimentAnalysisDataset(root_path / \"train\")\n",
    "test_dataset = SentimentAnalysisDataset(root_path / \"test\")\n",
    "\n",
    "print(\"- Number of samples in train and test sets:\", len(train_dataset), len(test_dataset))\n",
    "print(\"- First train sample:\", train_dataset[0])\n",
    "print(\"- First test sample:\", test_dataset[0])"
   ]
  },
  {
   "cell_type": "markdown",
   "id": "a82f87d5-9bbf-4097-9baf-001e1f368561",
   "metadata": {},
   "source": [
    "Now, we can create a string-to-tokens preprocessing transformation and set up data loaders. We are going to use the GPT-2 tokenizer via [Tiktoken](https://github.com/openai/tiktoken)."
   ]
  },
  {
   "cell_type": "code",
   "execution_count": 5,
   "id": "75f77d72-b73f-41f0-a24c-2e37f3e463a8",
   "metadata": {},
   "outputs": [],
   "source": [
    "import numpy as np\n",
    "\n",
    "import tiktoken\n",
    "import grain.python as grain\n",
    "\n",
    "\n",
    "seed = 12\n",
    "train_batch_size = 128\n",
    "test_batch_size = 2 * train_batch_size\n",
    "tokenizer = tiktoken.get_encoding(\"gpt2\")\n",
    "# max length of tokenized text\n",
    "max_length = 500\n",
    "vocab_size = tokenizer.n_vocab\n",
    "\n",
    "\n",
    "class TextPreprocessing(grain.MapTransform):\n",
    "    def __init__(self, tokenizer, max_length: int = 256):\n",
    "        self.tokenizer = tokenizer\n",
    "        self.max_length = max_length\n",
    "\n",
    "    def map(self, data):\n",
    "        text = data[\"text\"]\n",
    "        encoded = self.tokenizer.encode(text)\n",
    "        # Cut to max length\n",
    "        encoded = encoded[:self.max_length]\n",
    "        # Pad with zeros if needed\n",
    "        encoded = np.array(encoded + [0] * (self.max_length - len(encoded)))\n",
    "        return {\n",
    "            \"text\": encoded,\n",
    "            \"label\": data[\"label\"],\n",
    "        }\n",
    "\n",
    "\n",
    "train_sampler = grain.IndexSampler(\n",
    "    len(train_dataset),\n",
    "    shuffle=True,\n",
    "    seed=seed,\n",
    "    shard_options=grain.NoSharding(),  # No sharding since this is a single-device setup\n",
    "    num_epochs=1,                      # Iterate over the dataset for one epoch\n",
    ")\n",
    "\n",
    "test_sampler = grain.IndexSampler(\n",
    "    len(test_dataset),\n",
    "    shuffle=False,\n",
    "    seed=seed,\n",
    "    shard_options=grain.NoSharding(),  # No sharding since this is a single-device setup\n",
    "    num_epochs=1,                      # Iterate over the dataset for one epoch\n",
    ")\n",
    "\n",
    "\n",
    "train_loader = grain.DataLoader(\n",
    "    data_source=train_dataset,\n",
    "    sampler=train_sampler,                 # Sampler to determine how to access the data\n",
    "    worker_count=4,                        # Number of child processes launched to parallelize the transformations among\n",
    "    worker_buffer_size=2,                  # Count of output batches to produce in advance per worker\n",
    "    operations=[\n",
    "        TextPreprocessing(tokenizer, max_length=max_length),\n",
    "        grain.Batch(train_batch_size, drop_remainder=True),\n",
    "    ]\n",
    ")\n",
    "\n",
    "test_loader = grain.DataLoader(\n",
    "    data_source=test_dataset,\n",
    "    sampler=test_sampler,                  # Sampler to determine how to access the data\n",
    "    worker_count=4,                        # Number of child processes launched to parallelize the transformations among\n",
    "    worker_buffer_size=2,                  # Count of output batches to produce in advance per worker\n",
    "    operations=[\n",
    "        TextPreprocessing(tokenizer, max_length=max_length),\n",
    "        grain.Batch(test_batch_size),\n",
    "    ]\n",
    ")"
   ]
  },
  {
   "cell_type": "code",
   "execution_count": 6,
   "id": "7382398d-2304-436c-9e79-2487f6a4d21a",
   "metadata": {},
   "outputs": [],
   "source": [
    "train_batch = next(iter(train_loader))"
   ]
  },
  {
   "cell_type": "code",
   "execution_count": 7,
   "id": "0c3da4d2-70f5-45a7-a72c-ceca0eca65ab",
   "metadata": {},
   "outputs": [
    {
     "name": "stdout",
     "output_type": "stream",
     "text": [
      "Train encoded text batch info: <class 'grain._src.python.shared_memory_array.SharedMemoryArray'> (128, 500) int64\n",
      "Train labels batch info: <class 'grain._src.python.shared_memory_array.SharedMemoryArray'> (128,) int64\n"
     ]
    }
   ],
   "source": [
    "print(\"Train encoded text batch info:\", type(train_batch[\"text\"]), train_batch[\"text\"].shape, train_batch[\"text\"].dtype)\n",
    "print(\"Train labels batch info:\", type(train_batch[\"label\"]), train_batch[\"label\"].shape, train_batch[\"label\"].dtype)"
   ]
  },
  {
   "cell_type": "markdown",
   "id": "0129084e-a28a-4612-bc54-28c8a4a84c9b",
   "metadata": {},
   "source": [
    "Let's check few samples of the training batch. We expect to see integer tokens for the input text and integer value for the labels:"
   ]
  },
  {
   "cell_type": "code",
   "execution_count": 8,
   "id": "cd6606ff-eb64-4dc6-b7bc-21f6eb540aaf",
   "metadata": {},
   "outputs": [
    {
     "name": "stdout",
     "output_type": "stream",
     "text": [
      "Train batch data: [[  464  8258  2128   326   345   743  3285   618   345 16067   439   428]\n",
      " [ 5297    11   428  3180   257  9961 43469  2646   290   340   373   257]] [1 0]\n"
     ]
    }
   ],
   "source": [
    "print(\"Train batch data:\", train_batch[\"text\"][:2, :12], train_batch[\"label\"][:2])"
   ]
  },
  {
   "cell_type": "markdown",
   "id": "7e5c502c-7fd0-4f10-a0d5-007f9bc139a4",
   "metadata": {},
   "source": [
    "## Model for text classification\n",
    "\n",
    "We choose a simple 1D convnet to classify the text. The first layer of the model transforms input tokens into float features using an embedding layer (`nnx.Embed`), then they are encoded further with convolutions. Finally, we classify encoded features using fully-connected layers."
   ]
  },
  {
   "cell_type": "code",
   "execution_count": 9,
   "id": "1546b8d0-9c0c-4970-a8b6-67276fb08e2a",
   "metadata": {},
   "outputs": [
    {
     "name": "stdout",
     "output_type": "stream",
     "text": [
      "Prediction shape (N, num_classes):  (4, 2)\n"
     ]
    }
   ],
   "source": [
    "from typing import Callable\n",
    "\n",
    "import jax\n",
    "import jax.numpy as jnp\n",
    "from flax import nnx\n",
    "\n",
    "\n",
    "class TextConvNet(nnx.Module):\n",
    "    def __init__(\n",
    "        self,\n",
    "        vocab_size: int,\n",
    "        num_classes: int = 2,\n",
    "        embed_dim: int = 256,\n",
    "        hidden_dim: int = 320,\n",
    "        dropout_rate: float = 0.5,\n",
    "        conv_ksize: int = 12,\n",
    "        activation_layer: Callable = nnx.relu,\n",
    "        rngs: nnx.Rngs = nnx.Rngs(0),\n",
    "    ):\n",
    "        self.activation_layer = activation_layer\n",
    "        self.token_embedding = nnx.Embed(\n",
    "            num_embeddings=vocab_size,\n",
    "            features=embed_dim,\n",
    "            rngs=rngs,\n",
    "        )\n",
    "        self.dropout = nnx.Dropout(dropout_rate, rngs=rngs)\n",
    "        self.conv1 = nnx.Conv(\n",
    "            in_features=embed_dim,\n",
    "            out_features=hidden_dim,\n",
    "            kernel_size=conv_ksize,\n",
    "            strides=conv_ksize // 2,\n",
    "            rngs=rngs,\n",
    "        )\n",
    "        self.lnorm1 = nnx.LayerNorm(hidden_dim, rngs=rngs)\n",
    "        self.conv2 = nnx.Conv(\n",
    "            in_features=hidden_dim,\n",
    "            out_features=hidden_dim,\n",
    "            kernel_size=conv_ksize,\n",
    "            strides=conv_ksize // 2,\n",
    "            rngs=rngs,\n",
    "        )\n",
    "        self.lnorm2 = nnx.LayerNorm(hidden_dim, rngs=rngs)\n",
    "\n",
    "        self.fc1 = nnx.Linear(hidden_dim, hidden_dim, rngs=rngs)\n",
    "        self.fc2 = nnx.Linear(hidden_dim, num_classes, rngs=rngs)\n",
    "\n",
    "    def __call__(self, x: jax.Array) -> jax.Array:\n",
    "        # x.shape: (N, max_length)\n",
    "        x = self.token_embedding(x)\n",
    "        x = self.dropout(x)   # x.shape: (N, max_length, embed_dim)\n",
    "\n",
    "        x = self.conv1(x)\n",
    "        x = self.lnorm1(x)\n",
    "        x = self.activation_layer(x)\n",
    "        x = self.conv2(x)\n",
    "        x = self.lnorm2(x)\n",
    "        x = self.activation_layer(x)  # x.shape: (N, K, hidden_dim)\n",
    "\n",
    "        x = nnx.max_pool(x, window_shape=(x.shape[1], ))  # x.shape: (N, 1, hidden_dim)\n",
    "        x = x.reshape((-1, x.shape[-1]))  # x.shape: (N, hidden_dim)\n",
    "\n",
    "        x = self.fc1(x)  # x.shape: (N, hidden_dim)\n",
    "        x = self.activation_layer(x)\n",
    "        x = self.dropout(x)\n",
    "        x = self.fc2(x)  # x.shape: (N, 2)\n",
    "\n",
    "        return x\n",
    "\n",
    "\n",
    "# Let's check the model on a dummy input\n",
    "x = jnp.ones((4, max_length), dtype=\"int32\")\n",
    "module = TextConvNet(vocab_size)\n",
    "y = module(x)\n",
    "print(\"Prediction shape (N, num_classes): \", y.shape)"
   ]
  },
  {
   "cell_type": "code",
   "execution_count": 30,
   "id": "39ff08da-dbcf-408d-a103-12b06229e834",
   "metadata": {},
   "outputs": [],
   "source": [
    "model = TextConvNet(\n",
    "    vocab_size,\n",
    "    num_classes=2,\n",
    "    embed_dim=128,\n",
    "    hidden_dim=128,\n",
    "    conv_ksize=7,\n",
    "    activation_layer=nnx.relu,\n",
    ")"
   ]
  },
  {
   "cell_type": "markdown",
   "id": "00215ea2-4fa3-43e5-b64c-0bfb4b667d13",
   "metadata": {},
   "source": [
    "## Train the model\n",
    "\n",
    "We can now train the model using training data loader and compute metrics: accuracy and loss on test data loader.\n",
    "Below we set up the optimizer and define the loss function as Cross-Entropy.\n",
    "Next, we define the train step where we compute the loss value and update the model parameters.\n",
    "In the eval step we use the model to compute the metrics: accuracy and loss value."
   ]
  },
  {
   "cell_type": "code",
   "execution_count": 31,
   "id": "6d9f4756-4e64-49d1-81dd-20c0e0480dd0",
   "metadata": {},
   "outputs": [],
   "source": [
    "import optax\n",
    "\n",
    "\n",
    "num_epochs = 10\n",
    "learning_rate = 0.0005\n",
    "momentum = 0.9\n",
    "\n",
    "optimizer = nnx.Optimizer(model, optax.adam(learning_rate, momentum))"
   ]
  },
  {
   "cell_type": "code",
   "execution_count": 32,
   "id": "3fb1599e-c4cc-4d52-bf0a-1a9e7be043ee",
   "metadata": {},
   "outputs": [],
   "source": [
    "def compute_losses_and_logits(model: nnx.Module, batch_tokens: jax.Array, labels: jax.Array):\n",
    "    logits = model(batch_tokens)\n",
    "\n",
    "    loss = optax.softmax_cross_entropy_with_integer_labels(\n",
    "        logits=logits, labels=labels\n",
    "    ).mean()\n",
    "    return loss, logits"
   ]
  },
  {
   "cell_type": "code",
   "execution_count": 33,
   "id": "f526aaf5-80c3-4b6a-b82a-cdd0d8c180c7",
   "metadata": {},
   "outputs": [],
   "source": [
    "@nnx.jit\n",
    "def train_step(\n",
    "    model: nnx.Module, optimizer: nnx.Optimizer, batch: dict[str, jax.Array]\n",
    "):\n",
    "    # Convert numpy arrays to jax.Array on GPU\n",
    "    batch_tokens = jnp.array(batch[\"text\"])\n",
    "    labels = jnp.array(batch[\"label\"], dtype=jnp.int32)\n",
    "\n",
    "    grad_fn = nnx.value_and_grad(compute_losses_and_logits, has_aux=True)\n",
    "    (loss, logits), grads = grad_fn(model, batch_tokens, labels)\n",
    "\n",
    "    optimizer.update(grads)  # In-place updates.\n",
    "\n",
    "    return loss\n",
    "\n",
    "\n",
    "@nnx.jit\n",
    "def eval_step(\n",
    "    model: nnx.Module, batch: dict[str, jax.Array], eval_metrics: nnx.MultiMetric\n",
    "):\n",
    "    # Convert numpy arrays to jax.Array on GPU\n",
    "    batch_tokens = jnp.array(batch[\"text\"])\n",
    "    labels = jnp.array(batch[\"label\"], dtype=jnp.int32)\n",
    "    loss, logits = compute_losses_and_logits(model, batch_tokens, labels)\n",
    "\n",
    "    eval_metrics.update(\n",
    "        loss=loss,\n",
    "        logits=logits,\n",
    "        labels=labels,\n",
    "    )"
   ]
  },
  {
   "cell_type": "code",
   "execution_count": 34,
   "id": "cf8c8601-5261-4c9a-8d74-192504bd3836",
   "metadata": {},
   "outputs": [],
   "source": [
    "eval_metrics = nnx.MultiMetric(\n",
    "    loss=nnx.metrics.Average('loss'),\n",
    "    accuracy=nnx.metrics.Accuracy(),\n",
    ")\n",
    "\n",
    "\n",
    "train_metrics_history = {\n",
    "    \"train_loss\": [],\n",
    "}\n",
    "\n",
    "eval_metrics_history = {\n",
    "    \"test_loss\": [],\n",
    "    \"test_accuracy\": [],\n",
    "}"
   ]
  },
  {
   "cell_type": "code",
   "execution_count": 35,
   "id": "4fe942f3-13e6-4e8c-87f8-06c62ef25c82",
   "metadata": {},
   "outputs": [],
   "source": [
    "import tqdm\n",
    "\n",
    "\n",
    "bar_format = \"{desc}[{n_fmt}/{total_fmt}]{postfix} [{elapsed}<{remaining}]\"\n",
    "train_total_steps = len(train_dataset) // train_batch_size\n",
    "\n",
    "\n",
    "def train_one_epoch(epoch):\n",
    "    model.train()  # Set model to the training mode: e.g. update batch statistics\n",
    "    with tqdm.tqdm(\n",
    "        desc=f\"[train] epoch: {epoch}/{num_epochs}, \",\n",
    "        total=train_total_steps,\n",
    "        bar_format=bar_format,\n",
    "        leave=True,\n",
    "    ) as pbar:\n",
    "        for batch in train_loader:\n",
    "            loss = train_step(model, optimizer, batch)\n",
    "            train_metrics_history[\"train_loss\"].append(loss.item())\n",
    "            pbar.set_postfix({\"loss\": loss.item()})\n",
    "            pbar.update(1)\n",
    "\n",
    "\n",
    "def evaluate_model(epoch):\n",
    "    # Compute the metrics on the train and val sets after each training epoch.\n",
    "    model.eval()  # Set model to evaluation model: e.g. use stored batch statistics\n",
    "\n",
    "    eval_metrics.reset()  # Reset the eval metrics\n",
    "    for test_batch in test_loader:\n",
    "        eval_step(model, test_batch, eval_metrics)\n",
    "\n",
    "    for metric, value in eval_metrics.compute().items():\n",
    "        eval_metrics_history[f'test_{metric}'].append(value)\n",
    "\n",
    "    print(f\"[test] epoch: {epoch + 1}/{num_epochs}\")\n",
    "    print(f\"- total loss: {eval_metrics_history['test_loss'][-1]:0.4f}\")\n",
    "    print(f\"- Accuracy: {eval_metrics_history['test_accuracy'][-1]:0.4f}\")"
   ]
  },
  {
   "cell_type": "markdown",
   "id": "21d76e88-a037-431a-80aa-fc43f79768c7",
   "metadata": {},
   "source": [
    "Now, we can start the training."
   ]
  },
  {
   "cell_type": "code",
   "execution_count": 36,
   "id": "7e37b8b4-9e11-4f10-874c-da66723b5ef3",
   "metadata": {},
   "outputs": [
    {
     "name": "stderr",
     "output_type": "stream",
     "text": [
      "[train] epoch: 0/10, [192/195], loss=0.697 [00:05<00:00]\n"
     ]
    },
    {
     "name": "stdout",
     "output_type": "stream",
     "text": [
      "[test] epoch: 1/10\n",
      "- total loss: 0.6923\n",
      "- Accuracy: 0.5106\n"
     ]
    },
    {
     "name": "stderr",
     "output_type": "stream",
     "text": [
      "[train] epoch: 1/10, [192/195], loss=0.691 [00:03<00:00]\n"
     ]
    },
    {
     "name": "stdout",
     "output_type": "stream",
     "text": [
      "[test] epoch: 2/10\n",
      "- total loss: 0.6922\n",
      "- Accuracy: 0.5422\n"
     ]
    },
    {
     "name": "stderr",
     "output_type": "stream",
     "text": [
      "[train] epoch: 2/10, [192/195], loss=0.678 [00:03<00:00]\n"
     ]
    },
    {
     "name": "stdout",
     "output_type": "stream",
     "text": [
      "[test] epoch: 3/10\n",
      "- total loss: 0.6754\n",
      "- Accuracy: 0.6263\n"
     ]
    },
    {
     "name": "stderr",
     "output_type": "stream",
     "text": [
      "[train] epoch: 3/10, [192/195], loss=0.339 [00:03<00:00]\n"
     ]
    },
    {
     "name": "stdout",
     "output_type": "stream",
     "text": [
      "[test] epoch: 4/10\n",
      "- total loss: 0.4050\n",
      "- Accuracy: 0.8267\n"
     ]
    },
    {
     "name": "stderr",
     "output_type": "stream",
     "text": [
      "[train] epoch: 4/10, [192/195], loss=0.215 [00:03<00:00]\n"
     ]
    },
    {
     "name": "stdout",
     "output_type": "stream",
     "text": [
      "[test] epoch: 5/10\n",
      "- total loss: 0.3307\n",
      "- Accuracy: 0.8664\n"
     ]
    },
    {
     "name": "stderr",
     "output_type": "stream",
     "text": [
      "[train] epoch: 5/10, [192/195], loss=0.167 [00:03<00:00]\n"
     ]
    },
    {
     "name": "stdout",
     "output_type": "stream",
     "text": [
      "[test] epoch: 6/10\n",
      "- total loss: 0.3100\n",
      "- Accuracy: 0.8764\n"
     ]
    },
    {
     "name": "stderr",
     "output_type": "stream",
     "text": [
      "[train] epoch: 6/10, [192/195], loss=0.112 [00:03<00:00] \n"
     ]
    },
    {
     "name": "stdout",
     "output_type": "stream",
     "text": [
      "[test] epoch: 7/10\n",
      "- total loss: 0.3434\n",
      "- Accuracy: 0.8692\n"
     ]
    },
    {
     "name": "stderr",
     "output_type": "stream",
     "text": [
      "[train] epoch: 7/10, [192/195], loss=0.0814 [00:03<00:00]\n"
     ]
    },
    {
     "name": "stdout",
     "output_type": "stream",
     "text": [
      "[test] epoch: 8/10\n",
      "- total loss: 0.3653\n",
      "- Accuracy: 0.8760\n"
     ]
    },
    {
     "name": "stderr",
     "output_type": "stream",
     "text": [
      "[train] epoch: 8/10, [192/195], loss=0.0982 [00:03<00:00]\n"
     ]
    },
    {
     "name": "stdout",
     "output_type": "stream",
     "text": [
      "[test] epoch: 9/10\n",
      "- total loss: 0.4136\n",
      "- Accuracy: 0.8664\n"
     ]
    },
    {
     "name": "stderr",
     "output_type": "stream",
     "text": [
      "[train] epoch: 9/10, [192/195], loss=0.0731 [00:03<00:00]\n"
     ]
    },
    {
     "name": "stdout",
     "output_type": "stream",
     "text": [
      "[test] epoch: 10/10\n",
      "- total loss: 0.4443\n",
      "- Accuracy: 0.8664\n",
      "CPU times: user 25.8 s, sys: 3.42 s, total: 29.3 s\n",
      "Wall time: 1min 17s\n"
     ]
    }
   ],
   "source": [
    "%%time\n",
    "\n",
    "for epoch in range(num_epochs):\n",
    "    train_one_epoch(epoch)\n",
    "    evaluate_model(epoch)"
   ]
  },
  {
   "cell_type": "markdown",
   "id": "5f18cd48-fbc2-4ba2-80ba-3d124579844c",
   "metadata": {},
   "source": [
    "Let's visualize the collected metrics:"
   ]
  },
  {
   "cell_type": "code",
   "execution_count": 37,
   "id": "2e9bce0d-406f-47dc-9963-ce09f93c6290",
   "metadata": {},
   "outputs": [
    {
     "data": {
      "text/plain": [
       "<matplotlib.legend.Legend at 0x7f3fac195390>"
      ]
     },
     "execution_count": 37,
     "metadata": {},
     "output_type": "execute_result"
    },
    {
     "data": {
      "image/png": "[encoded data removed]",
      "text/plain": [
       "<Figure size 640x480 with 1 Axes>"
      ]
     },
     "metadata": {},
     "output_type": "display_data"
    }
   ],
   "source": [
    "import matplotlib.pyplot as plt\n",
    "\n",
    "\n",
    "plt.plot(train_metrics_history[\"train_loss\"], label=\"Loss value during the training\")\n",
    "plt.legend()"
   ]
  },
  {
   "cell_type": "code",
   "execution_count": 38,
   "id": "f3c2b7fd-965e-4440-8ad6-882e7d4ae104",
   "metadata": {},
   "outputs": [
    {
     "data": {
      "text/plain": [
       "[<matplotlib.lines.Line2D at 0x7f3f8c0ac410>]"
      ]
     },
     "execution_count": 38,
     "metadata": {},
     "output_type": "execute_result"
    },
    {
     "data": {
      "image/png": "[encoded data removed]",
      "text/plain": [
       "<Figure size 1000x1000 with 2 Axes>"
      ]
     },
     "metadata": {},
     "output_type": "display_data"
    }
   ],
   "source": [
    "fig, axs = plt.subplots(1, 2, figsize=(10, 10))\n",
    "axs[0].set_title(\"Loss value on test set\")\n",
    "axs[0].plot(eval_metrics_history[\"test_loss\"])\n",
    "axs[1].set_title(\"Accuracy on test set\")\n",
    "axs[1].plot(eval_metrics_history[\"test_accuracy\"])"
   ]
  },
  {
   "cell_type": "markdown",
   "id": "5dee1e2b-7dae-4af7-a4ad-bd81b9076cc9",
   "metadata": {},
   "source": [
    "We can observe that the model starts overfitting after the 5-th epoch and the best accuracy it could achieve is around 0.87. Let us also check few model's predictions on the test data:"
   ]
  },
  {
   "cell_type": "code",
   "execution_count": 58,
   "id": "959a55dc-2adb-4324-9b9e-114f773c5484",
   "metadata": {},
   "outputs": [],
   "source": [
    "data = test_dataset[10]"
   ]
  },
  {
   "cell_type": "code",
   "execution_count": 60,
   "id": "6540737e-2237-49da-a9a6-87468100f061",
   "metadata": {},
   "outputs": [
    {
     "name": "stdout",
     "output_type": "stream",
     "text": [
      "- Text:\n",
      " Let me say first off that I am a huge fan of the original series Lonesome Dove and the book it was based from. I have put off watching this sequel for the better part of 10 years due to the bad reviews I'd heard about it. If Tommy Lee Jones wasn't playing Capt. Call I didn't see the point. If Larry McMurtry wasn't involved why should I care? How wrong I was.<br /><br />This is in so many ways a worthy sequel to Lonesome Dove, maybe even more so than the dark mood of Streets Of Laredo. The story, acting, production, cinematography are all top-notch. Of course the script isn't as colorful as Lonesome Dove but it has it's moments. And, much to my surprise, there are bits of Lonesome Done in this series; the relationship between July and Clara, completely dismissed in the prequel, is brought up here almost identical to the book, a most welcome surprise. The story isn't all roses, it has it's surprises too. By far the biggest surprise is Jon Voight's interpretation of Capt. Call. While not a direct copy of Tommy Lee Jones' his is both faithful and unique to Voight's credit. The cast is fantastic all across the board, and I don't think Rick Schroeder has done a better job of acting than in this series. Oliver Reed practically steals the show here, he is superb in a role that makes you care for his character as equally as you hate him.<br /><br />It is worth it to watch this if you haven't due to bad criticisms, especially that the DVD is so affordable (I got the 2-disc set for $10.99, you can probably find it cheaper). It is in no way the disappointment that Dead Man's Walk turned out (well, it was for me). And MCMurtry was involved with that one!\n",
      "\n",
      "- Expected review sentiment: positive\n",
      "- Predicted review sentiment: positive, confidence: 0.897\n"
     ]
    }
   ],
   "source": [
    "text_processing = TextPreprocessing(tokenizer, max_length=max_length)\n",
    "processed_data = text_processing.map(data)\n",
    "model.eval()\n",
    "preds = model(processed_data[\"text\"][None, :])\n",
    "pred_label = preds.argmax(axis=-1).item()\n",
    "confidence = nnx.softmax(preds, axis=-1)\n",
    "\n",
    "print(\"- Text:\\n\", data[\"text\"])\n",
    "print(\"\")\n",
    "print(f\"- Expected review sentiment: {'positive' if data['label'] == 0 else 'negative'}\")\n",
    "print(f\"- Predicted review sentiment: {'positive' if pred_label == 0 else 'negative'}, confidence: {confidence[0, pred_label]:.3f}\")"
   ]
  },
  {
   "cell_type": "code",
   "execution_count": 65,
   "id": "a8cd4b5d-6361-406c-87db-2d35358e3199",
   "metadata": {},
   "outputs": [],
   "source": [
    "data = test_dataset[20]"
   ]
  },
  {
   "cell_type": "code",
   "execution_count": 66,
   "id": "4897165d-e5ef-4528-b3ea-43845dde6b3a",
   "metadata": {},
   "outputs": [
    {
     "name": "stdout",
     "output_type": "stream",
     "text": [
      "- Text:\n",
      " One of the best TV shows out there, if not the best one. Why? Simple: it has guts to show us real life in prison, without any clichés and predictable twists. This is not Prison Break or any other show, actually comparing to Oz the show Sopranos look like story for children's. Profanity, cursing, shots of explicit violence and using drugs, disgusting scenes of male sexual organs and rapes... all this and more in Oz. But this is not the best part of Oz; the characters are the strongest point of this show; they're all excellent and not annoying, despite the fact we are looking at brutal criminals. The actors are excellent, my favorite are the actors who are playing Ryan O'Reilly and Tobias Beecher, because they're so unique and changing their behavior completely. And most of all... the don't have no remorse for their actions. Overall... Oz is amazing show, the best one out there. Forget about CSI and shows about stupid doctors... this is the deal... OZ!\n",
      "\n",
      "- Expected review sentiment: positive\n",
      "- Predicted review sentiment: negative, confidence: 0.610\n"
     ]
    }
   ],
   "source": [
    "text_processing = TextPreprocessing(tokenizer, max_length=max_length)\n",
    "processed_data = text_processing.map(data)\n",
    "model.eval()\n",
    "preds = model(processed_data[\"text\"][None, :])\n",
    "pred_label = preds.argmax(axis=-1).item()\n",
    "confidence = nnx.softmax(preds, axis=-1)\n",
    "\n",
    "print(\"- Text:\\n\", data[\"text\"])\n",
    "print(\"\")\n",
    "print(f\"- Expected review sentiment: {'positive' if data['label'] == 0 else 'negative'}\")\n",
    "print(f\"- Predicted review sentiment: {'positive' if pred_label == 0 else 'negative'}, confidence: {confidence[0, pred_label]:.3f}\")"
   ]
  },
  {
   "cell_type": "markdown",
   "id": "c633f0db-057a-42d7-9c73-59b09712d160",
   "metadata": {},
   "source": [
    "## Further reading\n",
    "\n",
    "In this tutorial we implemented from scratch a simple convolutional neural network and trained it on a text classification dataset. Trained model shows 87% classification accuracy due to its convolutional nature. Next steps to improve the metrics could be to change the model to a transformer-based architecture.\n",
    "\n",
    "- Model checkpointing and exporting using [Orbax](https://orbax.readthedocs.io/en/latest/).\n",
    "- Other NLP tutorials in [jax-ai-stack](https://jax-ai-stack.readthedocs.io/en/latest/tutorials.html)."
   ]
  }
 ],
 "metadata": {
  "jupytext": {
   "formats": "ipynb,md:myst"
  },
  "kernelspec": {
   "display_name": "Python 3 (ipykernel)",
   "language": "python",
   "name": "python3"
  },
  "language_info": {
   "codemirror_mode": {
    "name": "ipython",
    "version": 3
   },
   "file_extension": ".py",
   "mimetype": "text/x-python",
   "name": "python",
   "nbconvert_exporter": "python",
   "pygments_lexer": "ipython3",
   "version": "3.11.9"
  }
 },
 "nbformat": 4,
 "nbformat_minor": 5
}
