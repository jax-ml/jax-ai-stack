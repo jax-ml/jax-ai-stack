{
 "cells": [
  {
   "cell_type": "markdown",
   "metadata": {
    "id": "QEhawzCcCcFR"
   },
   "source": [
    "#Using LoRA in Jax\n",
    "\n",
    "[![Open in Colab](https://colab.research.google.com/assets/colab-badge.svg)](https://colab.research.google.com/github/jax-ml/jax-ai-stack/blob/main/docs/source/JAX_using_LoRA.ipynb)\n",
    "\n",
    "\n",
    "This tutorial demonstrates how to implement LoRA for efficient fine-tuning of language models in JAX.\n",
    "It builds upon the [JAX for LLM pretraining](https://docs.jaxstack.ai/en/latest/JAX_for_LLM_pretraining.html) tutorial by showing how to replace standard linear\n",
    "layers with LoRA-enabled linear layers to significantly reduce the number of trainable parameters.\n",
    "\n",
    "LoRA (Low-Rank Adaptation) is a parameter-efficient fine-tuning technique that:\n",
    "- Keeps pre-trained model weights frozen\n",
    "- Adds small trainable low-rank decomposition matrices to certain layers\n",
    "- Drastically reduces the number of trainable parameters (often by 90%+)\n",
    "\n",
    "In the first chapter we will buildi a LoRA-enabled model from scratch, while the next chapter: \"2. Fine-tuning a pre-trained LLM with LoRA\" will demonstrate the more common and practical workflow of applying LoRA to existing pre-trained models.\n",
    "\n",
    "Both chapters show how to implement these techniques using JAX and Flax's NNX library."
   ]
  },
  {
   "cell_type": "markdown",
   "metadata": {
    "id": "NIOXoY1xgiww"
   },
   "source": [
    "# 1.Creating a LoRa enabled LLM in Jax from scratch\n",
    "\n",
    "In this chapter, we'll take an unconventional approach by implementing a language model with LoRA from scratch. This is different from standard practice, where LoRA is typically applied to already pre-trained models as a fine-tuning technique.\n",
    "\n",
    "Why are we doing it this way? While not the optimal approach to train a model that achives good preformace (as we'll see in our results), building from scratch makes the integration of LoRA components within the model architecture more clear.\n",
    "\n",
    "If you're interested in the more practical approach of applying LoRA to an existing pre-trained model, you can skip to the next chapter where we demonstrate that workflow."
   ]
  },
  {
   "cell_type": "markdown",
   "metadata": {
    "id": "hTmz5Cbco7n_"
   },
   "source": [
    "## Setup\n",
    "Install required packages"
   ]
  },
  {
   "cell_type": "code",
   "execution_count": 1,
   "metadata": {
    "colab": {
     "base_uri": "https://localhost:8080/"
    },
    "execution": {
     "iopub.execute_input": "2025-03-17T06:56:05.97404Z",
     "iopub.status.busy": "2025-03-17T06:56:05.973829Z",
     "iopub.status.idle": "2025-03-17T06:56:33.328581Z",
     "shell.execute_reply": "2025-03-17T06:56:33.32728Z",
     "shell.execute_reply.started": "2025-03-17T06:56:05.974017Z"
    },
    "id": "6zMsOIc7ouCO",
    "outputId": "40d84dff-b5c6-45ed-df08-fb22d3eeb01a"
   },
   "outputs": [
    {
     "name": "stdout",
     "output_type": "stream",
     "text": [
      "\u001b[?25l   \u001b[90m━━━━━━━━━━━━━━━━━━━━━━━━━━━━━━━━━━━━━━━━\u001b[0m \u001b[32m0.0/99.7 kB\u001b[0m \u001b[31m?\u001b[0m eta \u001b[36m-:--:--\u001b[0m\r\n",
      "\u001b[2K   \u001b[90m━━━━━━━━━━━━━━━━━━━━━━━━━━━━━━━━━━━━━━━━\u001b[0m \u001b[32m99.7/99.7 kB\u001b[0m \u001b[31m3.6 MB/s\u001b[0m eta \u001b[36m0:00:00\u001b[0m\n",
      "\u001b[?25h\u001b[?25l   \u001b[90m━━━━━━━━━━━━━━━━━━━━━━━━━━━━━━━━━━━━━━━━\u001b[0m \u001b[32m0.0/424.2 kB\u001b[0m \u001b[31m?\u001b[0m eta \u001b[36m-:--:--\u001b[0m\r\n",
      "\u001b[2K   \u001b[90m━━━━━━━━━━━━━━━━━━━━━━━━━━━━━━━━━━━━━━━━\u001b[0m \u001b[32m424.2/424.2 kB\u001b[0m \u001b[31m13.1 MB/s\u001b[0m eta \u001b[36m0:00:00\u001b[0m\n",
      "\u001b[2K   \u001b[90m━━━━━━━━━━━━━━━━━━━━━━━━━━━━━━━━━━━━━━━━\u001b[0m \u001b[32m2.3/2.3 MB\u001b[0m \u001b[31m51.9 MB/s\u001b[0m eta \u001b[36m0:00:00\u001b[0m\n",
      "\u001b[2K   \u001b[90m━━━━━━━━━━━━━━━━━━━━━━━━━━━━━━━━━━━━━━━━\u001b[0m \u001b[32m2.2/2.2 MB\u001b[0m \u001b[31m74.1 MB/s\u001b[0m eta \u001b[36m0:00:00\u001b[0m\n",
      "\u001b[2K   \u001b[90m━━━━━━━━━━━━━━━━━━━━━━━━━━━━━━━━━━━━━━━━\u001b[0m \u001b[32m394.9/394.9 kB\u001b[0m \u001b[31m26.7 MB/s\u001b[0m eta \u001b[36m0:00:00\u001b[0m\n",
      "\u001b[2K   \u001b[90m━━━━━━━━━━━━━━━━━━━━━━━━━━━━━━━━━━━━━━━━\u001b[0m \u001b[32m86.2/86.2 kB\u001b[0m \u001b[31m6.6 MB/s\u001b[0m eta \u001b[36m0:00:00\u001b[0m\n",
      "\u001b[2K   \u001b[90m━━━━━━━━━━━━━━━━━━━━━━━━━━━━━━━━━━━━━━━━\u001b[0m \u001b[32m102.0/102.0 MB\u001b[0m \u001b[31m11.0 MB/s\u001b[0m eta \u001b[36m0:00:00\u001b[0m\n",
      "\u001b[2K   \u001b[90m━━━━━━━━━━━━━━━━━━━━━━━━━━━━━━━━━━━━━━━━\u001b[0m \u001b[32m55.2/55.2 kB\u001b[0m \u001b[31m3.8 MB/s\u001b[0m eta \u001b[36m0:00:00\u001b[0m\n",
      "\u001b[2K   \u001b[90m━━━━━━━━━━━━━━━━━━━━━━━━━━━━━━━━━━━━━━━━\u001b[0m \u001b[32m50.9/50.9 kB\u001b[0m \u001b[31m3.7 MB/s\u001b[0m eta \u001b[36m0:00:00\u001b[0m\n",
      "\u001b[2K   \u001b[90m━━━━━━━━━━━━━━━━━━━━━━━━━━━━━━━━━━━━━━━━\u001b[0m \u001b[32m1.2/1.2 MB\u001b[0m \u001b[31m16.9 MB/s\u001b[0m eta \u001b[36m0:00:00\u001b[0m\n",
      "\u001b[2K   \u001b[90m━━━━━━━━━━━━━━━━━━━━━━━━━━━━━━━━━━━━━━━━\u001b[0m \u001b[32m433.5/433.5 kB\u001b[0m \u001b[31m24.5 MB/s\u001b[0m eta \u001b[36m0:00:00\u001b[0m\n",
      "\u001b[2K   \u001b[90m━━━━━━━━━━━━━━━━━━━━━━━━━━━━━━━━━━━━━━━━\u001b[0m \u001b[32m8.6/8.6 MB\u001b[0m \u001b[31m102.4 MB/s\u001b[0m eta \u001b[36m0:00:00\u001b[0m\n",
      "\u001b[2K   \u001b[90m━━━━━━━━━━━━━━━━━━━━━━━━━━━━━━━━━━━━━━━━\u001b[0m \u001b[32m63.0/63.0 kB\u001b[0m \u001b[31m4.0 MB/s\u001b[0m eta \u001b[36m0:00:00\u001b[0m\n",
      "\u001b[?25h"
     ]
    }
   ],
   "source": [
    "!pip install -q jax-ai-stack\n",
    "!pip install -Uq tiktoken grain matplotlib"
   ]
  },
  {
   "cell_type": "markdown",
   "metadata": {
    "id": "Rcji_799n4eA"
   },
   "source": [
    "Confirm we have TPUs set up."
   ]
  },
  {
   "cell_type": "code",
   "execution_count": 2,
   "metadata": {
    "colab": {
     "base_uri": "https://localhost:8080/"
    },
    "collapsed": true,
    "execution": {
     "iopub.execute_input": "2025-03-17T06:56:33.329853Z",
     "iopub.status.busy": "2025-03-17T06:56:33.32961Z",
     "iopub.status.idle": "2025-03-17T06:56:41.601645Z",
     "shell.execute_reply": "2025-03-17T06:56:41.600599Z",
     "shell.execute_reply.started": "2025-03-17T06:56:33.329829Z"
    },
    "id": "LS9sQEY3n0mB",
    "outputId": "b516c248-777f-4a59-a550-26e12bc2e2fc"
   },
   "outputs": [
    {
     "data": {
      "text/plain": [
       "[TpuDevice(id=0, process_index=0, coords=(0,0,0), core_on_chip=0),\n",
       " TpuDevice(id=1, process_index=0, coords=(0,0,0), core_on_chip=1),\n",
       " TpuDevice(id=2, process_index=0, coords=(1,0,0), core_on_chip=0),\n",
       " TpuDevice(id=3, process_index=0, coords=(1,0,0), core_on_chip=1),\n",
       " TpuDevice(id=4, process_index=0, coords=(0,1,0), core_on_chip=0),\n",
       " TpuDevice(id=5, process_index=0, coords=(0,1,0), core_on_chip=1),\n",
       " TpuDevice(id=6, process_index=0, coords=(1,1,0), core_on_chip=0),\n",
       " TpuDevice(id=7, process_index=0, coords=(1,1,0), core_on_chip=1)]"
      ]
     },
     "execution_count": 2,
     "metadata": {},
     "output_type": "execute_result"
    }
   ],
   "source": [
    "import jax\n",
    "jax.devices()"
   ]
  },
  {
   "cell_type": "markdown",
   "metadata": {
    "id": "OHzJ_bokoovZ"
   },
   "source": [
    "Get the [TinyStories dataset from Hugging Face](https://huggingface.co/datasets/roneneldan/TinyStories). We only use the training split."
   ]
  },
  {
   "cell_type": "code",
   "execution_count": 3,
   "metadata": {
    "colab": {
     "base_uri": "https://localhost:8080/"
    },
    "collapsed": true,
    "execution": {
     "iopub.execute_input": "2025-03-17T06:56:41.603132Z",
     "iopub.status.busy": "2025-03-17T06:56:41.602793Z",
     "iopub.status.idle": "2025-03-17T06:57:08.265245Z",
     "shell.execute_reply": "2025-03-17T06:57:08.26394Z",
     "shell.execute_reply.started": "2025-03-17T06:56:41.603105Z"
    },
    "id": "wUjQsgQEmI1N",
    "outputId": "90fc683c-696f-4f25-a75c-6a2a5b032cef"
   },
   "outputs": [
    {
     "name": "stdout",
     "output_type": "stream",
     "text": [
      "--2025-03-22 10:21:26--  https://huggingface.co/datasets/roneneldan/TinyStories/resolve/main/TinyStories-train.txt?download=true\n",
      "Resolving huggingface.co (huggingface.co)... 18.172.134.24, 18.172.134.124, 18.172.134.4, ...\n",
      "Connecting to huggingface.co (huggingface.co)|18.172.134.24|:443... connected.\n",
      "HTTP request sent, awaiting response... 302 Found\n",
      "Location: https://cdn-lfs.hf.co/repos/42/7f/427f7497b6c6596c18b46d5a72e61364fcad12aa433c60a0dbd4d344477b9d81/c5cf5e22ff13614e830afbe61a99fbcbe8bcb7dd72252b989fa1117a368d401f?response-content-disposition=attachment%3B+filename*%3DUTF-8%27%27TinyStories-train.txt%3B+filename%3D%22TinyStories-train.txt%22%3B&response-content-type=text%2Fplain&Expires=1742642487&Policy=eyJTdGF0ZW1lbnQiOlt7IkNvbmRpdGlvbiI6eyJEYXRlTGVzc1RoYW4iOnsiQVdTOkVwb2NoVGltZSI6MTc0MjY0MjQ4N319LCJSZXNvdXJjZSI6Imh0dHBzOi8vY2RuLWxmcy5oZi5jby9yZXBvcy80Mi83Zi80MjdmNzQ5N2I2YzY1OTZjMThiNDZkNWE3MmU2MTM2NGZjYWQxMmFhNDMzYzYwYTBkYmQ0ZDM0NDQ3N2I5ZDgxL2M1Y2Y1ZTIyZmYxMzYxNGU4MzBhZmJlNjFhOTlmYmNiZThiY2I3ZGQ3MjI1MmI5ODlmYTExMTdhMzY4ZDQwMWY%7EcmVzcG9uc2UtY29udGVudC1kaXNwb3NpdGlvbj0qJnJlc3BvbnNlLWNvbnRlbnQtdHlwZT0qIn1dfQ__&Signature=ceYF5N6wd0LwLJeI2W8Kin98I1WRxebZ7JRieOSh2CjLM9zjcqGN1hBljgY57bqPvAwNbdaKDgq1A%7EfawfV%7Ek9bidYFPStA3qDmL6uojttQVzwrTgkNQfIh6Lr1DQx8n0aYtrKsoZHnnCAl4XpK4iZpOixcVkgpxxp44EwiSJGxQNQFRc%7ERgcBsj9rzAS6%7EBb-TCq71jxA%7EQQJbccigJLEubGSIwPK4cSEpvX2AmUKxD2d%7EjdxyDxiISB4H86s0F183g2zXhc-wihfP2B7hgFM589pTNNke-Q0EY8tM5dNWCNN6-AxTu-dkCsOSCGRJsL%7EvM%7ERRwPEYVSZ21M%7ERYCw__&Key-Pair-Id=K3RPWS32NSSJCE [following]\n",
      "--2025-03-22 10:21:27--  https://cdn-lfs.hf.co/repos/42/7f/427f7497b6c6596c18b46d5a72e61364fcad12aa433c60a0dbd4d344477b9d81/c5cf5e22ff13614e830afbe61a99fbcbe8bcb7dd72252b989fa1117a368d401f?response-content-disposition=attachment%3B+filename*%3DUTF-8%27%27TinyStories-train.txt%3B+filename%3D%22TinyStories-train.txt%22%3B&response-content-type=text%2Fplain&Expires=1742642487&Policy=eyJTdGF0ZW1lbnQiOlt7IkNvbmRpdGlvbiI6eyJEYXRlTGVzc1RoYW4iOnsiQVdTOkVwb2NoVGltZSI6MTc0MjY0MjQ4N319LCJSZXNvdXJjZSI6Imh0dHBzOi8vY2RuLWxmcy5oZi5jby9yZXBvcy80Mi83Zi80MjdmNzQ5N2I2YzY1OTZjMThiNDZkNWE3MmU2MTM2NGZjYWQxMmFhNDMzYzYwYTBkYmQ0ZDM0NDQ3N2I5ZDgxL2M1Y2Y1ZTIyZmYxMzYxNGU4MzBhZmJlNjFhOTlmYmNiZThiY2I3ZGQ3MjI1MmI5ODlmYTExMTdhMzY4ZDQwMWY%7EcmVzcG9uc2UtY29udGVudC1kaXNwb3NpdGlvbj0qJnJlc3BvbnNlLWNvbnRlbnQtdHlwZT0qIn1dfQ__&Signature=ceYF5N6wd0LwLJeI2W8Kin98I1WRxebZ7JRieOSh2CjLM9zjcqGN1hBljgY57bqPvAwNbdaKDgq1A%7EfawfV%7Ek9bidYFPStA3qDmL6uojttQVzwrTgkNQfIh6Lr1DQx8n0aYtrKsoZHnnCAl4XpK4iZpOixcVkgpxxp44EwiSJGxQNQFRc%7ERgcBsj9rzAS6%7EBb-TCq71jxA%7EQQJbccigJLEubGSIwPK4cSEpvX2AmUKxD2d%7EjdxyDxiISB4H86s0F183g2zXhc-wihfP2B7hgFM589pTNNke-Q0EY8tM5dNWCNN6-AxTu-dkCsOSCGRJsL%7EvM%7ERRwPEYVSZ21M%7ERYCw__&Key-Pair-Id=K3RPWS32NSSJCE\n",
      "Resolving cdn-lfs.hf.co (cdn-lfs.hf.co)... 18.154.185.84, 18.154.185.78, 18.154.185.64, ...\n",
      "Connecting to cdn-lfs.hf.co (cdn-lfs.hf.co)|18.154.185.84|:443... connected.\n",
      "HTTP request sent, awaiting response... 200 OK\n",
      "Length: 1924281556 (1.8G) [text/plain]\n",
      "Saving to: ‘TinyStories-train.txt’\n",
      "\n",
      "TinyStories-train.t 100%[===================>]   1.79G   194MB/s    in 9.0s    \n",
      "\n",
      "2025-03-22 10:21:36 (205 MB/s) - ‘TinyStories-train.txt’ saved [1924281556/1924281556]\n",
      "\n"
     ]
    }
   ],
   "source": [
    "!wget https://huggingface.co/datasets/roneneldan/TinyStories/resolve/main/TinyStories-train.txt?download=true -O TinyStories-train.txt"
   ]
  },
  {
   "cell_type": "markdown",
   "metadata": {
    "id": "sKE2uUafLobI"
   },
   "source": [
    "Import necessary libraries"
   ]
  },
  {
   "cell_type": "code",
   "execution_count": 4,
   "metadata": {
    "execution": {
     "iopub.execute_input": "2025-03-17T06:57:08.26664Z",
     "iopub.status.busy": "2025-03-17T06:57:08.266392Z",
     "iopub.status.idle": "2025-03-17T06:57:10.140961Z",
     "shell.execute_reply": "2025-03-17T06:57:10.140253Z",
     "shell.execute_reply.started": "2025-03-17T06:57:08.266614Z"
    },
    "id": "MKYFNOhdLq98"
   },
   "outputs": [],
   "source": [
    "import jax\n",
    "import jax.numpy as jnp\n",
    "import flax.nnx as nnx\n",
    "from flax.nnx.nn.lora import LoRALinear  # Import LoRALinear\n",
    "import optax\n",
    "from dataclasses import dataclass\n",
    "import grain.python as pygrain\n",
    "from jax.experimental import mesh_utils\n",
    "from jax.sharding import Mesh, PartitionSpec as P, NamedSharding\n",
    "import pandas as pd\n",
    "import tiktoken\n",
    "import time"
   ]
  },
  {
   "cell_type": "markdown",
   "metadata": {
    "id": "rPyt7MV6prz1"
   },
   "source": [
    "## Building the Model with LoRA\n",
    "\n",
    "We'll use the same tokenizer and parallelism strategy as in the [pre-training tutorial](https://docs.jaxstack.ai/en/latest/JAX_for_LLM_pretraining.html).\n",
    "The mesh defines how our computation will be distributed across TPU cores."
   ]
  },
  {
   "cell_type": "code",
   "execution_count": 5,
   "metadata": {
    "execution": {
     "iopub.execute_input": "2025-03-17T06:57:10.142677Z",
     "iopub.status.busy": "2025-03-17T06:57:10.142052Z",
     "iopub.status.idle": "2025-03-17T06:57:10.147888Z",
     "shell.execute_reply": "2025-03-17T06:57:10.147122Z",
     "shell.execute_reply.started": "2025-03-17T06:57:10.142651Z"
    },
    "id": "xuMlCK3Q8WJD"
   },
   "outputs": [],
   "source": [
    "tokenizer = tiktoken.get_encoding(\"gpt2\")\n",
    "mesh = Mesh(mesh_utils.create_device_mesh((4, 2)), ('batch', 'model'))"
   ]
  },
  {
   "cell_type": "markdown",
   "metadata": {
    "id": "0XHQ0BQ9-KIj"
   },
   "source": [
    "The key difference from the original pre-training model is that we replace standard\n",
    "`nnx.Linear` layers with `LoRALinear` layers from [Flax](https://flax.readthedocs.io/en/latest/api_reference/flax.nnx/nn/lora.html).\n",
    "\n",
    "\n",
    "This way, only the small rank decomposition matrices need to be trained."
   ]
  },
  {
   "cell_type": "code",
   "execution_count": 6,
   "metadata": {
    "execution": {
     "iopub.execute_input": "2025-03-17T06:57:13.018347Z",
     "iopub.status.busy": "2025-03-17T06:57:13.01792Z",
     "iopub.status.idle": "2025-03-17T06:57:13.045763Z",
     "shell.execute_reply": "2025-03-17T06:57:13.044457Z",
     "shell.execute_reply.started": "2025-03-17T06:57:13.018317Z"
    },
    "id": "z0p-IHurrB9i"
   },
   "outputs": [],
   "source": [
    "def causal_attention_mask(seq_len):\n",
    "    return jnp.tril(jnp.ones((seq_len, seq_len)))\n",
    "\n",
    "class TransformerBlock(nnx.Module):\n",
    "    # update the __init__ function arguments to include lora_rank\n",
    "    def __init__(self, embed_dim: int, num_heads: int, ff_dim: int, *, rngs: nnx.Rngs, rate: float = 0.1, lora_rank=8):\n",
    "        self.mha = nnx.MultiHeadAttention(num_heads=num_heads,\n",
    "                                          in_features=embed_dim,\n",
    "                                          kernel_init=nnx.with_partitioning(nnx.initializers.xavier_uniform(), NamedSharding(mesh, P(None, 'model'))),\n",
    "                                          bias_init=nnx.with_partitioning(nnx.initializers.zeros_init(), NamedSharding(mesh, P('model'))),\n",
    "                                          rngs=rngs)\n",
    "        self.dropout1 = nnx.Dropout(rate=rate)\n",
    "        self.layer_norm1 = nnx.LayerNorm(epsilon=1e-6,\n",
    "                                         num_features=embed_dim,\n",
    "                                         scale_init=nnx.with_partitioning(nnx.initializers.ones_init(), NamedSharding(mesh, P('model'))),\n",
    "                                         bias_init=nnx.with_partitioning(nnx.initializers.zeros_init(), NamedSharding(mesh, P('model'))),\n",
    "                                         rngs=rngs)\n",
    "        # here we replace the regular linear layer with the LoRALinea layer\n",
    "        self.linear1 = LoRALinear(\n",
    "            in_features=embed_dim,\n",
    "            out_features=ff_dim,\n",
    "            lora_rank=lora_rank,  # set the rank for the low-rank matrices\n",
    "            kernel_init=nnx.with_partitioning(nnx.initializers.normal(0.02), P('model', None)),\n",
    "            bias_init=nnx.with_partitioning(nnx.initializers.zeros, None),\n",
    "            rngs=rngs\n",
    "        )\n",
    "        # here we replace the regular linear layer with the LoRALinea layer\n",
    "        self.linear2 = LoRALinear(\n",
    "            in_features=ff_dim,\n",
    "            out_features=embed_dim,\n",
    "            lora_rank=lora_rank,\n",
    "            kernel_init=nnx.with_partitioning(nnx.initializers.normal(0.02), P('model', None)),\n",
    "            bias_init=nnx.with_partitioning(nnx.initializers.zeros, None),\n",
    "            rngs=rngs\n",
    "        )\n",
    "        self.dropout2 = nnx.Dropout(rate=rate)\n",
    "        self.layer_norm2 = nnx.LayerNorm(epsilon=1e-6,\n",
    "                                         num_features=embed_dim,\n",
    "                                         scale_init=nnx.with_partitioning(nnx.initializers.ones_init(), NamedSharding(mesh, P(None, 'model'))),\n",
    "                                         bias_init=nnx.with_partitioning(nnx.initializers.zeros_init(), NamedSharding(mesh, P(None, 'model'))),\n",
    "                                         rngs=rngs)\n",
    "\n",
    "\n",
    "    def __call__(self, inputs, training: bool = False):\n",
    "        input_shape = inputs.shape\n",
    "        _, seq_len, _ = input_shape\n",
    "        mask = causal_attention_mask(seq_len)\n",
    "        attention_output = self.mha(\n",
    "            inputs_q=inputs,\n",
    "            mask=mask,\n",
    "            decode=False\n",
    "        )\n",
    "        attention_output = self.dropout1(attention_output, deterministic=not training)\n",
    "        out1 = self.layer_norm1(inputs + attention_output)\n",
    "        # feed-forward network with LoRA layer\n",
    "        ffn_output = self.linear1(out1)\n",
    "        ffn_output = nnx.relu(ffn_output)\n",
    "        ffn_output = self.linear2(ffn_output)\n",
    "        ffn_output = self.dropout2(ffn_output, deterministic=not training)\n",
    "\n",
    "        return self.layer_norm2(out1 + ffn_output)\n",
    "\n",
    "\n",
    "class TokenAndPositionEmbedding(nnx.Module):\n",
    "\n",
    "    def __init__(self, maxlen: int, vocab_size: int, embed_dim: int, *, rngs: nnx.Rngs):\n",
    "        self.token_emb = nnx.Embed(num_embeddings=vocab_size, features=embed_dim, rngs=rngs)\n",
    "        self.pos_emb = nnx.Embed(num_embeddings=maxlen, features=embed_dim, rngs=rngs)\n",
    "\n",
    "    def __call__(self, x):\n",
    "        positions = jnp.arange(0, x.shape[1])[None, :]\n",
    "        position_embedding = self.pos_emb(positions)\n",
    "        token_embedding = self.token_emb(x)\n",
    "        return token_embedding + position_embedding\n",
    "\n",
    "\n",
    "class MiniGPT(nnx.Module):\n",
    "    # update the __init__ function arguments to include lora_rank\n",
    "    def __init__(self, maxlen: int, vocab_size: int, embed_dim: int, num_heads: int, feed_forward_dim: int, num_transformer_blocks: int, rngs: nnx.Rngs, lora_rank=8):\n",
    "        self.embedding_layer = TokenAndPositionEmbedding(\n",
    "                    maxlen, vocab_size, embed_dim, rngs=rngs\n",
    "                )\n",
    "        # create transformer blocks with LoRA\n",
    "        self.transformer_blocks = [TransformerBlock(\n",
    "            embed_dim, num_heads, feed_forward_dim, rngs=rngs, lora_rank=lora_rank\n",
    "        ) for _ in range(num_transformer_blocks)]\n",
    "\n",
    "        # modify the output layer to use LoRALinear instead of regular linear layer\n",
    "        self.output_layer = LoRALinear(\n",
    "            in_features=embed_dim,\n",
    "            out_features=vocab_size,\n",
    "            lora_rank=lora_rank,\n",
    "            kernel_init=nnx.with_partitioning(nnx.initializers.normal(0.02), P('model', None)),\n",
    "            bias_init=nnx.with_partitioning(nnx.initializers.zeros, None),\n",
    "            rngs=rngs\n",
    "        )\n",
    "\n",
    "\n",
    "    def __call__(self, inputs, training: bool = False):\n",
    "        x = self.embedding_layer(inputs)\n",
    "        for transformer_block in self.transformer_blocks:\n",
    "            x = transformer_block(x, training=training)\n",
    "        outputs = self.output_layer(x)\n",
    "        return outputs\n",
    "\n",
    "    def generate_text(self, max_tokens: int, start_tokens: [int], top_k=10):\n",
    "        def sample_from(logits):\n",
    "            logits, indices = jax.lax.top_k(logits, k=top_k)\n",
    "            logits = nnx.softmax(logits)\n",
    "            return jax.random.choice(jax.random.PRNGKey(0), indices, p=logits)\n",
    "\n",
    "        def generate_step(start_tokens):\n",
    "            pad_len = maxlen - len(start_tokens)\n",
    "            sample_index = len(start_tokens) - 1\n",
    "            if pad_len < 0:\n",
    "                x = jnp.array(start_tokens[:maxlen])\n",
    "                sample_index = maxlen - 1\n",
    "            elif pad_len > 0:\n",
    "                x = jnp.array(start_tokens + [0] * pad_len)\n",
    "            else:\n",
    "                x = jnp.array(start_tokens)\n",
    "\n",
    "            x = x[None, :]\n",
    "            logits = self(x)\n",
    "            next_token = sample_from(logits[0][sample_index])\n",
    "            return next_token\n",
    "\n",
    "        generated = []\n",
    "        for _ in range(max_tokens):\n",
    "            next_token = generate_step(start_tokens + generated)\n",
    "            if next_token == tokenizer.encode('<|endoftext|>', allowed_special={'<|endoftext|>'})[0]:\n",
    "              break\n",
    "            generated.append(int(next_token))\n",
    "        return tokenizer.decode(start_tokens + generated)\n",
    "\n",
    "# modify the function arguments to include lora_rank\n",
    "def create_model(rngs, lora_rank=8):\n",
    "    return MiniGPT(maxlen, vocab_size, embed_dim, num_heads, feed_forward_dim, num_transformer_blocks=4, rngs=rngs,\n",
    "                   lora_rank=lora_rank)"
   ]
  },
  {
   "cell_type": "markdown",
   "metadata": {
    "id": "igX_eoGNMTGR"
   },
   "source": [
    "## Set Hyperparameters\n",
    "\n",
    "We'll use the same hyperparameters as in the [pre-training tutorial](https://docs.jaxstack.ai/en/latest/JAX_for_LLM_pretraining.html) for consistency."
   ]
  },
  {
   "cell_type": "code",
   "execution_count": 25,
   "metadata": {
    "execution": {
     "iopub.execute_input": "2025-03-17T06:57:13.046952Z",
     "iopub.status.busy": "2025-03-17T06:57:13.046709Z",
     "iopub.status.idle": "2025-03-17T06:57:13.060711Z",
     "shell.execute_reply": "2025-03-17T06:57:13.059813Z",
     "shell.execute_reply.started": "2025-03-17T06:57:13.04693Z"
    },
    "id": "GRhiDsCrMZRp"
   },
   "outputs": [],
   "source": [
    "vocab_size = tokenizer.n_vocab\n",
    "num_transformer_blocks = 8\n",
    "maxlen = 256\n",
    "embed_dim = 256\n",
    "num_heads = 8\n",
    "feed_forward_dim = 256\n",
    "batch_size = 256  # You can adjust batch size based on your TP\n",
    "num_epochs = 1\n",
    "lora_rank = 128 # A higher rank will capture more complex patterns in the LLM, and will also increase the number of trainable parameters"
   ]
  },
  {
   "cell_type": "markdown",
   "metadata": {
    "id": "mI1ci-HyMspJ"
   },
   "source": [
    "## Prepare data\n",
    "\n",
    "Data loading and preprocessing remains the same as in the [pre-training tutorial](https://docs.jaxstack.ai/en/latest/JAX_for_LLM_pretraining.html).\n",
    "We create a TextDataset class to handle tokenization and padding."
   ]
  },
  {
   "cell_type": "code",
   "execution_count": 26,
   "metadata": {
    "execution": {
     "iopub.execute_input": "2025-03-17T06:57:13.062239Z",
     "iopub.status.busy": "2025-03-17T06:57:13.06186Z",
     "iopub.status.idle": "2025-03-17T06:57:45.256964Z",
     "shell.execute_reply": "2025-03-17T06:57:45.255537Z",
     "shell.execute_reply.started": "2025-03-17T06:57:13.062202Z"
    },
    "id": "rGUFsn1GMuzh"
   },
   "outputs": [],
   "source": [
    "@dataclass\n",
    "class TextDataset:\n",
    "    data: list\n",
    "    maxlen: int\n",
    "\n",
    "    def __len__(self):\n",
    "        return len(self.data)\n",
    "\n",
    "    def __getitem__(self, idx: int):\n",
    "        encoding = tokenizer.encode(self.data[idx], allowed_special={'<|endoftext|>'})[:self.maxlen]  # Tokenize and truncate\n",
    "        return encoding + [0] * (self.maxlen - len(encoding))  # Pad to maxlen\n",
    "\n",
    "def load_and_preprocess_data(file_path, batch_size, maxlen):\n",
    "\n",
    "    with open(file_path, 'r') as f:\n",
    "      text = f.read()\n",
    "\n",
    "    stories = text.split('<|endoftext|>')\n",
    "    stories = [story+'<|endoftext|>' for story in stories if story.strip()]\n",
    "    df = pd.DataFrame({'text': stories})\n",
    "    data = df['text'].dropna().tolist()\n",
    "    dataset = TextDataset(data, maxlen)\n",
    "\n",
    "    sampler = pygrain.IndexSampler(\n",
    "        len(dataset),\n",
    "        shuffle=False,\n",
    "        seed=42,\n",
    "        shard_options=pygrain.NoSharding(),\n",
    "        num_epochs=num_epochs,\n",
    "    )\n",
    "\n",
    "    dl = pygrain.DataLoader(\n",
    "        data_source=dataset,\n",
    "        sampler=sampler,\n",
    "        operations=[pygrain.Batch(batch_size=batch_size, drop_remainder=True)],\n",
    "    )\n",
    "\n",
    "    return dl\n",
    "\n",
    "text_dl = load_and_preprocess_data('TinyStories-train.txt', batch_size, maxlen)"
   ]
  },
  {
   "cell_type": "markdown",
   "metadata": {
    "id": "BKVSD8KSM1um"
   },
   "source": [
    "## Train the model with LoRA"
   ]
  },
  {
   "cell_type": "markdown",
   "metadata": {
    "id": "WbSt_MuyaG48"
   },
   "source": [
    "LoRA's efficiency lies in how we train only the small adapter matrices while keeping the rest of the model frozen. Let's look at how we implement this in JAX:"
   ]
  },
  {
   "cell_type": "code",
   "execution_count": 57,
   "metadata": {
    "id": "h9hXS0NngSAw"
   },
   "outputs": [],
   "source": [
    "# Create the model with LoRA\n",
    "lora_model = create_model(rngs=nnx.Rngs(0), lora_rank=lora_rank)\n",
    "# Filter for LoRA parameters only (look for lora_a and lora_b in the parameter path)\n",
    "lora_params = nnx.All(nnx.Param, nnx.PathContains('lora_a') or nnx.PathContains('lora_b'))\n",
    "# Create optimizer to only update LoRA parameters\n",
    "optimizer = nnx.Optimizer(lora_model, optax.adam(1e-3), wrt=lora_params)"
   ]
  },
  {
   "cell_type": "markdown",
   "metadata": {
    "id": "e5hooDhBadPb"
   },
   "source": [
    " Using `nnx.All` create a mask that identifies only our LoRA parameters, looking for lora_a or lora_b in the parameter paths. Then we:\n",
    "\n",
    "- Configure the optimizer to only update these selected parameters using the `wrt` argument\n",
    "-Create a special `diff_state` that directs gradient computation to only flow to these parameters\n",
    "\n",
    "Now we can use this `diff_state` when computing gradients in our training step:"
   ]
  },
  {
   "cell_type": "code",
   "execution_count": 28,
   "metadata": {
    "id": "reUqnpEtiy0e"
   },
   "outputs": [],
   "source": [
    "def loss_fn(model, batch):\n",
    "    logits = model(batch[0])\n",
    "    loss = optax.softmax_cross_entropy_with_integer_labels(logits=logits, labels=batch[1]).mean()\n",
    "    return loss, logits\n",
    "\n",
    "@nnx.jit\n",
    "def train_step(model: MiniGPT, optimizer: nnx.Optimizer, metrics: nnx.MultiMetric, batch):\n",
    "    # Create differentiable state that only includes LoRA parameters\n",
    "    diff_state = nnx.DiffState(0, lora_params)\n",
    "    grad_fn = nnx.value_and_grad(loss_fn, argnums=diff_state, has_aux=True)\n",
    "    (loss, logits), grads = grad_fn(model, batch)\n",
    "    metrics.update(loss=loss, logits=logits, lables=batch[1])\n",
    "    optimizer.update(grads)"
   ]
  },
  {
   "cell_type": "code",
   "execution_count": 29,
   "metadata": {
    "colab": {
     "base_uri": "https://localhost:8080/"
    },
    "collapsed": true,
    "execution": {
     "iopub.status.busy": "2025-03-17T06:57:45.281022Z",
     "iopub.status.idle": "2025-03-17T06:57:45.281857Z",
     "shell.execute_reply": "2025-03-17T06:57:45.281296Z",
     "shell.execute_reply.started": "2025-03-17T06:57:45.281249Z"
    },
    "id": "Ysl6CsfENeJN",
    "outputId": "3236e7a1-4d6b-4378-b580-65a509236b23"
   },
   "outputs": [
    {
     "name": "stdout",
     "output_type": "stream",
     "text": [
      "Initial generated text:\n",
      "Once upon a time choiricity electronically src LaureinterpretHatis Aviation utilizing electronicallyis revealingis Lund353 stationary choiris Ho Ho showdown showdown choir Journalsis MM showdownerreddefault Kag allotted showdownis showdown choir不is Laure showdown Schiff MM KagisFig Aviation markupbysserredis revealing Laure hanging Needs exhausted showdown srcisis Aviationborgh disgis Crystal showdown showdown showdown bystand flippedis showdownisFiguggestsemberredis revealingis revealingADRA Laure hanging/** Aviation Needsisampions nonsatur Stamfordis Laure bystandis wink (£ showdown showdown nons Maul Laure (£ compos showdownampions nonsbyss crafts Rarityis lic busiest stationary markup electronically diedbyssbean electronicallyis dried showdown showdown showdownampions nonsisis exhausteddefault markup electronically Laure showdown electronically MM showdown nonsbyssis showdown showdown roller Maul compos roller Ghost electronically MMis showdown showdown electronically MM showdown 1931 revealing showdown bystand dried showdownerredis dried Laure lic W markup markupbyssbeanett electronicallydefaulticitysemb Edinburgh Oxy Aviation markup Severbyss freeway sources Rarity Rarity bystandis Ecology不 showdown showdown ........byss bystanddefault markupis revealingis353 showdown bystandis who rollerEast crafts showdown 1931default markup electronicallyampions showdown bystand lens Ecology markup353 1931soliddefaultassetsis showdownampions (£ Zombiesatur Ecology Hundreds sourcessolid Stamfordbyssis353 showdown nons Piano bystand不assetsis revealingis Ecology died showdown showdown showdown showdown showdown showdown\n",
      "\n",
      "Step 200, Loss: 6.526708602905273, Elapsed Time: 101.13 seconds\n",
      "Generated text:\n",
      "Once upon a time, there was a little boy.\n",
      "\n",
      "\n",
      "Step 400, Loss: 5.55381965637207, Elapsed Time: 36.60 seconds\n",
      "Generated text:\n",
      "Once upon a time there was a boy. He was very he was very he had a big and he had to the460. He had to the certainty he had to the certainty. He was very happy to theInitial he was very happy to the other.\n",
      "The little girl was very happy and he had a big and he had to the certainty.\n",
      "The little girl was very happy and he had to the other.\n",
      "\n",
      "\n",
      "Step 600, Loss: 5.371800422668457, Elapsed Time: 47.13 seconds\n",
      "Generated text:\n",
      "Once upon a time, there was a little girl named Lily. She loved to the park. She was very happy and the park. She was very happy to the park and it was very happy to the park.\n",
      "The little girl was so happy to the park. She was very happy to the park. She was very happy to the little girl was very happy to the little girl was very happy and the little girl was very happy to the little girl was very happy to the little girl was very happy to the little girl was very happy to the]).\n",
      "\n",
      "\n",
      "Step 800, Loss: 5.213316440582275, Elapsed Time: 52.99 seconds\n",
      "Generated text:\n",
      "Once upon a time, he had to the park. The little boy was very happy. He had a big, he was very happy to the park.\n",
      "The little girl was very happy and the park. He was very happy and he had a big, and he was very happy to theWorks.\n",
      "The little girl was very happy and the little girl.\n",
      "The little girl was very happy and the little girl was very happy to the little girl was very happy to the little girl was very happy to the little girl was very happy to the little girl was very happy and the little girl.\n",
      "\n",
      "\n",
      "Step 1000, Loss: 5.096640586853027, Elapsed Time: 55.33 seconds\n",
      "Generated text:\n",
      "Once upon a time, there were two friends. The little girl was very happy and the park. \n",
      "The little girl was so happy to the park. She was so happy to the little girl was so happy and the little girl. \n",
      "The little girl was so happy that she had a big, she had a big, she had a big, she had a big, and the little girl was so she was so happy to the little girl. \n",
      "\n",
      "\n",
      "Step 1200, Loss: 5.006669044494629, Elapsed Time: 48.46 seconds\n",
      "Generated text:\n",
      "Once upon a time, there were two friends. He was very happy and he had a big and he had a big and he had a big, he was very happy.\n",
      "The little girl was very happy and he had a big and he was very happy. He was very happy to be careful. He was so happy and he had a big and he had a big and he was very happy.\n",
      "The little boy. He was so happy to the little boy was so happy and he was so happy and he had a big and he was so happy and he had a big and he had a big, and he was so excited to the little boy.\n",
      "\n",
      "\n",
      "Step 1400, Loss: 4.9487762451171875, Elapsed Time: 58.27 seconds\n",
      "Generated text:\n",
      "Once upon a time, plots were two friends. He was so he had to make his friends.\n",
      "The little boy was so he had to the park. He was so he had to theennis, he could not to the man. He was so he was so he had to the little boy.\n",
      "The little boy was so he was so he was so he could not to the little boy was so he had to the little boy. He was so he could not to the little boy. He was so he could not to the little boy was so he was so he could not to the little boy.\n",
      "The little boy was so he was so happy to the little boy was so he was so he could not to the little boy was so he could be careful.\n",
      "\n",
      "\n",
      "Step 1600, Loss: 4.888418197631836, Elapsed Time: 62.03 seconds\n",
      "Generated text:\n",
      "Once upon a time, the park. He had a big and the park. The little girl was very happy.\n",
      "The girl was very happy. The little girl was very happy. The little girl was so happy.\n",
      "The little girl was so happy and the little girl had to the little girl. The little girl was so happy.\n",
      "The little girl was so happy and the little girl was so happy. The little girl was so happy.\n",
      "The little girl was so happy and the little girl. The little girl was so happy. The little girl was so happy and the little girl was so happy.\n",
      "\n",
      "\n",
      "Step 1800, Loss: 4.831171989440918, Elapsed Time: 55.54 seconds\n",
      "Generated text:\n",
      "Once upon a time, the demol and the diving. The little girl was so happy. The little girl was so happy.\n",
      "The little girl was so happy to the little girl. The little girl was so happy to the little girl.\n",
      "The little girl was so happy to the little girl and the little girl.\n",
      "The little girl was so happy to the little girl was so happy to the little girl. The little girl and the little girl was so happy to be so excited to the little girl.\n",
      "\n",
      "\n",
      "Step 2000, Loss: 4.822394371032715, Elapsed Time: 49.92 seconds\n",
      "Generated text:\n",
      "Once upon a time, the Venus was very happy. He was so excited to be a big and he could help. He was so he could not to the park to the other.\n",
      "The boy was so excited to the little boy was so he was so he could not to the little boy. He was so he was so he could395 to the little boy.\n",
      "The little boy was so excited to the little boy was so excited to the little boy. He was so excited to the little boy. He was so he was so he was so happy that he could be careful with his mom smiled and he was so he was so excited to be careful.\n",
      "\n",
      "\n",
      "Step 2200, Loss: 4.767486572265625, Elapsed Time: 57.48 seconds\n",
      "Generated text:\n",
      "Once upon a time, the Venus was very happy. He was so excited to the park. He was so excited to be a big, he could be careful.\n",
      "The little boy was so excited to the little boy. He was so excited to the little boy. He was so he could help his mom.\n",
      "The little boy was so happy to the little boy was so happy to the little boy. He was so happy to the little boy. He was so happy that he could not to the little boy.\n",
      "\n",
      "\n",
      "Step 2400, Loss: 4.686198711395264, Elapsed Time: 50.59 seconds\n",
      "Generated text:\n",
      "Once upon a time, the demol was very happy. He had a big and he was so he was very happy.\n",
      "The little boy was so he could help his mom. He was so excited to be a big, he had to be a big and he could help him.\n",
      "The little boy was so excited to the little boy and he was so excited to be the little boy. He was so he was so excited to the little boy.\n",
      "The boy was so excited to the little boy and he was so happy that he was so happy that he was so happy that he was so he was so he could help his mom.\n",
      "\n",
      "\n",
      "Step 2600, Loss: 4.7401885986328125, Elapsed Time: 57.33 seconds\n",
      "Generated text:\n",
      "Once upon a time, thestrate Dul. He had a big, and he was very happy.\n",
      "The boy was very happy. He had a big, and he was very happy. He was very happy.\n",
      "The boy was so happy. He had a big and he could not want to the neutrality. He was so happy.\n",
      "The boy was so happy to the man. He was so happy. He was so excited that he had a big, he had a big, he had a big and he could not to the little boy.\n",
      "The boy was so happy that he had to the little boy. He was so happy that he could not to the little boy.\n",
      "\n",
      "\n",
      "Step 2800, Loss: 4.7345733642578125, Elapsed Time: 57.90 seconds\n",
      "Generated text:\n",
      "Once upon a time, the little girl and the little girl. She had to always a big, and the little girl. She was so she wanted to the little girl.\n",
      "The little girl was so excited to the little girl. She wanted to the little girl and the little girl.\n",
      "The little girl was so happy to the little girl and the little girl. She was so happy that she was so excited!\n",
      "The little girl was so happy that she could help her mommy and the little girl. She was so happy that she had to the little girl and the little girl.\n",
      "\n",
      "\n",
      "Step 3000, Loss: 4.726464748382568, Elapsed Time: 54.94 seconds\n",
      "Generated text:\n",
      "Once upon a time, the demol was very happy.\n",
      "The next day, the little girl and the little girl. She was so happy.\n",
      "The little girl was so happy that she had to the little girl.\n",
      "The little girl was so excited!\n",
      "The little girl was so excited!\n",
      "The little girl was so happy!\n",
      "The little girl was so happy!\n",
      "The little girl was so excited!\n",
      "The little girl was so happy!\n",
      "\n",
      "\n",
      "Step 3200, Loss: 4.574701309204102, Elapsed Time: 48.22 seconds\n",
      "Generated text:\n",
      "Once upon a time, the little girl and the little girl. She was so excited!\n",
      "The little girl was so excited!\n",
      "The little girl was so excited!\n",
      "The little girl was so excited!\n",
      "The little girl was so excited!\n",
      "The little girl was so excited!\n",
      "The little girl was so happy!\n",
      "The little girl was so happy!\n",
      "The little girl was so happy!\n",
      "The little girl was so happy!\n",
      "The little girl was so happy!\n",
      "\n",
      "\n",
      "Step 3400, Loss: 4.61902379989624, Elapsed Time: 50.40 seconds\n",
      "Generated text:\n",
      "Once upon a time, the little girl and the little girl. She was so excited!\n",
      "The little girl was so excited!\n",
      "The little girl was so excited!\n",
      "The little girl was so excited!\n",
      "The little girl was so excited!\n",
      "The little girl was so excited!\n",
      "The little girl was so happy!\n",
      "The little girl was so happy!\n",
      "The little girl was so happy!\n",
      "The little girl was so happy!\n",
      "The little girl was so excited!\n",
      "The little girl was so happy!\n",
      "\n",
      "\n",
      "Step 3600, Loss: 4.632308006286621, Elapsed Time: 51.33 seconds\n",
      "Generated text:\n",
      "Once upon a time, the diving, the divingsheet. The bird had a big and the bird. The bird and the bird. The bird was very happy. The bird and the bird and the bird. The bird and the bird. The bird and the bird and the bird. The bird and the bird and the bird. The bird and the bird and the bird viewing the bird. The bird and the bird. The bird and the bird and the bird and the bird. The bird and the bird and the bird. The bird and the bird. The bird and the bird and the bird and the bird. The bird and the bird and the bird and the bird. The bird and the bird and the bird viewing the bird. The bird and the bird and the bird. The bird and the bird and the bird. The bird and the bird and the bird. The bird and the bird and the bird. The bird and the bird and the bird and the bird. The bird and the bird and the bird and the bird. The bird. The bird and the bird and the bird. The bird and the bird and the bird and the bird. The bird and the bird viewing the bird and the bird and the bird. The bird and the bird. The bird. The bird bird bird bird\n",
      "\n",
      "Step 3800, Loss: 4.5787882804870605, Elapsed Time: 85.77 seconds\n",
      "Generated text:\n",
      "Once upon a time, the little girl and her friends. She was so happy and she could alwaysKate.\n",
      "The little girl was so happy!\n",
      "The little girl was so excited!\n",
      "The little girl was so happy!\n",
      "The little girl was so excited!\n",
      "\n",
      "\n",
      "Step 4000, Loss: 4.602183818817139, Elapsed Time: 40.17 seconds\n",
      "Generated text:\n",
      "Once upon a time, the little girl and the little girl. She was so excited!\n",
      "The little girl was so excited!\n",
      "The little girl was so excited!\n",
      "The little girl was so excited!\n",
      "The little girl was so excited!\n",
      "The little girl was so excited!\n",
      "The little girl was so happy!\n",
      "The little girl was so happy!\n",
      "The little girl was so happy!\n",
      "\n",
      "\n",
      "Step 4200, Loss: 4.579535961151123, Elapsed Time: 47.37 seconds\n",
      "Generated text:\n",
      "Once upon a time, the little girl and her friends. She was so happy to play with her friends.\n",
      "The girl was so happy. She had a big, and she had a big, and she had a big, and she had a big, and she was very happy.\n",
      "The girl had a big, and the little girl. She was so happy that she had a big and she had a big and she had a big, and she had a big, and the little girl.\n",
      "The little girl was so happy. She had a big and the little girl smiled. She was so happy. She was so happy that she had a big and she had a big and the little girl.\n",
      "\n",
      "\n",
      "Step 4400, Loss: 4.503463268280029, Elapsed Time: 59.19 seconds\n",
      "Generated text:\n",
      "Once upon a time, the little girl and the little girl. She was so excited!\n",
      "The little girl was so excited!\n",
      "The little girl was so excited!\n",
      "The little girl was so excited!\n",
      "The little girl was so excited!\n",
      "The little girl was so excited!\n",
      "The little girl was so excited!\n",
      "The little girl was so excited!\n",
      "The little girl was so excited!\n",
      "The little girl was so happy!\n",
      "The little girl was so excited!\n",
      "\n",
      "\n",
      "Step 4600, Loss: 4.479018688201904, Elapsed Time: 49.91 seconds\n",
      "Generated text:\n",
      "Once upon a time, the little girl and the little girl. She was very happy.\n",
      "The little girl had to the little girl.\n",
      "The little girl was very happy.\n",
      "The little girl was so excited!\n",
      "The little girl was so excited!\n",
      "The little girl was so excited!\n",
      "The little girl was so happy!\n",
      "The little girl was so happy!\n",
      "The little girl was so happy!\n",
      "The little girl was so happy!\n",
      "\n",
      "\n",
      "Step 4800, Loss: 4.536823749542236, Elapsed Time: 48.80 seconds\n",
      "Generated text:\n",
      "Once upon a time, the diving and the diving. The little girl was very happy.\n",
      "The little girl had to the little girl.\n",
      "The little girl was very happy.\n",
      "The little girl was very happy.\n",
      "The little girl was very happy and the little girl.\n",
      "The little girl was so happy that she had to the little girl had to the little girl.\n",
      "The little girl was so happy that she had to the little girl was very happy.\n",
      "\n",
      "\n",
      "Step 5000, Loss: 4.547352313995361, Elapsed Time: 49.35 seconds\n",
      "Generated text:\n",
      "Once upon a time, thechron and the diving. The car was very happy.\n",
      "The next day, the diving, the diving. The cat and the diving. The cat had a big, the Grad. The cat was very happy. The cat and the demol had a big and the pans. The cat was very happy. The cat was happy. The cat was happy and the pans. The cat was happy to the pans. The cat was happy and the pans and the pans. The cat was happy. The cat was happy and the pans and the pans. The cat had a big, the pans and the pans and the pans. The cat was happy. The cat was happy to the demol was happy.\n",
      "\n",
      "\n",
      "Step 5200, Loss: 4.467193126678467, Elapsed Time: 59.71 seconds\n",
      "Generated text:\n",
      "Once upon a time, there were Fixes.\n",
      "One day, theCold and the little girl was very happy. She was so she had to her.\n",
      "The little girl was so happy that she had to her. She was so happy that she had to her mom.\n",
      "The little girl was so happy that she could help her. She was so happy that she could help her mom.\n",
      "\n",
      "\n",
      "Step 5400, Loss: 4.455582618713379, Elapsed Time: 45.89 seconds\n",
      "Generated text:\n",
      "Once upon a time, there were SPD. \n",
      "One day, the diving, the diving, and theheter. The little girl was very happy.\n",
      "The little girl was so happy that she could help her. She was so happy that she could help her. \n",
      "The little girl was so happy that she could help her. She was so happy to the little girl. \n",
      "The little girl was so happy that she could help her. She was so happy that she had been a big hug.\n",
      "\n",
      "\n",
      "Step 5600, Loss: 4.450286865234375, Elapsed Time: 51.68 seconds\n",
      "Generated text:\n",
      "Once upon a time, there were SPD.\n",
      "One day, theheter and the little girl was very happy. She was very happy to the little girl.\n",
      "The little girl was very happy. She was so excited!\n",
      "The little girl was so excited! She had to her mom and she could help her a big, she could make her.\n",
      "The little girl was so happy. She was so happy!\n",
      "\n",
      "\n",
      "Step 5800, Loss: 4.39848518371582, Elapsed Time: 48.04 seconds\n",
      "Generated text:\n",
      "Once upon a time, there were two friends.\n",
      "One day, they had a big, and a little girl. The little girl was very happy.\n",
      "The little girl was so happy that she had a big, and she had a big, and she was very happy.\n",
      "The little girl was so happy! She was so happy that she had a big and she had a big and she had a big and she had a big, but she had a big and she was very happy.\n",
      "\n",
      "\n",
      "Step 6000, Loss: 4.475782871246338, Elapsed Time: 50.52 seconds\n",
      "Generated text:\n",
      "Once upon a time there were two friends. They bystand and they were playing together.\n",
      "One day they had a bigreplace. They had a bigreplace and a bigreplace. They were very happy. They were so happy.\n",
      " appreciate the neutrality to play with their friends. They had a big and had a big and a bigreplace. They had so much fun. They had so much fun.\n",
      "\n",
      "\n",
      "Step 6200, Loss: 4.4102349281311035, Elapsed Time: 45.92 seconds\n",
      "Generated text:\n",
      "Once upon a time there were two friends. They had a big, and they were very happy.\n",
      "One day, they had a big, they had a big, and a bigreplace. The next time, they had a bigreplace. The ended and the little girl and the little girl and the little girl and the little girl. The little girl was very happy.\n",
      "The little girl was happy and the little girl was very happy. She said, \"I'm sorry, \"I'm sorry, I will be careful.\"\n",
      "The little girl and said, \"I'm sorry, I will be careful and I can be careful.\" The little girl smiled and said, \"I'm sorry for you.\"\n",
      "The little girl smiled and said, \"I'm sorry, \"I'm sorry, I can't be careful with you.\"\n",
      "The little girl and said, \"I'm sorry, \"Yes, I can be careful.\"\n",
      "The little girl and said, \"Yes, \"I'm sorry, you, I can be careful.\"\n",
      "The little girl was so happy to the little girl and said, \"I'm sorry for you can help.\"\n",
      "The little girl and said, \"I'm sorry to the little girl and the little girl.\n",
      "The!!!!\n",
      "\n",
      "Step 6400, Loss: 4.447348117828369, Elapsed Time: 84.21 seconds\n",
      "Generated text:\n",
      "Once upon a time there were two friends. They were playing together and they had a big house.\n",
      "One day they had a big, they had a bigreplace. They were playing together. They had a bigreplace and they had a big and they had a bigreplace.\n",
      "The next time. They had a big and a bigreplace. They had a bigreplace. They had a bigreplace and a bigreplace. They had so much fun. They had so much fun.\n",
      "\n",
      "\n",
      "Step 6600, Loss: 4.448988437652588, Elapsed Time: 50.07 seconds\n",
      "Generated text:\n",
      "Once upon a time there were two friends. They were playing together and they had a big house.\n",
      "One day, they had a bigreplace. They were playing together. They were very happy. They had a big and had a bigreplace.\n",
      "The next time, they had a bigreplace. They had a big and a bigreplace. They had a bigreplace. They had a bigreplace. They had a bigreplace. They had a big and a bigreplace. They had a bigreplace.\n",
      "The next to the other. They had a bigreplace. They had a bigreplace. They had a bigreplace. They had a big and a bigreplace. They had a bigreplace. They had a big and a bigreplace. They had a bigreplace. They had a bigreplace. They had a bigreplace. They had a bigreplace. They had a big and a bigreplace. They had a bigreplace. They had a big and a bigreplace. They had a big. They had a bigreplace. They had so happy. They had a bigreplace. They had a big and their mom. They had a big. They had a big and a big and a big and a big. They had a big. They had!!!!\n",
      "\n",
      "Step 6800, Loss: 4.477509021759033, Elapsed Time: 84.28 seconds\n",
      "Generated text:\n",
      "Once upon a time there were two friends. They were playing together and they had a big, and they were very happy.\n",
      "One day, they had a big, they had a bigreplace. They had a big, and a bigreplace. The next time, and the uprising. The Stre they had a bigreplace and the other animals. The Stre they had a big, and the little girl and the little girl and the little girl and the little girl and the little girl.\n",
      "The little girl and the little girl was very happy. They said, \"I'm sorry, I'm so much fun, but we can be careful with you, but we can be careful and the little girl.\n",
      "The little girl and the little girl was very happy and the little girl was very happy. The little girl was so happy and the little girl was so happy.\n",
      "\n",
      "\n",
      "Step 7000, Loss: 4.44502067565918, Elapsed Time: 66.80 seconds\n",
      "Generated text:\n",
      "Once upon a time there were two friends. They were playing together and they had a bigreplace.\n",
      "One day they decided to play together. They were playing together and they had a bigreplace. They had a bigreplace and they had a bigreplace.\n",
      "The next day, they had a bigreplace and a bigreplace. They had a bigreplace and a bigreplace. They had a bigreplace and a bigreplace. They had so much fun.\n",
      "The little girl and the little girl said, \"Let's go sending. It's Citiz and the little girl. It was so much fun and the little girl and the little girl and the little girl.\n",
      "The little girl was so happy. They said, \"I'm sorry, I can be careful with you. I can be careful with you.\n",
      "\n",
      "\n",
      "Step 7200, Loss: 4.388001441955566, Elapsed Time: 64.41 seconds\n",
      "Generated text:\n",
      "Once upon a time there were two friends. They were playing together and they had a big, and they were playing together.\n",
      "One day they had a big, they had a bigreplace. They had a bigreplace and they had a bigreplace. They had a bigreplace. They were very happy.\n",
      "The next day, they had a bigreplace and they had a bigreplace. They had a bigreplace and they had a bigreplace. They had a bigreplace and they had a big and a bigreplace. They had a bigreplace.\n",
      "The next time, they had a bigreplace. They had a big and a bigreplace. They had a bigreplace. They had a bigreplace and a bigreplace. They had a bigreplace. They had a big and a bigreplace. They had a bigreplace. They were happy. They had a big and a big and a bigreplace. They were happy.\n",
      "\n",
      "\n",
      "Step 7400, Loss: 4.435971736907959, Elapsed Time: 68.92 seconds\n",
      "Generated text:\n",
      "Once upon a time there were two friends. They had a big, they had a big, and they were very happy. \n",
      "One day, they had a big, they had a big, and they had a bigreplace. They had a bigreplace and they had a bigreplace. They had a bigreplace and they had a bigreplace. \n",
      "The next time, they had a big, and they had a bigreplace. They had a bigreplace and they had a bigreplace. They had a bigreplace. They had a big, and they had a bigreplace. \n",
      "The next time, they had a bigreplace. They had a bigreplace and a big, and a big, and a bigreplace. They had a bigreplace. They had a bigreplace. They had a bigreplace and a big and a bigreplace. They had a bigreplace.\n",
      "\n",
      "\n",
      "Step 7600, Loss: 4.371002674102783, Elapsed Time: 68.06 seconds\n",
      "Generated text:\n",
      "Once upon a time there were two friends. They had a big, and they were very happy.\n",
      "One day, they decided to play together. They had a big, and they had a bigreplace. They had a bigreplace. They had a bigreplace and a bigreplace. They were very happy.\n",
      "They had a bigreplace and a bigreplace. They had a bigreplace. They had so much fun. They had so much fun. They had a bigreplace. They had a big and a bigreplace. They had so much fun. They had so much fun.\n",
      "\n",
      "\n",
      "Step 7800, Loss: 4.364511966705322, Elapsed Time: 54.37 seconds\n",
      "Generated text:\n",
      "Once upon a time there were two friends. They were playing together and they had a big, and they were very happy.\n",
      "The next day, they had a bigreplace. They had a bigreplace and they had a bigreplace. The1980 and the sun was very happy.\n",
      "The next time, they had a big, and the sun. The cat and the cat had a bigreplace. The cat said, \"I'm sorry, but it's go home. It's go home.\"\n",
      "The cat and the cat said, \"I'm sorry, but it's go sending.\"\n",
      "The cat and the cat and the cat said, \"I'm sorry, but it's go sending. I can't know, but it's go home.\"\n",
      "The cat said, \"I'm sorry, but it's go home.\"\n",
      "The cat said, \"I'm sorry, I can't be careful. I can't be careful, but it.\"\n",
      "The cat and the cat and the cat and the cat and the cat and the cat.\n",
      "The cat was happy to the cat and said, \"I'm sorry, newcomer. I can help you.\"\n",
      "\n",
      "\n",
      "Step 8000, Loss: 4.309453010559082, Elapsed Time: 79.94 seconds\n",
      "Generated text:\n",
      "Once upon a time there were two friends. They were playing together.\n",
      "The next time, they had a bigreplace. They were very happy. They were so much.\n",
      "The Ammo a big, they had a bigreplace. They were so much. They were so much that they had so much fun!\n",
      "\n",
      "\n",
      "Step 8200, Loss: 4.42409610748291, Elapsed Time: 42.27 seconds\n",
      "Generated text:\n",
      "Once upon a time there was a little girl. She was very happy. She was so happy that she could help her.\n",
      "The little girl was so happy. She was so excited to her mom.\n",
      "\n",
      "\n",
      "Final generated text:\n",
      "Once upon a time there was very happy.\n",
      ", the sun was very happy and he had a big and he was very happy.\n",
      "The next day, he saw a big tree and he had a big tree. He wanted to help his friends and he could help.\n",
      "The next day, he saw a little bird and he had a big tree. The bird was very happy and he had a big bird.\n",
      "The bird was very happy and he had a big bird. He was so happy and he had a big bird.\n",
      "\n"
     ]
    }
   ],
   "source": [
    "metrics = nnx.MultiMetric(\n",
    "  loss=nnx.metrics.Average('loss'),\n",
    ")\n",
    "rng = jax.random.PRNGKey(0)\n",
    "\n",
    "start_prompt = \"Once upon a time\"\n",
    "start_tokens = tokenizer.encode(start_prompt)[:maxlen]\n",
    "generated_text = lora_model.generate_text(\n",
    "    maxlen, start_tokens\n",
    ")\n",
    "print(f\"Initial generated text:\\n{generated_text}\\n\")\n",
    "\n",
    "\n",
    "metrics_history = {\n",
    "  'train_loss': [],\n",
    "}\n",
    "\n",
    "prep_target_batch = jax.vmap(lambda tokens: jnp.concatenate((tokens[1:], jnp.array([0]))))\n",
    "\n",
    "step = 0\n",
    "for epoch in range(num_epochs):\n",
    "    start_time = time.time()\n",
    "    for batch in text_dl:\n",
    "        if len(batch) % len(jax.devices()) != 0:\n",
    "          continue\n",
    "        input_batch = jnp.array(jnp.array(batch).T)\n",
    "        target_batch = prep_target_batch(input_batch)\n",
    "        train_step(lora_model, optimizer, metrics, jax.device_put((input_batch, target_batch), NamedSharding(mesh, P('batch', None))))\n",
    "\n",
    "        if (step + 1) % 200 == 0:\n",
    "          for metric, value in metrics.compute().items():\n",
    "              metrics_history[f'train_{metric}'].append(value)\n",
    "          metrics.reset()\n",
    "\n",
    "          elapsed_time = time.time() - start_time\n",
    "          print(f\"Step {step + 1}, Loss: {metrics_history['train_loss'][-1]}, Elapsed Time: {elapsed_time:.2f} seconds\")\n",
    "          start_time = time.time()\n",
    "\n",
    "          generated_text = lora_model.generate_text(\n",
    "              maxlen, start_tokens\n",
    "          )\n",
    "          print(f\"Generated text:\\n{generated_text}\\n\")\n",
    "        step += 1\n",
    "\n",
    "generated_text = lora_model.generate_text(\n",
    "    maxlen, start_tokens\n",
    ")\n",
    "print(f\"Final generated text:\\n{generated_text}\")"
   ]
  },
  {
   "cell_type": "markdown",
   "metadata": {
    "id": "thaLs6TD0lt5"
   },
   "source": [
    "Visualize the training loss."
   ]
  },
  {
   "cell_type": "code",
   "execution_count": 30,
   "metadata": {
    "colab": {
     "base_uri": "https://localhost:8080/",
     "height": 472
    },
    "execution": {
     "iopub.status.busy": "2025-03-17T06:57:45.282555Z",
     "iopub.status.idle": "2025-03-17T06:57:45.283541Z",
     "shell.execute_reply": "2025-03-17T06:57:45.282809Z",
     "shell.execute_reply.started": "2025-03-17T06:57:45.282762Z"
    },
    "id": "B6Eg1Cz2y_iP",
    "outputId": "227b6ad5-21de-45d8-ab0b-7dc9a931834f"
   },
   "outputs": [
    {
     "data": {
      "image/png": "[encoded data removed]",
      "text/plain": [
       "<Figure size 640x480 with 1 Axes>"
      ]
     },
     "metadata": {},
     "output_type": "display_data"
    }
   ],
   "source": [
    "import matplotlib.pyplot as plt\n",
    "plt.plot(metrics_history['train_loss'])\n",
    "plt.title('Training Loss')\n",
    "plt.xlabel('Step')\n",
    "plt.ylabel('Loss')\n",
    "plt.show()"
   ]
  },
  {
   "cell_type": "code",
   "execution_count": 63,
   "metadata": {
    "colab": {
     "base_uri": "https://localhost:8080/"
    },
    "id": "Sy74Hsey8bBR",
    "outputId": "78d9ce88-54aa-4501-fca9-42b4df44b466"
   },
   "outputs": [
    {
     "name": "stdout",
     "output_type": "stream",
     "text": [
      "Total model parameters: 34,420,433\n",
      "Frozen parameters: 27,430,481 (79.69%)\n",
      "Trainable LoRA parameters: 6,989,952 (20.31%)\n",
      "  - LoRA A matrices: 294,912\n",
      "  - LoRA B matrices: 6,695,040\n"
     ]
    }
   ],
   "source": [
    "# Analysis of LoRA Parameter Efficiency using proper module iteration\n",
    "import jax.numpy as jnp\n",
    "import matplotlib.pyplot as plt\n",
    "\n",
    "# Initialize counters\n",
    "total_params = 0\n",
    "lora_a_params = 0\n",
    "lora_b_params = 0\n",
    "other_params = 0\n",
    "layer_counts = {}\n",
    "\n",
    "# Iterate through all modules and count parameters\n",
    "for path, module in lora_model.iter_modules():\n",
    "    module_name = '.'.join(str(p) for p in path) if path else \"root\"\n",
    "\n",
    "    module_params = 0\n",
    "    module_lora_params = 0\n",
    "\n",
    "    for name, attr in vars(module).items():\n",
    "        if name.startswith('_') or not hasattr(attr, 'value'):\n",
    "            continue\n",
    "\n",
    "        # Get the parameter array\n",
    "        param_array = attr.value\n",
    "        if not isinstance(param_array, jnp.ndarray):\n",
    "            continue\n",
    "\n",
    "        param_count = param_array.size\n",
    "        module_params += param_count\n",
    "        total_params += param_count\n",
    "\n",
    "        # Check if this is a LoRA parameter\n",
    "        if name == 'lora_a':\n",
    "            lora_a_params += param_count\n",
    "            module_lora_params += param_count\n",
    "        elif name == 'lora_b':\n",
    "            lora_b_params += param_count\n",
    "            module_lora_params += param_count\n",
    "        else:\n",
    "            other_params += param_count\n",
    "\n",
    "# Calculate total LoRA parameters and ratios\n",
    "lora_params = lora_a_params + lora_b_params\n",
    "trainable_ratio = lora_params / total_params\n",
    "frozen_ratio = other_params / total_params\n",
    "\n",
    "print(f\"Total model parameters: {total_params:,}\")\n",
    "print(f\"Frozen parameters: {other_params:,} ({frozen_ratio:.2%})\")\n",
    "print(f\"Trainable LoRA parameters: {lora_params:,} ({trainable_ratio:.2%})\")\n",
    "print(f\"  - LoRA A matrices: {lora_a_params:,}\")\n",
    "print(f\"  - LoRA B matrices: {lora_b_params:,}\")"
   ]
  },
  {
   "cell_type": "markdown",
   "metadata": {
    "id": "bOl4CY61Llcp"
   },
   "source": [
    "This example has demonstrated the implementation of LoRA in JAX, showing how to replace standard linear layers with LoRA-enabled versions and train only these adapter parameters while keeping the base model frozen.\n",
    "\n",
    "As we've seen from our experiment results, this approach of applying LoRA to a model trained from scratch produced limited generation quality. The text outputs were repetitive and lacked coherence.\n",
    "\n",
    "That is because LoRA is designed to make incremental adaptations to already capable models, not to carry the full burden of learning language structure from scratch. The small parameter space of the LoRA matrices (even with rank=128) simply cannot capture the full complexity of language when starting from random initialization.\n",
    "\n",
    "\n",
    "###Next Steps\n",
    "In a subsequent chapter, we'll explore how to integrate LoRA into existing pre-trained language models rather than training from scratch. If you want to stop here and save your progress you can run the follwing cells:"
   ]
  },
  {
   "cell_type": "markdown",
   "metadata": {
    "id": "soPqiR1JNmjf"
   },
   "source": [
    "### Saving"
   ]
  },
  {
   "cell_type": "code",
   "execution_count": null,
   "metadata": {
    "execution": {
     "iopub.status.busy": "2025-03-17T06:57:45.284249Z",
     "iopub.status.idle": "2025-03-17T06:57:45.285697Z",
     "shell.execute_reply": "2025-03-17T06:57:45.284666Z",
     "shell.execute_reply.started": "2025-03-17T06:57:45.284618Z"
    },
    "id": "EkoFGCgSZ1yz"
   },
   "outputs": [],
   "source": [
    "import orbax.checkpoint as orbax\n",
    "\n",
    "state = nnx.state(lora_model)\n",
    "\n",
    "checkpointer = orbax.PyTreeCheckpointer()\n",
    "checkpointer.save('/content/save', state)\n",
    "\n",
    "# Make sure the files are there\n",
    "!ls /content/save/"
   ]
  },
  {
   "cell_type": "markdown",
   "metadata": {
    "id": "jCApVd7671c1"
   },
   "source": [
    "### Disconnect the Colab runtime"
   ]
  },
  {
   "cell_type": "code",
   "execution_count": null,
   "metadata": {
    "execution": {
     "iopub.status.busy": "2025-03-17T06:57:45.300296Z",
     "iopub.status.idle": "2025-03-17T06:57:45.301123Z",
     "shell.execute_reply": "2025-03-17T06:57:45.300683Z",
     "shell.execute_reply.started": "2025-03-17T06:57:45.300636Z"
    },
    "id": "NsqYdbrDVKSq"
   },
   "outputs": [],
   "source": [
    "from google.colab import runtime\n",
    "runtime.unassign()"
   ]
  },
  {
   "cell_type": "markdown",
   "metadata": {
    "id": "BRE3MBAfRS7i"
   },
   "source": [
    "# 2. Fine-tuning a pre-trained LLM with LoRA"
   ]
  }
 ],
 "metadata": {
  "colab": {
   "provenance": []
  },
  "jupytext": {
   "formats": "ipynb,md:myst"
  },
  "kaggle": {
   "accelerator": "nvidiaTeslaT4",
   "dataSources": [],
   "dockerImageVersionId": 30919,
   "isGpuEnabled": true,
   "isInternetEnabled": true,
   "language": "python",
   "sourceType": "notebook"
  },
  "kernelspec": {
   "display_name": "Python 3",
   "name": "python3"
  },
  "language_info": {
   "codemirror_mode": {
    "name": "ipython",
    "version": 3
   },
   "file_extension": ".py",
   "mimetype": "text/x-python",
   "name": "python",
   "nbconvert_exporter": "python",
   "pygments_lexer": "ipython3",
   "version": "3.10.12"
  }
 },
 "nbformat": 4,
 "nbformat_minor": 0
}
