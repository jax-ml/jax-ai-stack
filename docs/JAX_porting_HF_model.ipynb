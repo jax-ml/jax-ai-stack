{
 "cells": [
  {
   "cell_type": "markdown",
   "metadata": {
    "id": "wXMWNV2Rw-wE"
   },
   "source": [
    "# Converting the LLama 3 8B Instruct model from Hugging Face to JAX\n",
    "\n",
    "[![Open in Colab](https://colab.research.google.com/assets/colab-badge.svg)](https://colab.research.google.com/github/jax-ml/jax-ai-stack/blob/main/docs/JAX_porting_HF_model.ipynb)\n",
    "\n",
    "[![Kaggle](https://kaggle.com/static/images/open-in-kaggle.svg)](https://kaggle.com/kernels/welcome?src=https://github.com/jax-ml/jax-ai-stack/blob/main/docs/JAX_porting_HF_model.ipynb)\n",
    "\n",
    "This tutorial demonstrates to convert Meta's [Llama 3 8B Instruct model](https://huggingface.co/meta-llama/Meta-Llama-3-8B-Instruct) from Hugging Face to a JAX model and run it on a CPU.\n",
    "\n",
    "You need some familiarity with [Flax](https://flax.readthedocs.io/en/latest/index.html), a library for building Neural Networks in JAX, to follow along. If you are getting started, check out the tutorials on [Getting started with JAX for AI](https://jax-ai-stack.readthedocs.io/en/latest/getting_started_with_jax_for_AI.html#example-a-simple-neural-network-with-flax) and [Flax's MNIST tutorial](https://flax.readthedocs.io/en/latest/mnist_tutorial.html).\n",
    "\n",
    "Since the model is fairly large, you are going to need either **a Colab's high RAM VM** (which requires Pro subscription) or **a Kaggle VM**."
   ]
  },
  {
   "cell_type": "markdown",
   "metadata": {
    "id": "Iuq-_y1qyXLF"
   },
   "source": [
    "## Setup\n",
    "\n",
    "Let's install the `jax-ai-stack`, we'll use the `jax` and `flax` libraries from the stack in this tutorial. We will also need `huggingface_hub` for downloading model weights and `transformers` for tokenization."
   ]
  },
  {
   "cell_type": "code",
   "execution_count": null,
   "metadata": {
    "id": "q5ueiKcIw8Sl"
   },
   "outputs": [],
   "source": [
    "!pip install -q jax-ai-stack\n",
    "!pip install -Uq transformers huggingface_hub"
   ]
  },
  {
   "cell_type": "markdown",
   "metadata": {
    "id": "dLCAc5Wbyl4N"
   },
   "source": [
    "Take care of the imports."
   ]
  },
  {
   "cell_type": "code",
   "execution_count": null,
   "metadata": {
    "id": "VnGrbnX1yjsQ"
   },
   "outputs": [],
   "source": [
    "import jax\n",
    "import jax.numpy as jnp\n",
    "from flax import nnx\n",
    "from safetensors import safe_open\n",
    "from pathlib import Path\n",
    "import os\n",
    "from huggingface_hub import snapshot_download\n",
    "from transformers import AutoTokenizer"
   ]
  },
  {
   "cell_type": "markdown",
   "metadata": {
    "id": "7oUeDSNozsF0"
   },
   "source": [
    "## Define the configuration"
   ]
  },
  {
   "cell_type": "markdown",
   "metadata": {
    "id": "ZlmwhxkcyD9V"
   },
   "source": [
    "Llama's modeling code in the transformers library lives [here](https://github.com/huggingface/transformers/blob/main/src/transformers/models/llama/modeling_llama.py). But before we create the model in JAX, we need to define some parameters."
   ]
  },
  {
   "cell_type": "code",
   "execution_count": null,
   "metadata": {
    "id": "9WErwCTtzv7x"
   },
   "outputs": [],
   "source": [
    "class LlamaConfig:\n",
    "    def __init__(self):\n",
    "        self.dim = 4096\n",
    "        self.n_layers = 32\n",
    "        self.n_heads = 32\n",
    "        self.n_kv_heads = 8\n",
    "        self.head_dim = self.dim // self.n_heads\n",
    "        self.intermediate_size = 14336\n",
    "        self.vocab_size = 128256\n",
    "        self.multiple_of = 1024\n",
    "        self.norm_eps = 1e-05\n",
    "        self.rope_theta = 500000.0\n",
    "\n",
    "config = LlamaConfig()"
   ]
  },
  {
   "cell_type": "markdown",
   "metadata": {
    "id": "mRNFx-eBywHO"
   },
   "source": [
    "## Load the model weights\n",
    "\n",
    "We'll use the transformers library to download the model weights.\n",
    "\n",
    "Meta requires [acceptance of the license](https://huggingface.co/meta-llama/Meta-Llama-3-8B-Instruct/discussions/130) before you can access the files. You will also need a Hugging Face access token, please refer to [Hugging Face documentation](https://huggingface.co/docs/hub/en/security-tokens) to set it up."
   ]
  },
  {
   "cell_type": "code",
   "execution_count": null,
   "metadata": {
    "colab": {
     "base_uri": "https://localhost:8080/",
     "height": 195,
     "referenced_widgets": [
      "7012c81e0d274411ada7525419c894e6",
      "faf305cd582f4a83ad2582299922452d",
      "6e9676ad4cd5480b9740100f32010749",
      "88fa63ac6467415785537153434eec6a",
      "e259a5ef25e44a7dad49afedb3e25ad9",
      "8e2a389dd7064d8381eded838501edf7",
      "862c4ada4adf422285d0f4184402b417",
      "9c39b737455647b7a90d069a2d5d1174",
      "84abf9c99e0a4ad18669c931ea9f1225",
      "3aad07fed4a64c1fbce16f65168c5942",
      "a2e56693c27247ab8b19b75af5568aec",
      "a9d25d395b7240c699ba1a001e97bc01",
      "115307c0e18f4e7c9cb03b40dc045fea",
      "0075cf237eb1492091f3b622441acaec",
      "362c8f5b725647f1baf87a177625e914",
      "55c6ab804ced4da988f530c8f84a3aa4",
      "897a5b9a5c8a40d1b90058bb1ffea1fa",
      "0c5b0c8624b64e899bfd9dcc73ba1345",
      "1f8be54d549b4b6684081dcb5deded73",
      "6776f54ea4b24332ae9650bf651052ac",
      "b1aba6f7ab6f4d57bf678d113df239bf",
      "e6aa29e3e18845efaf5b1c66511d6504",
      "3b4cc5d3389e4cfc88b3e26ee8ba8e50",
      "8723f6a787664da1ab849d04949cd764",
      "19b48ca524ec43359e3e68cf1ab965b6",
      "d1c3feea5cbc48b69d15b3cd3195f6c1",
      "bb6cee0552994adfaefeab4ffafc59bc",
      "cbe3094b322140ee9bbf1bac829ab963",
      "84998fc5b9014df3b43bc42c729152a0",
      "5fd802b91c28472693ead7723cdedd5f",
      "265d35cf0dae4d63a7b4f2a7b160098b",
      "d2c13617a5e84498b01ca97370e9a825",
      "cc30646ad6e443318977e939cb43be25",
      "e749c6a737bc4168a0e280335a4639cb",
      "5f440b28cae6429f8614a2a930867230",
      "ad00a584a1484b1aa6295a4395f4c488",
      "2b018b81a8a14ff8a103f7395ce65147",
      "7501a49606b346e997647375b1660377",
      "a6ee1a55467b4027ab526683ce1debe9",
      "e6e24411eac94287aa7bb1ffb6e15d0d",
      "3edfed06e8f24ccea0ffa6386244c05a",
      "23b0ae2153764e39a737abd5c80d3d21",
      "6d4aa5dfa939462b9f53a56c41803c0e",
      "2d81309748f34ad28e0c2f7fc2734c8f",
      "3a75b8e419004b36a06e556fa5a4e535",
      "48d5fa17a0c3444795708ac8cb5e7f45",
      "b21b452dbdbe4db1a6a8c7ad75553b1b",
      "11e528bfe36341adbc264a6ca05d09d9",
      "ddc376976d7f41b6a5dab76c32f62d57",
      "ed4dc67131144c228f088202197e7015",
      "33ae1220d30d46c19893ed23c230995b",
      "2dd3319a37fe426daed81f7f3ebba034",
      "ac443b375fe448c3bf028755064e0cc6",
      "98454d975f5842eeb4a4e11173e272fd",
      "990cb01cfa0c44b4966c45358e516076"
     ]
    },
    "id": "oVAJOEEOzEA9",
    "outputId": "5df4bc65-6031-44a8-9233-6b9e1ea1d069"
   },
   "outputs": [
    {
     "data": {
      "application/vnd.jupyter.widget-view+json": {
       "model_id": "7012c81e0d274411ada7525419c894e6",
       "version_major": 2,
       "version_minor": 0
      },
      "text/plain": [
       "Fetching 17 files:   0%|          | 0/17 [00:00<?, ?it/s]"
      ]
     },
     "metadata": {},
     "output_type": "display_data"
    },
    {
     "data": {
      "application/vnd.jupyter.widget-view+json": {
       "model_id": "a9d25d395b7240c699ba1a001e97bc01",
       "version_major": 2,
       "version_minor": 0
      },
      "text/plain": [
       "model-00002-of-00004.safetensors:  39%|###9      | 1.95G/5.00G [00:00<?, ?B/s]"
      ]
     },
     "metadata": {},
     "output_type": "display_data"
    },
    {
     "data": {
      "application/vnd.jupyter.widget-view+json": {
       "model_id": "3b4cc5d3389e4cfc88b3e26ee8ba8e50",
       "version_major": 2,
       "version_minor": 0
      },
      "text/plain": [
       "model-00003-of-00004.safetensors:  40%|###9      | 1.95G/4.92G [00:00<?, ?B/s]"
      ]
     },
     "metadata": {},
     "output_type": "display_data"
    },
    {
     "data": {
      "application/vnd.jupyter.widget-view+json": {
       "model_id": "e749c6a737bc4168a0e280335a4639cb",
       "version_major": 2,
       "version_minor": 0
      },
      "text/plain": [
       "model-00001-of-00004.safetensors:  39%|###9      | 1.95G/4.98G [00:00<?, ?B/s]"
      ]
     },
     "metadata": {},
     "output_type": "display_data"
    },
    {
     "data": {
      "application/vnd.jupyter.widget-view+json": {
       "model_id": "3a75b8e419004b36a06e556fa5a4e535",
       "version_major": 2,
       "version_minor": 0
      },
      "text/plain": [
       "consolidated.00.pth:  12%|#1        | 1.91G/16.1G [00:00<?, ?B/s]"
      ]
     },
     "metadata": {},
     "output_type": "display_data"
    },
    {
     "data": {
      "application/vnd.google.colaboratory.intrinsic+json": {
       "type": "string"
      },
      "text/plain": [
       "'/content/meta-llama/Meta-Llama-3-8B'"
      ]
     },
     "execution_count": 4,
     "metadata": {},
     "output_type": "execute_result"
    }
   ],
   "source": [
    "model_id = \"meta-llama/Meta-Llama-3-8B\"\n",
    "path_to_model_weights = os.path.join(\"/content\", model_id)\n",
    "snapshot_download(repo_id=model_id, local_dir=path_to_model_weights)"
   ]
  },
  {
   "cell_type": "markdown",
   "metadata": {
    "id": "4Xo6QyVR0UkF"
   },
   "source": [
    "Then extract the model weights from the safetensors file and store them in the `weights` dict. These weights will be loaded into our JAX model soon."
   ]
  },
  {
   "cell_type": "code",
   "execution_count": null,
   "metadata": {
    "id": "pERpzsPS0fLj"
   },
   "outputs": [],
   "source": [
    "def load_safetensors():\n",
    "    weights = {}\n",
    "    safetensors_files = Path(path_to_model_weights).glob('*.safetensors')\n",
    "\n",
    "    for file in safetensors_files:\n",
    "        with safe_open(file, framework=\"jax\", device=\"cpu\") as f:\n",
    "            for key in f.keys():\n",
    "                weights[key] = f.get_tensor(key)\n",
    "    return weights\n",
    "\n",
    "weights = load_safetensors()"
   ]
  },
  {
   "cell_type": "markdown",
   "metadata": {
    "id": "6ToKOCWIPJl1"
   },
   "source": [
    "Note that the weights are stored in bfloat16."
   ]
  },
  {
   "cell_type": "markdown",
   "metadata": {
    "id": "vQ7Bmvj70jjA"
   },
   "source": [
    "## Define the Flax model"
   ]
  },
  {
   "cell_type": "markdown",
   "metadata": {
    "id": "HdHQwfSO1xfY"
   },
   "source": [
    "Now we can define the model. This [diagram](https://docs.nvidia.com/deeplearning/transformer-engine/user-guide/_images/transformer_vs_llama.svg) from NVidia visualizes the model architecture pretty nicely.\n",
    "\n",
    "We will start by defining the RMS normalization layer. Note how we load the parameters from the `weights` dict."
   ]
  },
  {
   "cell_type": "code",
   "execution_count": null,
   "metadata": {
    "id": "8Zi7p42-0qya"
   },
   "outputs": [],
   "source": [
    "class LlamaRMSNorm(nnx.Module):\n",
    "\n",
    "    def __init__(self, name=None, layer_idx=None, rngs=None):\n",
    "        if name is None and layer_idx is None:\n",
    "            # Final normalization layer\n",
    "            self.norm_weights = nnx.Param(weights[\"model.norm.weight\"], rngs=rngs)\n",
    "        else:\n",
    "            self.norm_weights = nnx.Param(weights[f\"model.layers.{layer_idx}.{name}.weight\"], rngs=rngs)\n",
    "\n",
    "    def __call__(self, hidden_states):\n",
    "        input_dtype = hidden_states.dtype\n",
    "        hidden_states = hidden_states.astype(jnp.float32)\n",
    "        squared_mean = jnp.mean(jnp.square(hidden_states), axis=-1, keepdims=True)\n",
    "        hidden_states = hidden_states * jnp.reciprocal(jnp.sqrt(squared_mean + config.norm_eps))\n",
    "        return self.norm_weights * hidden_states.astype(input_dtype)"
   ]
  },
  {
   "cell_type": "markdown",
   "metadata": {
    "id": "8ZecTSm_2SVT"
   },
   "source": [
    "Llama 3 uses [Rotary Position Embedding (RoPE)](https://arxiv.org/abs/2104.09864) to encode both token and positional embeddings. For a gentle introduction to RoPE, please refer to the [CMU lecture slides](https://www.cs.cmu.edu/~mgormley/courses/10423-s24//slides/lecture5-vit-ink.pdf) and this awesome [EleutherAI blog](https://blog.eleuther.ai/rotary-embeddings/)."
   ]
  },
  {
   "cell_type": "code",
   "execution_count": null,
   "metadata": {
    "id": "ZgrersK60ycn"
   },
   "outputs": [],
   "source": [
    "class LlamaRotaryEmbedding(nnx.Module):\n",
    "\n",
    "    def __init__(self, dim, base=10000, rngs=None):\n",
    "        self.dim = dim\n",
    "        self.base = base\n",
    "\n",
    "    def __call__(self, position_ids):\n",
    "        inv_freq = 1.0 / (self.base ** (jnp.arange(0, self.dim, 2, dtype=jnp.float32) / self.dim))\n",
    "        inv_freq_expanded = jnp.expand_dims(inv_freq, axis=(0, 1))\n",
    "        position_ids_expanded = jnp.expand_dims(position_ids, axis=(0, 2)).astype(jnp.float32)\n",
    "        freqs = jnp.einsum('bij,bjk->bijk', position_ids_expanded, inv_freq_expanded)\n",
    "        emb = jnp.concatenate([freqs, freqs], axis=-1)\n",
    "        cos = jnp.cos(emb).squeeze(2).astype(jnp.bfloat16)\n",
    "        sin = jnp.sin(emb).squeeze(2).astype(jnp.bfloat16)\n",
    "        return cos, sin"
   ]
  },
  {
   "cell_type": "markdown",
   "metadata": {
    "id": "8omcCyDO4OdS"
   },
   "source": [
    "Now we create the attention layers. Note how we load the weights into the q, k and v projection layers."
   ]
  },
  {
   "cell_type": "code",
   "execution_count": null,
   "metadata": {
    "id": "vkPG8ILr0zwg"
   },
   "outputs": [],
   "source": [
    "class LlamaAttention(nnx.Module):\n",
    "\n",
    "    def __init__(self, layer_idx, rngs=None):\n",
    "        self.q_proj = nnx.Linear(config.dim, config.n_heads * config.head_dim, use_bias=False, rngs=rngs)\n",
    "        self.q_proj.kernel.value = weights[f\"model.layers.{layer_idx}.self_attn.q_proj.weight\"].T\n",
    "        self.k_proj = nnx.Linear(config.dim, config.n_kv_heads * config.head_dim, use_bias=False, rngs=rngs)\n",
    "        self.k_proj.kernel.value = weights[f\"model.layers.{layer_idx}.self_attn.k_proj.weight\"].T\n",
    "        self.v_proj = nnx.Linear(config.dim, config.n_kv_heads * config.head_dim, use_bias=False, rngs=rngs)\n",
    "        self.v_proj.kernel.value = weights[f\"model.layers.{layer_idx}.self_attn.v_proj.weight\"].T\n",
    "        self.o_proj = nnx.Linear(config.n_heads * config.head_dim, config.dim, use_bias=False, rngs=rngs)\n",
    "        self.o_proj.kernel.value = weights[f\"model.layers.{layer_idx}.self_attn.o_proj.weight\"].T\n",
    "        self.rotary_emb = LlamaRotaryEmbedding(config.head_dim, base=config.rope_theta, rngs=rngs)\n",
    "\n",
    "    # Alternative implementation: https://github.com/google/flax/blob/5d896bc1a2c68e2099d147cd2bc18ebb6a46a0bd/examples/gemma/positional_embeddings.py#L45\n",
    "    def apply_rotary_pos_emb(self, q, k, cos, sin, unsqueeze_dim=1):\n",
    "        cos = jnp.expand_dims(cos, axis=unsqueeze_dim)\n",
    "        sin = jnp.expand_dims(sin, axis=unsqueeze_dim)\n",
    "        q_embed = (q * cos) + (self.rotate_half(q) * sin)\n",
    "        k_embed = (k * cos) + (self.rotate_half(k) * sin)\n",
    "        return q_embed, k_embed\n",
    "\n",
    "    def rotate_half(self, x):\n",
    "        x1 = x[..., : x.shape[-1] // 2]\n",
    "        x2 = x[..., x.shape[-1] // 2 :]\n",
    "        return jnp.concatenate([-x2, x1], axis=-1)\n",
    "\n",
    "    def repeat_kv(self, hidden_states, n_repeat):\n",
    "        batch, n_kv_heads, seq_len, head_dim = hidden_states.shape\n",
    "        if n_repeat == 1:\n",
    "            return hidden_states\n",
    "        hidden_states = hidden_states[:, :, None, :, :].repeat(n_repeat, axis=2)\n",
    "        return hidden_states.reshape(batch, n_kv_heads * n_repeat, seq_len, head_dim)\n",
    "\n",
    "    def __call__(self, x, position_ids):\n",
    "        batch_size, seq_len, _ = x.shape\n",
    "        query = self.q_proj(x).reshape(batch_size, seq_len, config.n_heads, config.head_dim).transpose((0, 2, 1, 3))\n",
    "        key = self.k_proj(x).reshape(batch_size, seq_len, config.n_kv_heads, config.head_dim).transpose((0, 2, 1, 3))\n",
    "        value = self.v_proj(x).reshape(batch_size, seq_len, config.n_kv_heads, config.head_dim).transpose((0, 2, 1, 3))\n",
    "        # Assuming batch_size=1\n",
    "        cos, sin = self.rotary_emb(position_ids[0])\n",
    "        query, key = self.apply_rotary_pos_emb(query, key, cos, sin)\n",
    "\n",
    "        key = self.repeat_kv(key, config.n_heads // config.n_kv_heads)\n",
    "        value = self.repeat_kv(value, config.n_heads // config.n_kv_heads)\n",
    "\n",
    "        attn_weights = jnp.matmul(query, jnp.transpose(key, (0, 1, 3, 2))) / jnp.sqrt(config.head_dim)\n",
    "        attn_weights = jax.nn.softmax(attn_weights.astype(jnp.float32), axis=-1).astype(jnp.bfloat16)\n",
    "        attn_output = jnp.matmul(attn_weights, value).transpose((0, 2, 1, 3)).reshape(batch_size, seq_len, -1)\n",
    "        output = self.o_proj(attn_output)\n",
    "        return output"
   ]
  },
  {
   "cell_type": "markdown",
   "metadata": {
    "id": "J0hDkS4N3yor"
   },
   "source": [
    "MLP layer follows the attention layer. Similarly we load the weights into the gate, up and down projection layers."
   ]
  },
  {
   "cell_type": "code",
   "execution_count": null,
   "metadata": {
    "id": "y5qP9b82047Y"
   },
   "outputs": [],
   "source": [
    "class LlamaMLP(nnx.Module):\n",
    "\n",
    "    def __init__(self, layer_idx, rngs=None):\n",
    "        self.gate_proj = nnx.Linear(config.dim, config.intermediate_size, use_bias=False, rngs=rngs)\n",
    "        self.gate_proj.kernel.value = weights[f\"model.layers.{layer_idx}.mlp.gate_proj.weight\"].T\n",
    "        self.up_proj = nnx.Linear(config.dim, config.intermediate_size, use_bias=False, rngs=rngs)\n",
    "        self.up_proj.kernel.value = weights[f\"model.layers.{layer_idx}.mlp.up_proj.weight\"].T\n",
    "        self.down_proj = nnx.Linear(config.intermediate_size, config.dim, use_bias=False, rngs=rngs)\n",
    "        self.down_proj.kernel.value = weights[f\"model.layers.{layer_idx}.mlp.down_proj.weight\"].T\n",
    "\n",
    "    def __call__(self, x):\n",
    "        return self.down_proj(jax.nn.silu(self.gate_proj(x)) * self.up_proj(x))"
   ]
  },
  {
   "cell_type": "markdown",
   "metadata": {
    "id": "keogeCxz30Tw"
   },
   "source": [
    "We assemble the decoder block."
   ]
  },
  {
   "cell_type": "code",
   "execution_count": null,
   "metadata": {
    "id": "dW--6pPv1EQI"
   },
   "outputs": [],
   "source": [
    "class LlamaTransformerBlock(nnx.Module):\n",
    "\n",
    "    def __init__(self, layer_idx, rngs=None):\n",
    "        self.input_layernorm = LlamaRMSNorm(name=\"input_layernorm\", layer_idx=layer_idx, rngs=rngs)\n",
    "        self.attention = LlamaAttention(layer_idx=layer_idx, rngs=rngs)\n",
    "        self.post_attention_layernorm = LlamaRMSNorm(name=\"post_attention_layernorm\", layer_idx=layer_idx, rngs=rngs)\n",
    "        self.mlp = LlamaMLP(layer_idx=layer_idx, rngs=rngs)\n",
    "\n",
    "    def __call__(self, x, position_ids):\n",
    "        residual = x\n",
    "        x = self.input_layernorm(x)\n",
    "        x = self.attention(x, position_ids)\n",
    "        x = residual + x\n",
    "\n",
    "        residual = x\n",
    "        x = self.post_attention_layernorm(x)\n",
    "        x = self.mlp(x)\n",
    "        x = residual + x\n",
    "        return x"
   ]
  },
  {
   "cell_type": "markdown",
   "metadata": {
    "id": "5mvjJWU54Biz"
   },
   "source": [
    "Finally we have the enire model."
   ]
  },
  {
   "cell_type": "code",
   "execution_count": null,
   "metadata": {
    "id": "W85ioRay1HYz"
   },
   "outputs": [],
   "source": [
    "class LlamaForCausalLM(nnx.Module):\n",
    "\n",
    "    def __init__(self, rngs=None):\n",
    "        self.token_embed = nnx.Embed(num_embeddings=config.vocab_size, features=config.dim, dtype=jnp.bfloat16, rngs=rngs)\n",
    "        self.token_embed.embedding.value = weights[\"model.embed_tokens.weight\"]\n",
    "\n",
    "        self.layers = [LlamaTransformerBlock(layer_idx=idx, rngs=rngs) for idx in range(config.n_layers)]\n",
    "        self.lm_head = nnx.Linear(config.dim, config.vocab_size, use_bias=False, rngs=rngs)\n",
    "        self.lm_head.kernel.value = weights[\"lm_head.weight\"].T\n",
    "        self.norm = LlamaRMSNorm(name=None, layer_idx=None, rngs=rngs)\n",
    "\n",
    "    def __call__(self, input_ids, position_ids):\n",
    "        assert input_ids.shape[0] == 1, \"Only batch size 1 is supported\"\n",
    "        x = self.token_embed(input_ids)\n",
    "        for layer in self.layers:\n",
    "            x = layer(x, position_ids)\n",
    "        x = self.norm(x)\n",
    "        logits = self.lm_head(x)\n",
    "        return logits"
   ]
  },
  {
   "cell_type": "markdown",
   "metadata": {
    "id": "gBfFRlNx1b8Z"
   },
   "source": [
    "## Run the Flax model"
   ]
  },
  {
   "cell_type": "markdown",
   "metadata": {
    "id": "ZWcxgcsI4ESh"
   },
   "source": [
    "Let's take it for a spin! We are still going to use the tokenizer from Hugging Face (since our primary focus is re-building the model instead of the tokenizer)."
   ]
  },
  {
   "cell_type": "code",
   "execution_count": null,
   "metadata": {
    "colab": {
     "base_uri": "https://localhost:8080/"
    },
    "id": "HsQAmr-h1ZYa",
    "outputId": "92378d10-3065-4047-d137-d1160725b04b"
   },
   "outputs": [
    {
     "name": "stdout",
     "output_type": "stream",
     "text": [
      "Generated token: 27286\n",
      "Generated token: 13\n",
      "Generated token: 27286\n",
      "Generated token: 374\n",
      "Generated token: 279\n",
      "<|begin_of_text|>The capital of Japan is Tokyo. Tokyo is the\n"
     ]
    }
   ],
   "source": [
    "model = LlamaForCausalLM(rngs=nnx.Rngs(0))\n",
    "\n",
    "tokenizer = AutoTokenizer.from_pretrained(model_id)\n",
    "input_text = \"The capital of Japan is\"\n",
    "\n",
    "input_ids = tokenizer(input_text, return_tensors=\"jax\")[\"input_ids\"]\n",
    "position_ids = jnp.asarray([jnp.arange(input_ids.shape[1])])\n",
    "\n",
    "for _ in range(5):\n",
    "    logits = model(input_ids, position_ids)\n",
    "    next_token = jnp.argmax(logits[:, -1, :], axis=-1)\n",
    "    input_ids = jnp.concatenate([input_ids, next_token[:, None]], axis=1)\n",
    "    position_ids = jnp.asarray([jnp.arange(input_ids.shape[1])])\n",
    "    print(f\"Generated token: {next_token[0]}\")\n",
    "\n",
    "print(tokenizer.decode(input_ids[0]))"
   ]
  },
  {
   "cell_type": "markdown",
   "metadata": {
    "id": "QLAM95pf5RMu"
   },
   "source": [
    "There you have it. We have successfully converted the Hugging Face model weights from the safetensors file, loaded them up in our JAX model, and run the model.\n",
    "\n",
    "For simplicity, we have left out many optimizations (JIT, batch inference, KV cache, leveraging accelerators, SPMD and etc.) to speed things up. Feel free to implement them as an exercise."
   ]
  },
  {
   "cell_type": "markdown",
   "metadata": {
    "id": "IJfrKpEa7DLb"
   },
   "source": [
    "## Convert weights from other frameworks\n",
    "\n",
    "You can also convert weights from other frameworks. Afer all, those are just numbers. But note that the tensor names and layouts could be different (this is expected since different frameworks may implement differently), so you may need to adjust your code accordingly.\n",
    "\n",
    "**Before proceeding, you may need to restart the runtime to release the memory.**"
   ]
  },
  {
   "cell_type": "markdown",
   "metadata": {
    "id": "GrzUleJt78Lm"
   },
   "source": [
    "### Keras Hub"
   ]
  },
  {
   "cell_type": "markdown",
   "metadata": {
    "id": "kRdNtJj_TlaF"
   },
   "source": [
    "Keras Hub supports Llama 3 models. We can use Keras Hub to load the model and extract the weights. Note that the model files are hosted on [Kaggle](https://www.kaggle.com/models/keras/llama3), so you need to accept the license first and provide a Kaggle API key to access the files below."
   ]
  },
  {
   "cell_type": "code",
   "execution_count": null,
   "metadata": {
    "id": "AoMY1AbX69-Z"
   },
   "outputs": [],
   "source": [
    "!pip install -Uq keras-hub\n",
    "\n",
    "import keras_hub\n",
    "\n",
    "llama_lm = keras_hub.models.Llama3CausalLM.from_preset(\"llama3_8b_en\", dtype=\"bfloat16\")\n",
    "\n",
    "weights_dict = {}\n",
    "for layer in llama_lm.backbone.layers:\n",
    "    weights = layer.get_weights()\n",
    "    if weights:\n",
    "        weights_dict[layer.name] = weights"
   ]
  },
  {
   "cell_type": "markdown",
   "metadata": {
    "id": "AD1cA9GcUjR4"
   },
   "source": [
    "For example, here are the embeddings. You then need to extract every weight tensor and load them up in JAX like we did for the Hugging Face model."
   ]
  },
  {
   "cell_type": "code",
   "execution_count": null,
   "metadata": {
    "colab": {
     "base_uri": "https://localhost:8080/"
    },
    "id": "jDt2YqTtSyiO",
    "outputId": "bc3cc9a8-56c0-4c4f-cfa6-206282a6f27f"
   },
   "outputs": [
    {
     "data": {
      "text/plain": [
       "[array([[0.00137329, 0.00509644, -0.0030365, ..., 0.00228882, -0.00195312,\n",
       "         -1.71661e-05],\n",
       "        [-0.00273132, 0.00193787, -0.00137329, ..., -5.14984e-05,\n",
       "         -0.00139618, -0.00198364],\n",
       "        [0.000953674, -0.0133667, 0.000417709, ..., 0.00259399,\n",
       "         0.00704956, 0.00418091],\n",
       "        ...,\n",
       "        [1.8715e-23, 3.26995e-24, 1.8198e-23, ..., 5.37667e-23,\n",
       "         -2.23597e-24, -1.98523e-23],\n",
       "        [1.93353e-23, -1.86116e-24, -1.88184e-23, ..., 2.33679e-23,\n",
       "         7.34123e-24, -3.12261e-23],\n",
       "        [-7.48598e-23, -6.36929e-23, 5.50592e-24, ..., 4.96308e-24,\n",
       "         -5.45939e-23, -2.28767e-24]], dtype=bfloat16),\n",
       " array([[0.00994873, -0.00686646, 0.0143433, ..., -0.00340271,\n",
       "         -0.00340271, -0.00340271],\n",
       "        [0.017334, 0.0116577, 0.00964355, ..., 0.0019989, 0.0019989,\n",
       "         0.0019989],\n",
       "        [0.00335693, 0.0111694, 0.0088501, ..., 0.00576782, 0.00576782,\n",
       "         0.00576782],\n",
       "        ...,\n",
       "        [0.000717163, -0.00854492, -0.00244141, ..., 0.00154877,\n",
       "         0.00154877, 0.00154877],\n",
       "        [-0.0168457, 0.00909424, -0.00616455, ..., 0.00588989, 0.00588989,\n",
       "         0.00588989],\n",
       "        [-0.0110474, -0.00151825, -0.0141602, ..., 0.00689697, 0.00689697,\n",
       "         0.00689697]], dtype=bfloat16)]"
      ]
     },
     "execution_count": 2,
     "metadata": {},
     "output_type": "execute_result"
    }
   ],
   "source": [
    "weights_dict[\"token_embedding\"]"
   ]
  },
  {
   "cell_type": "markdown",
   "metadata": {
    "id": "KE-hPLhG8Hrs"
   },
   "source": [
    "### PyTorch\n",
    "\n",
    "When you download the Hugging Face model, the original PyTorch model weights released by Meta are automatically downloaded as well. They are located in the `original` subfolder (another way to access them is to visit [Meta's Llama website](https://www.llama.com/llama-downloads/) and go from there). We can load them up like this:"
   ]
  },
  {
   "cell_type": "code",
   "execution_count": null,
   "metadata": {
    "colab": {
     "base_uri": "https://localhost:8080/"
    },
    "id": "r5qUM0O-8J4C",
    "outputId": "03e0d5f1-e11d-4d54-bb43-a9af481d5a10"
   },
   "outputs": [
    {
     "name": "stderr",
     "output_type": "stream",
     "text": [
      "<ipython-input-3-e50f02e23d82>:4: FutureWarning: You are using `torch.load` with `weights_only=False` (the current default value), which uses the default pickle module implicitly. It is possible to construct malicious pickle data which will execute arbitrary code during unpickling (See https://github.com/pytorch/pytorch/blob/main/SECURITY.md#untrusted-models for more details). In a future release, the default value for `weights_only` will be flipped to `True`. This limits the functions that could be executed during unpickling. Arbitrary objects will no longer be allowed to be loaded via this mode unless they are explicitly allowlisted by the user via `torch.serialization.add_safe_globals`. We recommend you start setting `weights_only=True` for any use case where you don't have full control of the loaded file. Please open an issue on GitHub for any issues related to this experimental feature.\n",
      "  model_weights = torch.load(os.path.join(path_to_model_weights, \"consolidated.00.pth\"))\n"
     ]
    }
   ],
   "source": [
    "import torch\n",
    "import os\n",
    "\n",
    "path_to_model_weights = os.path.join(\"/content\", \"Meta-Llama-3-8B-Instruct-weights/original\")\n",
    "model_weights = torch.load(os.path.join(path_to_model_weights, \"consolidated.00.pth\"))"
   ]
  },
  {
   "cell_type": "markdown",
   "metadata": {
    "id": "3qBM83yqUaEM"
   },
   "source": [
    "For example, here are the embeddings. You then need to extract every weight tensor and load them up in JAX like we did for the Hugging Face model."
   ]
  },
  {
   "cell_type": "code",
   "execution_count": null,
   "metadata": {
    "colab": {
     "base_uri": "https://localhost:8080/"
    },
    "id": "CC5DiPvTOWU1",
    "outputId": "7bdd2fb3-fb9c-44e0-bfbf-8fdb0f6a0197"
   },
   "outputs": [
    {
     "data": {
      "text/plain": [
       "tensor([[ 1.3733e-03,  5.0964e-03, -3.0365e-03,  ...,  2.2888e-03,\n",
       "         -1.9531e-03, -1.7166e-05],\n",
       "        [-2.7313e-03,  1.9379e-03, -1.3733e-03,  ..., -5.1498e-05,\n",
       "         -1.3962e-03, -1.9836e-03],\n",
       "        [ 9.5367e-04, -1.3367e-02,  4.1771e-04,  ...,  2.5940e-03,\n",
       "          7.0496e-03,  4.1809e-03],\n",
       "        ...,\n",
       "        [ 1.8715e-23,  3.2699e-24,  1.8198e-23,  ...,  5.3767e-23,\n",
       "         -2.2360e-24, -1.9852e-23],\n",
       "        [ 1.9335e-23, -1.8612e-24, -1.8818e-23,  ...,  2.3368e-23,\n",
       "          7.3412e-24, -3.1226e-23],\n",
       "        [-7.4860e-23, -6.3693e-23,  5.5059e-24,  ...,  4.9631e-24,\n",
       "         -5.4594e-23, -2.2877e-24]], dtype=torch.bfloat16)"
      ]
     },
     "execution_count": 4,
     "metadata": {},
     "output_type": "execute_result"
    }
   ],
   "source": [
    "model_weights[\"tok_embeddings.weight\"]"
   ]
  }
 ],
 "metadata": {
  "colab": {
   "machine_shape": "hm",
   "provenance": []
  },
  "jupytext": {
   "formats": "ipynb,md:myst"
  },
  "kernelspec": {
   "display_name": "Python 3",
   "name": "python3"
  },
  "language_info": {
   "name": "python"
  },
  "widgets": {
   "application/vnd.jupyter.widget-state+json": {
    "0075cf237eb1492091f3b622441acaec": {
     "model_module": "@jupyter-widgets/controls",
     "model_module_version": "1.5.0",
     "model_name": "FloatProgressModel",
     "state": {
      "_dom_classes": [],
      "_model_module": "@jupyter-widgets/controls",
      "_model_module_version": "1.5.0",
      "_model_name": "FloatProgressModel",
      "_view_count": null,
      "_view_module": "@jupyter-widgets/controls",
      "_view_module_version": "1.5.0",
      "_view_name": "ProgressView",
      "bar_style": "success",
      "description": "",
      "description_tooltip": null,
      "layout": "IPY_MODEL_1f8be54d549b4b6684081dcb5deded73",
      "max": 4999802720,
      "min": 0,
      "orientation": "horizontal",
      "style": "IPY_MODEL_6776f54ea4b24332ae9650bf651052ac",
      "value": 4999802720
     }
    },
    "0c5b0c8624b64e899bfd9dcc73ba1345": {
     "model_module": "@jupyter-widgets/controls",
     "model_module_version": "1.5.0",
     "model_name": "DescriptionStyleModel",
     "state": {
      "_model_module": "@jupyter-widgets/controls",
      "_model_module_version": "1.5.0",
      "_model_name": "DescriptionStyleModel",
      "_view_count": null,
      "_view_module": "@jupyter-widgets/base",
      "_view_module_version": "1.2.0",
      "_view_name": "StyleView",
      "description_width": ""
     }
    },
    "115307c0e18f4e7c9cb03b40dc045fea": {
     "model_module": "@jupyter-widgets/controls",
     "model_module_version": "1.5.0",
     "model_name": "HTMLModel",
     "state": {
      "_dom_classes": [],
      "_model_module": "@jupyter-widgets/controls",
      "_model_module_version": "1.5.0",
      "_model_name": "HTMLModel",
      "_view_count": null,
      "_view_module": "@jupyter-widgets/controls",
      "_view_module_version": "1.5.0",
      "_view_name": "HTMLView",
      "description": "",
      "description_tooltip": null,
      "layout": "IPY_MODEL_897a5b9a5c8a40d1b90058bb1ffea1fa",
      "placeholder": "​",
      "style": "IPY_MODEL_0c5b0c8624b64e899bfd9dcc73ba1345",
      "value": "model-00002-of-00004.safetensors: 100%"
     }
    },
    "11e528bfe36341adbc264a6ca05d09d9": {
     "model_module": "@jupyter-widgets/controls",
     "model_module_version": "1.5.0",
     "model_name": "HTMLModel",
     "state": {
      "_dom_classes": [],
      "_model_module": "@jupyter-widgets/controls",
      "_model_module_version": "1.5.0",
      "_model_name": "HTMLModel",
      "_view_count": null,
      "_view_module": "@jupyter-widgets/controls",
      "_view_module_version": "1.5.0",
      "_view_name": "HTMLView",
      "description": "",
      "description_tooltip": null,
      "layout": "IPY_MODEL_98454d975f5842eeb4a4e11173e272fd",
      "placeholder": "​",
      "style": "IPY_MODEL_990cb01cfa0c44b4966c45358e516076",
      "value": " 16.1G/16.1G [05:37&lt;00:00, 42.2MB/s]"
     }
    },
    "19b48ca524ec43359e3e68cf1ab965b6": {
     "model_module": "@jupyter-widgets/controls",
     "model_module_version": "1.5.0",
     "model_name": "FloatProgressModel",
     "state": {
      "_dom_classes": [],
      "_model_module": "@jupyter-widgets/controls",
      "_model_module_version": "1.5.0",
      "_model_name": "FloatProgressModel",
      "_view_count": null,
      "_view_module": "@jupyter-widgets/controls",
      "_view_module_version": "1.5.0",
      "_view_name": "ProgressView",
      "bar_style": "success",
      "description": "",
      "description_tooltip": null,
      "layout": "IPY_MODEL_5fd802b91c28472693ead7723cdedd5f",
      "max": 4915916176,
      "min": 0,
      "orientation": "horizontal",
      "style": "IPY_MODEL_265d35cf0dae4d63a7b4f2a7b160098b",
      "value": 4915916176
     }
    },
    "1f8be54d549b4b6684081dcb5deded73": {
     "model_module": "@jupyter-widgets/base",
     "model_module_version": "1.2.0",
     "model_name": "LayoutModel",
     "state": {
      "_model_module": "@jupyter-widgets/base",
      "_model_module_version": "1.2.0",
      "_model_name": "LayoutModel",
      "_view_count": null,
      "_view_module": "@jupyter-widgets/base",
      "_view_module_version": "1.2.0",
      "_view_name": "LayoutView",
      "align_content": null,
      "align_items": null,
      "align_self": null,
      "border": null,
      "bottom": null,
      "display": null,
      "flex": null,
      "flex_flow": null,
      "grid_area": null,
      "grid_auto_columns": null,
      "grid_auto_flow": null,
      "grid_auto_rows": null,
      "grid_column": null,
      "grid_gap": null,
      "grid_row": null,
      "grid_template_areas": null,
      "grid_template_columns": null,
      "grid_template_rows": null,
      "height": null,
      "justify_content": null,
      "justify_items": null,
      "left": null,
      "margin": null,
      "max_height": null,
      "max_width": null,
      "min_height": null,
      "min_width": null,
      "object_fit": null,
      "object_position": null,
      "order": null,
      "overflow": null,
      "overflow_x": null,
      "overflow_y": null,
      "padding": null,
      "right": null,
      "top": null,
      "visibility": null,
      "width": null
     }
    },
    "23b0ae2153764e39a737abd5c80d3d21": {
     "model_module": "@jupyter-widgets/controls",
     "model_module_version": "1.5.0",
     "model_name": "ProgressStyleModel",
     "state": {
      "_model_module": "@jupyter-widgets/controls",
      "_model_module_version": "1.5.0",
      "_model_name": "ProgressStyleModel",
      "_view_count": null,
      "_view_module": "@jupyter-widgets/base",
      "_view_module_version": "1.2.0",
      "_view_name": "StyleView",
      "bar_color": null,
      "description_width": ""
     }
    },
    "265d35cf0dae4d63a7b4f2a7b160098b": {
     "model_module": "@jupyter-widgets/controls",
     "model_module_version": "1.5.0",
     "model_name": "ProgressStyleModel",
     "state": {
      "_model_module": "@jupyter-widgets/controls",
      "_model_module_version": "1.5.0",
      "_model_name": "ProgressStyleModel",
      "_view_count": null,
      "_view_module": "@jupyter-widgets/base",
      "_view_module_version": "1.2.0",
      "_view_name": "StyleView",
      "bar_color": null,
      "description_width": ""
     }
    },
    "2b018b81a8a14ff8a103f7395ce65147": {
     "model_module": "@jupyter-widgets/controls",
     "model_module_version": "1.5.0",
     "model_name": "HTMLModel",
     "state": {
      "_dom_classes": [],
      "_model_module": "@jupyter-widgets/controls",
      "_model_module_version": "1.5.0",
      "_model_name": "HTMLModel",
      "_view_count": null,
      "_view_module": "@jupyter-widgets/controls",
      "_view_module_version": "1.5.0",
      "_view_name": "HTMLView",
      "description": "",
      "description_tooltip": null,
      "layout": "IPY_MODEL_6d4aa5dfa939462b9f53a56c41803c0e",
      "placeholder": "​",
      "style": "IPY_MODEL_2d81309748f34ad28e0c2f7fc2734c8f",
      "value": " 4.98G/4.98G [01:11&lt;00:00, 41.9MB/s]"
     }
    },
    "2d81309748f34ad28e0c2f7fc2734c8f": {
     "model_module": "@jupyter-widgets/controls",
     "model_module_version": "1.5.0",
     "model_name": "DescriptionStyleModel",
     "state": {
      "_model_module": "@jupyter-widgets/controls",
      "_model_module_version": "1.5.0",
      "_model_name": "DescriptionStyleModel",
      "_view_count": null,
      "_view_module": "@jupyter-widgets/base",
      "_view_module_version": "1.2.0",
      "_view_name": "StyleView",
      "description_width": ""
     }
    },
    "2dd3319a37fe426daed81f7f3ebba034": {
     "model_module": "@jupyter-widgets/base",
     "model_module_version": "1.2.0",
     "model_name": "LayoutModel",
     "state": {
      "_model_module": "@jupyter-widgets/base",
      "_model_module_version": "1.2.0",
      "_model_name": "LayoutModel",
      "_view_count": null,
      "_view_module": "@jupyter-widgets/base",
      "_view_module_version": "1.2.0",
      "_view_name": "LayoutView",
      "align_content": null,
      "align_items": null,
      "align_self": null,
      "border": null,
      "bottom": null,
      "display": null,
      "flex": null,
      "flex_flow": null,
      "grid_area": null,
      "grid_auto_columns": null,
      "grid_auto_flow": null,
      "grid_auto_rows": null,
      "grid_column": null,
      "grid_gap": null,
      "grid_row": null,
      "grid_template_areas": null,
      "grid_template_columns": null,
      "grid_template_rows": null,
      "height": null,
      "justify_content": null,
      "justify_items": null,
      "left": null,
      "margin": null,
      "max_height": null,
      "max_width": null,
      "min_height": null,
      "min_width": null,
      "object_fit": null,
      "object_position": null,
      "order": null,
      "overflow": null,
      "overflow_x": null,
      "overflow_y": null,
      "padding": null,
      "right": null,
      "top": null,
      "visibility": null,
      "width": null
     }
    },
    "33ae1220d30d46c19893ed23c230995b": {
     "model_module": "@jupyter-widgets/controls",
     "model_module_version": "1.5.0",
     "model_name": "DescriptionStyleModel",
     "state": {
      "_model_module": "@jupyter-widgets/controls",
      "_model_module_version": "1.5.0",
      "_model_name": "DescriptionStyleModel",
      "_view_count": null,
      "_view_module": "@jupyter-widgets/base",
      "_view_module_version": "1.2.0",
      "_view_name": "StyleView",
      "description_width": ""
     }
    },
    "362c8f5b725647f1baf87a177625e914": {
     "model_module": "@jupyter-widgets/controls",
     "model_module_version": "1.5.0",
     "model_name": "HTMLModel",
     "state": {
      "_dom_classes": [],
      "_model_module": "@jupyter-widgets/controls",
      "_model_module_version": "1.5.0",
      "_model_name": "HTMLModel",
      "_view_count": null,
      "_view_module": "@jupyter-widgets/controls",
      "_view_module_version": "1.5.0",
      "_view_name": "HTMLView",
      "description": "",
      "description_tooltip": null,
      "layout": "IPY_MODEL_b1aba6f7ab6f4d57bf678d113df239bf",
      "placeholder": "​",
      "style": "IPY_MODEL_e6aa29e3e18845efaf5b1c66511d6504",
      "value": " 5.00G/5.00G [01:12&lt;00:00, 42.4MB/s]"
     }
    },
    "3a75b8e419004b36a06e556fa5a4e535": {
     "model_module": "@jupyter-widgets/controls",
     "model_module_version": "1.5.0",
     "model_name": "HBoxModel",
     "state": {
      "_dom_classes": [],
      "_model_module": "@jupyter-widgets/controls",
      "_model_module_version": "1.5.0",
      "_model_name": "HBoxModel",
      "_view_count": null,
      "_view_module": "@jupyter-widgets/controls",
      "_view_module_version": "1.5.0",
      "_view_name": "HBoxView",
      "box_style": "",
      "children": [
       "IPY_MODEL_48d5fa17a0c3444795708ac8cb5e7f45",
       "IPY_MODEL_b21b452dbdbe4db1a6a8c7ad75553b1b",
       "IPY_MODEL_11e528bfe36341adbc264a6ca05d09d9"
      ],
      "layout": "IPY_MODEL_ddc376976d7f41b6a5dab76c32f62d57"
     }
    },
    "3aad07fed4a64c1fbce16f65168c5942": {
     "model_module": "@jupyter-widgets/base",
     "model_module_version": "1.2.0",
     "model_name": "LayoutModel",
     "state": {
      "_model_module": "@jupyter-widgets/base",
      "_model_module_version": "1.2.0",
      "_model_name": "LayoutModel",
      "_view_count": null,
      "_view_module": "@jupyter-widgets/base",
      "_view_module_version": "1.2.0",
      "_view_name": "LayoutView",
      "align_content": null,
      "align_items": null,
      "align_self": null,
      "border": null,
      "bottom": null,
      "display": null,
      "flex": null,
      "flex_flow": null,
      "grid_area": null,
      "grid_auto_columns": null,
      "grid_auto_flow": null,
      "grid_auto_rows": null,
      "grid_column": null,
      "grid_gap": null,
      "grid_row": null,
      "grid_template_areas": null,
      "grid_template_columns": null,
      "grid_template_rows": null,
      "height": null,
      "justify_content": null,
      "justify_items": null,
      "left": null,
      "margin": null,
      "max_height": null,
      "max_width": null,
      "min_height": null,
      "min_width": null,
      "object_fit": null,
      "object_position": null,
      "order": null,
      "overflow": null,
      "overflow_x": null,
      "overflow_y": null,
      "padding": null,
      "right": null,
      "top": null,
      "visibility": null,
      "width": null
     }
    },
    "3b4cc5d3389e4cfc88b3e26ee8ba8e50": {
     "model_module": "@jupyter-widgets/controls",
     "model_module_version": "1.5.0",
     "model_name": "HBoxModel",
     "state": {
      "_dom_classes": [],
      "_model_module": "@jupyter-widgets/controls",
      "_model_module_version": "1.5.0",
      "_model_name": "HBoxModel",
      "_view_count": null,
      "_view_module": "@jupyter-widgets/controls",
      "_view_module_version": "1.5.0",
      "_view_name": "HBoxView",
      "box_style": "",
      "children": [
       "IPY_MODEL_8723f6a787664da1ab849d04949cd764",
       "IPY_MODEL_19b48ca524ec43359e3e68cf1ab965b6",
       "IPY_MODEL_d1c3feea5cbc48b69d15b3cd3195f6c1"
      ],
      "layout": "IPY_MODEL_bb6cee0552994adfaefeab4ffafc59bc"
     }
    },
    "3edfed06e8f24ccea0ffa6386244c05a": {
     "model_module": "@jupyter-widgets/base",
     "model_module_version": "1.2.0",
     "model_name": "LayoutModel",
     "state": {
      "_model_module": "@jupyter-widgets/base",
      "_model_module_version": "1.2.0",
      "_model_name": "LayoutModel",
      "_view_count": null,
      "_view_module": "@jupyter-widgets/base",
      "_view_module_version": "1.2.0",
      "_view_name": "LayoutView",
      "align_content": null,
      "align_items": null,
      "align_self": null,
      "border": null,
      "bottom": null,
      "display": null,
      "flex": null,
      "flex_flow": null,
      "grid_area": null,
      "grid_auto_columns": null,
      "grid_auto_flow": null,
      "grid_auto_rows": null,
      "grid_column": null,
      "grid_gap": null,
      "grid_row": null,
      "grid_template_areas": null,
      "grid_template_columns": null,
      "grid_template_rows": null,
      "height": null,
      "justify_content": null,
      "justify_items": null,
      "left": null,
      "margin": null,
      "max_height": null,
      "max_width": null,
      "min_height": null,
      "min_width": null,
      "object_fit": null,
      "object_position": null,
      "order": null,
      "overflow": null,
      "overflow_x": null,
      "overflow_y": null,
      "padding": null,
      "right": null,
      "top": null,
      "visibility": null,
      "width": null
     }
    },
    "48d5fa17a0c3444795708ac8cb5e7f45": {
     "model_module": "@jupyter-widgets/controls",
     "model_module_version": "1.5.0",
     "model_name": "HTMLModel",
     "state": {
      "_dom_classes": [],
      "_model_module": "@jupyter-widgets/controls",
      "_model_module_version": "1.5.0",
      "_model_name": "HTMLModel",
      "_view_count": null,
      "_view_module": "@jupyter-widgets/controls",
      "_view_module_version": "1.5.0",
      "_view_name": "HTMLView",
      "description": "",
      "description_tooltip": null,
      "layout": "IPY_MODEL_ed4dc67131144c228f088202197e7015",
      "placeholder": "​",
      "style": "IPY_MODEL_33ae1220d30d46c19893ed23c230995b",
      "value": "consolidated.00.pth: 100%"
     }
    },
    "55c6ab804ced4da988f530c8f84a3aa4": {
     "model_module": "@jupyter-widgets/base",
     "model_module_version": "1.2.0",
     "model_name": "LayoutModel",
     "state": {
      "_model_module": "@jupyter-widgets/base",
      "_model_module_version": "1.2.0",
      "_model_name": "LayoutModel",
      "_view_count": null,
      "_view_module": "@jupyter-widgets/base",
      "_view_module_version": "1.2.0",
      "_view_name": "LayoutView",
      "align_content": null,
      "align_items": null,
      "align_self": null,
      "border": null,
      "bottom": null,
      "display": null,
      "flex": null,
      "flex_flow": null,
      "grid_area": null,
      "grid_auto_columns": null,
      "grid_auto_flow": null,
      "grid_auto_rows": null,
      "grid_column": null,
      "grid_gap": null,
      "grid_row": null,
      "grid_template_areas": null,
      "grid_template_columns": null,
      "grid_template_rows": null,
      "height": null,
      "justify_content": null,
      "justify_items": null,
      "left": null,
      "margin": null,
      "max_height": null,
      "max_width": null,
      "min_height": null,
      "min_width": null,
      "object_fit": null,
      "object_position": null,
      "order": null,
      "overflow": null,
      "overflow_x": null,
      "overflow_y": null,
      "padding": null,
      "right": null,
      "top": null,
      "visibility": null,
      "width": null
     }
    },
    "5f440b28cae6429f8614a2a930867230": {
     "model_module": "@jupyter-widgets/controls",
     "model_module_version": "1.5.0",
     "model_name": "HTMLModel",
     "state": {
      "_dom_classes": [],
      "_model_module": "@jupyter-widgets/controls",
      "_model_module_version": "1.5.0",
      "_model_name": "HTMLModel",
      "_view_count": null,
      "_view_module": "@jupyter-widgets/controls",
      "_view_module_version": "1.5.0",
      "_view_name": "HTMLView",
      "description": "",
      "description_tooltip": null,
      "layout": "IPY_MODEL_a6ee1a55467b4027ab526683ce1debe9",
      "placeholder": "​",
      "style": "IPY_MODEL_e6e24411eac94287aa7bb1ffb6e15d0d",
      "value": "model-00001-of-00004.safetensors: 100%"
     }
    },
    "5fd802b91c28472693ead7723cdedd5f": {
     "model_module": "@jupyter-widgets/base",
     "model_module_version": "1.2.0",
     "model_name": "LayoutModel",
     "state": {
      "_model_module": "@jupyter-widgets/base",
      "_model_module_version": "1.2.0",
      "_model_name": "LayoutModel",
      "_view_count": null,
      "_view_module": "@jupyter-widgets/base",
      "_view_module_version": "1.2.0",
      "_view_name": "LayoutView",
      "align_content": null,
      "align_items": null,
      "align_self": null,
      "border": null,
      "bottom": null,
      "display": null,
      "flex": null,
      "flex_flow": null,
      "grid_area": null,
      "grid_auto_columns": null,
      "grid_auto_flow": null,
      "grid_auto_rows": null,
      "grid_column": null,
      "grid_gap": null,
      "grid_row": null,
      "grid_template_areas": null,
      "grid_template_columns": null,
      "grid_template_rows": null,
      "height": null,
      "justify_content": null,
      "justify_items": null,
      "left": null,
      "margin": null,
      "max_height": null,
      "max_width": null,
      "min_height": null,
      "min_width": null,
      "object_fit": null,
      "object_position": null,
      "order": null,
      "overflow": null,
      "overflow_x": null,
      "overflow_y": null,
      "padding": null,
      "right": null,
      "top": null,
      "visibility": null,
      "width": null
     }
    },
    "6776f54ea4b24332ae9650bf651052ac": {
     "model_module": "@jupyter-widgets/controls",
     "model_module_version": "1.5.0",
     "model_name": "ProgressStyleModel",
     "state": {
      "_model_module": "@jupyter-widgets/controls",
      "_model_module_version": "1.5.0",
      "_model_name": "ProgressStyleModel",
      "_view_count": null,
      "_view_module": "@jupyter-widgets/base",
      "_view_module_version": "1.2.0",
      "_view_name": "StyleView",
      "bar_color": null,
      "description_width": ""
     }
    },
    "6d4aa5dfa939462b9f53a56c41803c0e": {
     "model_module": "@jupyter-widgets/base",
     "model_module_version": "1.2.0",
     "model_name": "LayoutModel",
     "state": {
      "_model_module": "@jupyter-widgets/base",
      "_model_module_version": "1.2.0",
      "_model_name": "LayoutModel",
      "_view_count": null,
      "_view_module": "@jupyter-widgets/base",
      "_view_module_version": "1.2.0",
      "_view_name": "LayoutView",
      "align_content": null,
      "align_items": null,
      "align_self": null,
      "border": null,
      "bottom": null,
      "display": null,
      "flex": null,
      "flex_flow": null,
      "grid_area": null,
      "grid_auto_columns": null,
      "grid_auto_flow": null,
      "grid_auto_rows": null,
      "grid_column": null,
      "grid_gap": null,
      "grid_row": null,
      "grid_template_areas": null,
      "grid_template_columns": null,
      "grid_template_rows": null,
      "height": null,
      "justify_content": null,
      "justify_items": null,
      "left": null,
      "margin": null,
      "max_height": null,
      "max_width": null,
      "min_height": null,
      "min_width": null,
      "object_fit": null,
      "object_position": null,
      "order": null,
      "overflow": null,
      "overflow_x": null,
      "overflow_y": null,
      "padding": null,
      "right": null,
      "top": null,
      "visibility": null,
      "width": null
     }
    },
    "6e9676ad4cd5480b9740100f32010749": {
     "model_module": "@jupyter-widgets/controls",
     "model_module_version": "1.5.0",
     "model_name": "FloatProgressModel",
     "state": {
      "_dom_classes": [],
      "_model_module": "@jupyter-widgets/controls",
      "_model_module_version": "1.5.0",
      "_model_name": "FloatProgressModel",
      "_view_count": null,
      "_view_module": "@jupyter-widgets/controls",
      "_view_module_version": "1.5.0",
      "_view_name": "ProgressView",
      "bar_style": "success",
      "description": "",
      "description_tooltip": null,
      "layout": "IPY_MODEL_9c39b737455647b7a90d069a2d5d1174",
      "max": 17,
      "min": 0,
      "orientation": "horizontal",
      "style": "IPY_MODEL_84abf9c99e0a4ad18669c931ea9f1225",
      "value": 17
     }
    },
    "7012c81e0d274411ada7525419c894e6": {
     "model_module": "@jupyter-widgets/controls",
     "model_module_version": "1.5.0",
     "model_name": "HBoxModel",
     "state": {
      "_dom_classes": [],
      "_model_module": "@jupyter-widgets/controls",
      "_model_module_version": "1.5.0",
      "_model_name": "HBoxModel",
      "_view_count": null,
      "_view_module": "@jupyter-widgets/controls",
      "_view_module_version": "1.5.0",
      "_view_name": "HBoxView",
      "box_style": "",
      "children": [
       "IPY_MODEL_faf305cd582f4a83ad2582299922452d",
       "IPY_MODEL_6e9676ad4cd5480b9740100f32010749",
       "IPY_MODEL_88fa63ac6467415785537153434eec6a"
      ],
      "layout": "IPY_MODEL_e259a5ef25e44a7dad49afedb3e25ad9"
     }
    },
    "7501a49606b346e997647375b1660377": {
     "model_module": "@jupyter-widgets/base",
     "model_module_version": "1.2.0",
     "model_name": "LayoutModel",
     "state": {
      "_model_module": "@jupyter-widgets/base",
      "_model_module_version": "1.2.0",
      "_model_name": "LayoutModel",
      "_view_count": null,
      "_view_module": "@jupyter-widgets/base",
      "_view_module_version": "1.2.0",
      "_view_name": "LayoutView",
      "align_content": null,
      "align_items": null,
      "align_self": null,
      "border": null,
      "bottom": null,
      "display": null,
      "flex": null,
      "flex_flow": null,
      "grid_area": null,
      "grid_auto_columns": null,
      "grid_auto_flow": null,
      "grid_auto_rows": null,
      "grid_column": null,
      "grid_gap": null,
      "grid_row": null,
      "grid_template_areas": null,
      "grid_template_columns": null,
      "grid_template_rows": null,
      "height": null,
      "justify_content": null,
      "justify_items": null,
      "left": null,
      "margin": null,
      "max_height": null,
      "max_width": null,
      "min_height": null,
      "min_width": null,
      "object_fit": null,
      "object_position": null,
      "order": null,
      "overflow": null,
      "overflow_x": null,
      "overflow_y": null,
      "padding": null,
      "right": null,
      "top": null,
      "visibility": null,
      "width": null
     }
    },
    "84998fc5b9014df3b43bc42c729152a0": {
     "model_module": "@jupyter-widgets/controls",
     "model_module_version": "1.5.0",
     "model_name": "DescriptionStyleModel",
     "state": {
      "_model_module": "@jupyter-widgets/controls",
      "_model_module_version": "1.5.0",
      "_model_name": "DescriptionStyleModel",
      "_view_count": null,
      "_view_module": "@jupyter-widgets/base",
      "_view_module_version": "1.2.0",
      "_view_name": "StyleView",
      "description_width": ""
     }
    },
    "84abf9c99e0a4ad18669c931ea9f1225": {
     "model_module": "@jupyter-widgets/controls",
     "model_module_version": "1.5.0",
     "model_name": "ProgressStyleModel",
     "state": {
      "_model_module": "@jupyter-widgets/controls",
      "_model_module_version": "1.5.0",
      "_model_name": "ProgressStyleModel",
      "_view_count": null,
      "_view_module": "@jupyter-widgets/base",
      "_view_module_version": "1.2.0",
      "_view_name": "StyleView",
      "bar_color": null,
      "description_width": ""
     }
    },
    "862c4ada4adf422285d0f4184402b417": {
     "model_module": "@jupyter-widgets/controls",
     "model_module_version": "1.5.0",
     "model_name": "DescriptionStyleModel",
     "state": {
      "_model_module": "@jupyter-widgets/controls",
      "_model_module_version": "1.5.0",
      "_model_name": "DescriptionStyleModel",
      "_view_count": null,
      "_view_module": "@jupyter-widgets/base",
      "_view_module_version": "1.2.0",
      "_view_name": "StyleView",
      "description_width": ""
     }
    },
    "8723f6a787664da1ab849d04949cd764": {
     "model_module": "@jupyter-widgets/controls",
     "model_module_version": "1.5.0",
     "model_name": "HTMLModel",
     "state": {
      "_dom_classes": [],
      "_model_module": "@jupyter-widgets/controls",
      "_model_module_version": "1.5.0",
      "_model_name": "HTMLModel",
      "_view_count": null,
      "_view_module": "@jupyter-widgets/controls",
      "_view_module_version": "1.5.0",
      "_view_name": "HTMLView",
      "description": "",
      "description_tooltip": null,
      "layout": "IPY_MODEL_cbe3094b322140ee9bbf1bac829ab963",
      "placeholder": "​",
      "style": "IPY_MODEL_84998fc5b9014df3b43bc42c729152a0",
      "value": "model-00003-of-00004.safetensors: 100%"
     }
    },
    "88fa63ac6467415785537153434eec6a": {
     "model_module": "@jupyter-widgets/controls",
     "model_module_version": "1.5.0",
     "model_name": "HTMLModel",
     "state": {
      "_dom_classes": [],
      "_model_module": "@jupyter-widgets/controls",
      "_model_module_version": "1.5.0",
      "_model_name": "HTMLModel",
      "_view_count": null,
      "_view_module": "@jupyter-widgets/controls",
      "_view_module_version": "1.5.0",
      "_view_name": "HTMLView",
      "description": "",
      "description_tooltip": null,
      "layout": "IPY_MODEL_3aad07fed4a64c1fbce16f65168c5942",
      "placeholder": "​",
      "style": "IPY_MODEL_a2e56693c27247ab8b19b75af5568aec",
      "value": " 17/17 [05:37&lt;00:00, 36.96s/it]"
     }
    },
    "897a5b9a5c8a40d1b90058bb1ffea1fa": {
     "model_module": "@jupyter-widgets/base",
     "model_module_version": "1.2.0",
     "model_name": "LayoutModel",
     "state": {
      "_model_module": "@jupyter-widgets/base",
      "_model_module_version": "1.2.0",
      "_model_name": "LayoutModel",
      "_view_count": null,
      "_view_module": "@jupyter-widgets/base",
      "_view_module_version": "1.2.0",
      "_view_name": "LayoutView",
      "align_content": null,
      "align_items": null,
      "align_self": null,
      "border": null,
      "bottom": null,
      "display": null,
      "flex": null,
      "flex_flow": null,
      "grid_area": null,
      "grid_auto_columns": null,
      "grid_auto_flow": null,
      "grid_auto_rows": null,
      "grid_column": null,
      "grid_gap": null,
      "grid_row": null,
      "grid_template_areas": null,
      "grid_template_columns": null,
      "grid_template_rows": null,
      "height": null,
      "justify_content": null,
      "justify_items": null,
      "left": null,
      "margin": null,
      "max_height": null,
      "max_width": null,
      "min_height": null,
      "min_width": null,
      "object_fit": null,
      "object_position": null,
      "order": null,
      "overflow": null,
      "overflow_x": null,
      "overflow_y": null,
      "padding": null,
      "right": null,
      "top": null,
      "visibility": null,
      "width": null
     }
    },
    "8e2a389dd7064d8381eded838501edf7": {
     "model_module": "@jupyter-widgets/base",
     "model_module_version": "1.2.0",
     "model_name": "LayoutModel",
     "state": {
      "_model_module": "@jupyter-widgets/base",
      "_model_module_version": "1.2.0",
      "_model_name": "LayoutModel",
      "_view_count": null,
      "_view_module": "@jupyter-widgets/base",
      "_view_module_version": "1.2.0",
      "_view_name": "LayoutView",
      "align_content": null,
      "align_items": null,
      "align_self": null,
      "border": null,
      "bottom": null,
      "display": null,
      "flex": null,
      "flex_flow": null,
      "grid_area": null,
      "grid_auto_columns": null,
      "grid_auto_flow": null,
      "grid_auto_rows": null,
      "grid_column": null,
      "grid_gap": null,
      "grid_row": null,
      "grid_template_areas": null,
      "grid_template_columns": null,
      "grid_template_rows": null,
      "height": null,
      "justify_content": null,
      "justify_items": null,
      "left": null,
      "margin": null,
      "max_height": null,
      "max_width": null,
      "min_height": null,
      "min_width": null,
      "object_fit": null,
      "object_position": null,
      "order": null,
      "overflow": null,
      "overflow_x": null,
      "overflow_y": null,
      "padding": null,
      "right": null,
      "top": null,
      "visibility": null,
      "width": null
     }
    },
    "98454d975f5842eeb4a4e11173e272fd": {
     "model_module": "@jupyter-widgets/base",
     "model_module_version": "1.2.0",
     "model_name": "LayoutModel",
     "state": {
      "_model_module": "@jupyter-widgets/base",
      "_model_module_version": "1.2.0",
      "_model_name": "LayoutModel",
      "_view_count": null,
      "_view_module": "@jupyter-widgets/base",
      "_view_module_version": "1.2.0",
      "_view_name": "LayoutView",
      "align_content": null,
      "align_items": null,
      "align_self": null,
      "border": null,
      "bottom": null,
      "display": null,
      "flex": null,
      "flex_flow": null,
      "grid_area": null,
      "grid_auto_columns": null,
      "grid_auto_flow": null,
      "grid_auto_rows": null,
      "grid_column": null,
      "grid_gap": null,
      "grid_row": null,
      "grid_template_areas": null,
      "grid_template_columns": null,
      "grid_template_rows": null,
      "height": null,
      "justify_content": null,
      "justify_items": null,
      "left": null,
      "margin": null,
      "max_height": null,
      "max_width": null,
      "min_height": null,
      "min_width": null,
      "object_fit": null,
      "object_position": null,
      "order": null,
      "overflow": null,
      "overflow_x": null,
      "overflow_y": null,
      "padding": null,
      "right": null,
      "top": null,
      "visibility": null,
      "width": null
     }
    },
    "990cb01cfa0c44b4966c45358e516076": {
     "model_module": "@jupyter-widgets/controls",
     "model_module_version": "1.5.0",
     "model_name": "DescriptionStyleModel",
     "state": {
      "_model_module": "@jupyter-widgets/controls",
      "_model_module_version": "1.5.0",
      "_model_name": "DescriptionStyleModel",
      "_view_count": null,
      "_view_module": "@jupyter-widgets/base",
      "_view_module_version": "1.2.0",
      "_view_name": "StyleView",
      "description_width": ""
     }
    },
    "9c39b737455647b7a90d069a2d5d1174": {
     "model_module": "@jupyter-widgets/base",
     "model_module_version": "1.2.0",
     "model_name": "LayoutModel",
     "state": {
      "_model_module": "@jupyter-widgets/base",
      "_model_module_version": "1.2.0",
      "_model_name": "LayoutModel",
      "_view_count": null,
      "_view_module": "@jupyter-widgets/base",
      "_view_module_version": "1.2.0",
      "_view_name": "LayoutView",
      "align_content": null,
      "align_items": null,
      "align_self": null,
      "border": null,
      "bottom": null,
      "display": null,
      "flex": null,
      "flex_flow": null,
      "grid_area": null,
      "grid_auto_columns": null,
      "grid_auto_flow": null,
      "grid_auto_rows": null,
      "grid_column": null,
      "grid_gap": null,
      "grid_row": null,
      "grid_template_areas": null,
      "grid_template_columns": null,
      "grid_template_rows": null,
      "height": null,
      "justify_content": null,
      "justify_items": null,
      "left": null,
      "margin": null,
      "max_height": null,
      "max_width": null,
      "min_height": null,
      "min_width": null,
      "object_fit": null,
      "object_position": null,
      "order": null,
      "overflow": null,
      "overflow_x": null,
      "overflow_y": null,
      "padding": null,
      "right": null,
      "top": null,
      "visibility": null,
      "width": null
     }
    },
    "a2e56693c27247ab8b19b75af5568aec": {
     "model_module": "@jupyter-widgets/controls",
     "model_module_version": "1.5.0",
     "model_name": "DescriptionStyleModel",
     "state": {
      "_model_module": "@jupyter-widgets/controls",
      "_model_module_version": "1.5.0",
      "_model_name": "DescriptionStyleModel",
      "_view_count": null,
      "_view_module": "@jupyter-widgets/base",
      "_view_module_version": "1.2.0",
      "_view_name": "StyleView",
      "description_width": ""
     }
    },
    "a6ee1a55467b4027ab526683ce1debe9": {
     "model_module": "@jupyter-widgets/base",
     "model_module_version": "1.2.0",
     "model_name": "LayoutModel",
     "state": {
      "_model_module": "@jupyter-widgets/base",
      "_model_module_version": "1.2.0",
      "_model_name": "LayoutModel",
      "_view_count": null,
      "_view_module": "@jupyter-widgets/base",
      "_view_module_version": "1.2.0",
      "_view_name": "LayoutView",
      "align_content": null,
      "align_items": null,
      "align_self": null,
      "border": null,
      "bottom": null,
      "display": null,
      "flex": null,
      "flex_flow": null,
      "grid_area": null,
      "grid_auto_columns": null,
      "grid_auto_flow": null,
      "grid_auto_rows": null,
      "grid_column": null,
      "grid_gap": null,
      "grid_row": null,
      "grid_template_areas": null,
      "grid_template_columns": null,
      "grid_template_rows": null,
      "height": null,
      "justify_content": null,
      "justify_items": null,
      "left": null,
      "margin": null,
      "max_height": null,
      "max_width": null,
      "min_height": null,
      "min_width": null,
      "object_fit": null,
      "object_position": null,
      "order": null,
      "overflow": null,
      "overflow_x": null,
      "overflow_y": null,
      "padding": null,
      "right": null,
      "top": null,
      "visibility": null,
      "width": null
     }
    },
    "a9d25d395b7240c699ba1a001e97bc01": {
     "model_module": "@jupyter-widgets/controls",
     "model_module_version": "1.5.0",
     "model_name": "HBoxModel",
     "state": {
      "_dom_classes": [],
      "_model_module": "@jupyter-widgets/controls",
      "_model_module_version": "1.5.0",
      "_model_name": "HBoxModel",
      "_view_count": null,
      "_view_module": "@jupyter-widgets/controls",
      "_view_module_version": "1.5.0",
      "_view_name": "HBoxView",
      "box_style": "",
      "children": [
       "IPY_MODEL_115307c0e18f4e7c9cb03b40dc045fea",
       "IPY_MODEL_0075cf237eb1492091f3b622441acaec",
       "IPY_MODEL_362c8f5b725647f1baf87a177625e914"
      ],
      "layout": "IPY_MODEL_55c6ab804ced4da988f530c8f84a3aa4"
     }
    },
    "ac443b375fe448c3bf028755064e0cc6": {
     "model_module": "@jupyter-widgets/controls",
     "model_module_version": "1.5.0",
     "model_name": "ProgressStyleModel",
     "state": {
      "_model_module": "@jupyter-widgets/controls",
      "_model_module_version": "1.5.0",
      "_model_name": "ProgressStyleModel",
      "_view_count": null,
      "_view_module": "@jupyter-widgets/base",
      "_view_module_version": "1.2.0",
      "_view_name": "StyleView",
      "bar_color": null,
      "description_width": ""
     }
    },
    "ad00a584a1484b1aa6295a4395f4c488": {
     "model_module": "@jupyter-widgets/controls",
     "model_module_version": "1.5.0",
     "model_name": "FloatProgressModel",
     "state": {
      "_dom_classes": [],
      "_model_module": "@jupyter-widgets/controls",
      "_model_module_version": "1.5.0",
      "_model_name": "FloatProgressModel",
      "_view_count": null,
      "_view_module": "@jupyter-widgets/controls",
      "_view_module_version": "1.5.0",
      "_view_name": "ProgressView",
      "bar_style": "success",
      "description": "",
      "description_tooltip": null,
      "layout": "IPY_MODEL_3edfed06e8f24ccea0ffa6386244c05a",
      "max": 4976698672,
      "min": 0,
      "orientation": "horizontal",
      "style": "IPY_MODEL_23b0ae2153764e39a737abd5c80d3d21",
      "value": 4976698672
     }
    },
    "b1aba6f7ab6f4d57bf678d113df239bf": {
     "model_module": "@jupyter-widgets/base",
     "model_module_version": "1.2.0",
     "model_name": "LayoutModel",
     "state": {
      "_model_module": "@jupyter-widgets/base",
      "_model_module_version": "1.2.0",
      "_model_name": "LayoutModel",
      "_view_count": null,
      "_view_module": "@jupyter-widgets/base",
      "_view_module_version": "1.2.0",
      "_view_name": "LayoutView",
      "align_content": null,
      "align_items": null,
      "align_self": null,
      "border": null,
      "bottom": null,
      "display": null,
      "flex": null,
      "flex_flow": null,
      "grid_area": null,
      "grid_auto_columns": null,
      "grid_auto_flow": null,
      "grid_auto_rows": null,
      "grid_column": null,
      "grid_gap": null,
      "grid_row": null,
      "grid_template_areas": null,
      "grid_template_columns": null,
      "grid_template_rows": null,
      "height": null,
      "justify_content": null,
      "justify_items": null,
      "left": null,
      "margin": null,
      "max_height": null,
      "max_width": null,
      "min_height": null,
      "min_width": null,
      "object_fit": null,
      "object_position": null,
      "order": null,
      "overflow": null,
      "overflow_x": null,
      "overflow_y": null,
      "padding": null,
      "right": null,
      "top": null,
      "visibility": null,
      "width": null
     }
    },
    "b21b452dbdbe4db1a6a8c7ad75553b1b": {
     "model_module": "@jupyter-widgets/controls",
     "model_module_version": "1.5.0",
     "model_name": "FloatProgressModel",
     "state": {
      "_dom_classes": [],
      "_model_module": "@jupyter-widgets/controls",
      "_model_module_version": "1.5.0",
      "_model_name": "FloatProgressModel",
      "_view_count": null,
      "_view_module": "@jupyter-widgets/controls",
      "_view_module_version": "1.5.0",
      "_view_name": "ProgressView",
      "bar_style": "success",
      "description": "",
      "description_tooltip": null,
      "layout": "IPY_MODEL_2dd3319a37fe426daed81f7f3ebba034",
      "max": 16060617592,
      "min": 0,
      "orientation": "horizontal",
      "style": "IPY_MODEL_ac443b375fe448c3bf028755064e0cc6",
      "value": 16060617592
     }
    },
    "bb6cee0552994adfaefeab4ffafc59bc": {
     "model_module": "@jupyter-widgets/base",
     "model_module_version": "1.2.0",
     "model_name": "LayoutModel",
     "state": {
      "_model_module": "@jupyter-widgets/base",
      "_model_module_version": "1.2.0",
      "_model_name": "LayoutModel",
      "_view_count": null,
      "_view_module": "@jupyter-widgets/base",
      "_view_module_version": "1.2.0",
      "_view_name": "LayoutView",
      "align_content": null,
      "align_items": null,
      "align_self": null,
      "border": null,
      "bottom": null,
      "display": null,
      "flex": null,
      "flex_flow": null,
      "grid_area": null,
      "grid_auto_columns": null,
      "grid_auto_flow": null,
      "grid_auto_rows": null,
      "grid_column": null,
      "grid_gap": null,
      "grid_row": null,
      "grid_template_areas": null,
      "grid_template_columns": null,
      "grid_template_rows": null,
      "height": null,
      "justify_content": null,
      "justify_items": null,
      "left": null,
      "margin": null,
      "max_height": null,
      "max_width": null,
      "min_height": null,
      "min_width": null,
      "object_fit": null,
      "object_position": null,
      "order": null,
      "overflow": null,
      "overflow_x": null,
      "overflow_y": null,
      "padding": null,
      "right": null,
      "top": null,
      "visibility": null,
      "width": null
     }
    },
    "cbe3094b322140ee9bbf1bac829ab963": {
     "model_module": "@jupyter-widgets/base",
     "model_module_version": "1.2.0",
     "model_name": "LayoutModel",
     "state": {
      "_model_module": "@jupyter-widgets/base",
      "_model_module_version": "1.2.0",
      "_model_name": "LayoutModel",
      "_view_count": null,
      "_view_module": "@jupyter-widgets/base",
      "_view_module_version": "1.2.0",
      "_view_name": "LayoutView",
      "align_content": null,
      "align_items": null,
      "align_self": null,
      "border": null,
      "bottom": null,
      "display": null,
      "flex": null,
      "flex_flow": null,
      "grid_area": null,
      "grid_auto_columns": null,
      "grid_auto_flow": null,
      "grid_auto_rows": null,
      "grid_column": null,
      "grid_gap": null,
      "grid_row": null,
      "grid_template_areas": null,
      "grid_template_columns": null,
      "grid_template_rows": null,
      "height": null,
      "justify_content": null,
      "justify_items": null,
      "left": null,
      "margin": null,
      "max_height": null,
      "max_width": null,
      "min_height": null,
      "min_width": null,
      "object_fit": null,
      "object_position": null,
      "order": null,
      "overflow": null,
      "overflow_x": null,
      "overflow_y": null,
      "padding": null,
      "right": null,
      "top": null,
      "visibility": null,
      "width": null
     }
    },
    "cc30646ad6e443318977e939cb43be25": {
     "model_module": "@jupyter-widgets/controls",
     "model_module_version": "1.5.0",
     "model_name": "DescriptionStyleModel",
     "state": {
      "_model_module": "@jupyter-widgets/controls",
      "_model_module_version": "1.5.0",
      "_model_name": "DescriptionStyleModel",
      "_view_count": null,
      "_view_module": "@jupyter-widgets/base",
      "_view_module_version": "1.2.0",
      "_view_name": "StyleView",
      "description_width": ""
     }
    },
    "d1c3feea5cbc48b69d15b3cd3195f6c1": {
     "model_module": "@jupyter-widgets/controls",
     "model_module_version": "1.5.0",
     "model_name": "HTMLModel",
     "state": {
      "_dom_classes": [],
      "_model_module": "@jupyter-widgets/controls",
      "_model_module_version": "1.5.0",
      "_model_name": "HTMLModel",
      "_view_count": null,
      "_view_module": "@jupyter-widgets/controls",
      "_view_module_version": "1.5.0",
      "_view_name": "HTMLView",
      "description": "",
      "description_tooltip": null,
      "layout": "IPY_MODEL_d2c13617a5e84498b01ca97370e9a825",
      "placeholder": "​",
      "style": "IPY_MODEL_cc30646ad6e443318977e939cb43be25",
      "value": " 4.92G/4.92G [01:10&lt;00:00, 42.4MB/s]"
     }
    },
    "d2c13617a5e84498b01ca97370e9a825": {
     "model_module": "@jupyter-widgets/base",
     "model_module_version": "1.2.0",
     "model_name": "LayoutModel",
     "state": {
      "_model_module": "@jupyter-widgets/base",
      "_model_module_version": "1.2.0",
      "_model_name": "LayoutModel",
      "_view_count": null,
      "_view_module": "@jupyter-widgets/base",
      "_view_module_version": "1.2.0",
      "_view_name": "LayoutView",
      "align_content": null,
      "align_items": null,
      "align_self": null,
      "border": null,
      "bottom": null,
      "display": null,
      "flex": null,
      "flex_flow": null,
      "grid_area": null,
      "grid_auto_columns": null,
      "grid_auto_flow": null,
      "grid_auto_rows": null,
      "grid_column": null,
      "grid_gap": null,
      "grid_row": null,
      "grid_template_areas": null,
      "grid_template_columns": null,
      "grid_template_rows": null,
      "height": null,
      "justify_content": null,
      "justify_items": null,
      "left": null,
      "margin": null,
      "max_height": null,
      "max_width": null,
      "min_height": null,
      "min_width": null,
      "object_fit": null,
      "object_position": null,
      "order": null,
      "overflow": null,
      "overflow_x": null,
      "overflow_y": null,
      "padding": null,
      "right": null,
      "top": null,
      "visibility": null,
      "width": null
     }
    },
    "ddc376976d7f41b6a5dab76c32f62d57": {
     "model_module": "@jupyter-widgets/base",
     "model_module_version": "1.2.0",
     "model_name": "LayoutModel",
     "state": {
      "_model_module": "@jupyter-widgets/base",
      "_model_module_version": "1.2.0",
      "_model_name": "LayoutModel",
      "_view_count": null,
      "_view_module": "@jupyter-widgets/base",
      "_view_module_version": "1.2.0",
      "_view_name": "LayoutView",
      "align_content": null,
      "align_items": null,
      "align_self": null,
      "border": null,
      "bottom": null,
      "display": null,
      "flex": null,
      "flex_flow": null,
      "grid_area": null,
      "grid_auto_columns": null,
      "grid_auto_flow": null,
      "grid_auto_rows": null,
      "grid_column": null,
      "grid_gap": null,
      "grid_row": null,
      "grid_template_areas": null,
      "grid_template_columns": null,
      "grid_template_rows": null,
      "height": null,
      "justify_content": null,
      "justify_items": null,
      "left": null,
      "margin": null,
      "max_height": null,
      "max_width": null,
      "min_height": null,
      "min_width": null,
      "object_fit": null,
      "object_position": null,
      "order": null,
      "overflow": null,
      "overflow_x": null,
      "overflow_y": null,
      "padding": null,
      "right": null,
      "top": null,
      "visibility": null,
      "width": null
     }
    },
    "e259a5ef25e44a7dad49afedb3e25ad9": {
     "model_module": "@jupyter-widgets/base",
     "model_module_version": "1.2.0",
     "model_name": "LayoutModel",
     "state": {
      "_model_module": "@jupyter-widgets/base",
      "_model_module_version": "1.2.0",
      "_model_name": "LayoutModel",
      "_view_count": null,
      "_view_module": "@jupyter-widgets/base",
      "_view_module_version": "1.2.0",
      "_view_name": "LayoutView",
      "align_content": null,
      "align_items": null,
      "align_self": null,
      "border": null,
      "bottom": null,
      "display": null,
      "flex": null,
      "flex_flow": null,
      "grid_area": null,
      "grid_auto_columns": null,
      "grid_auto_flow": null,
      "grid_auto_rows": null,
      "grid_column": null,
      "grid_gap": null,
      "grid_row": null,
      "grid_template_areas": null,
      "grid_template_columns": null,
      "grid_template_rows": null,
      "height": null,
      "justify_content": null,
      "justify_items": null,
      "left": null,
      "margin": null,
      "max_height": null,
      "max_width": null,
      "min_height": null,
      "min_width": null,
      "object_fit": null,
      "object_position": null,
      "order": null,
      "overflow": null,
      "overflow_x": null,
      "overflow_y": null,
      "padding": null,
      "right": null,
      "top": null,
      "visibility": null,
      "width": null
     }
    },
    "e6aa29e3e18845efaf5b1c66511d6504": {
     "model_module": "@jupyter-widgets/controls",
     "model_module_version": "1.5.0",
     "model_name": "DescriptionStyleModel",
     "state": {
      "_model_module": "@jupyter-widgets/controls",
      "_model_module_version": "1.5.0",
      "_model_name": "DescriptionStyleModel",
      "_view_count": null,
      "_view_module": "@jupyter-widgets/base",
      "_view_module_version": "1.2.0",
      "_view_name": "StyleView",
      "description_width": ""
     }
    },
    "e6e24411eac94287aa7bb1ffb6e15d0d": {
     "model_module": "@jupyter-widgets/controls",
     "model_module_version": "1.5.0",
     "model_name": "DescriptionStyleModel",
     "state": {
      "_model_module": "@jupyter-widgets/controls",
      "_model_module_version": "1.5.0",
      "_model_name": "DescriptionStyleModel",
      "_view_count": null,
      "_view_module": "@jupyter-widgets/base",
      "_view_module_version": "1.2.0",
      "_view_name": "StyleView",
      "description_width": ""
     }
    },
    "e749c6a737bc4168a0e280335a4639cb": {
     "model_module": "@jupyter-widgets/controls",
     "model_module_version": "1.5.0",
     "model_name": "HBoxModel",
     "state": {
      "_dom_classes": [],
      "_model_module": "@jupyter-widgets/controls",
      "_model_module_version": "1.5.0",
      "_model_name": "HBoxModel",
      "_view_count": null,
      "_view_module": "@jupyter-widgets/controls",
      "_view_module_version": "1.5.0",
      "_view_name": "HBoxView",
      "box_style": "",
      "children": [
       "IPY_MODEL_5f440b28cae6429f8614a2a930867230",
       "IPY_MODEL_ad00a584a1484b1aa6295a4395f4c488",
       "IPY_MODEL_2b018b81a8a14ff8a103f7395ce65147"
      ],
      "layout": "IPY_MODEL_7501a49606b346e997647375b1660377"
     }
    },
    "ed4dc67131144c228f088202197e7015": {
     "model_module": "@jupyter-widgets/base",
     "model_module_version": "1.2.0",
     "model_name": "LayoutModel",
     "state": {
      "_model_module": "@jupyter-widgets/base",
      "_model_module_version": "1.2.0",
      "_model_name": "LayoutModel",
      "_view_count": null,
      "_view_module": "@jupyter-widgets/base",
      "_view_module_version": "1.2.0",
      "_view_name": "LayoutView",
      "align_content": null,
      "align_items": null,
      "align_self": null,
      "border": null,
      "bottom": null,
      "display": null,
      "flex": null,
      "flex_flow": null,
      "grid_area": null,
      "grid_auto_columns": null,
      "grid_auto_flow": null,
      "grid_auto_rows": null,
      "grid_column": null,
      "grid_gap": null,
      "grid_row": null,
      "grid_template_areas": null,
      "grid_template_columns": null,
      "grid_template_rows": null,
      "height": null,
      "justify_content": null,
      "justify_items": null,
      "left": null,
      "margin": null,
      "max_height": null,
      "max_width": null,
      "min_height": null,
      "min_width": null,
      "object_fit": null,
      "object_position": null,
      "order": null,
      "overflow": null,
      "overflow_x": null,
      "overflow_y": null,
      "padding": null,
      "right": null,
      "top": null,
      "visibility": null,
      "width": null
     }
    },
    "faf305cd582f4a83ad2582299922452d": {
     "model_module": "@jupyter-widgets/controls",
     "model_module_version": "1.5.0",
     "model_name": "HTMLModel",
     "state": {
      "_dom_classes": [],
      "_model_module": "@jupyter-widgets/controls",
      "_model_module_version": "1.5.0",
      "_model_name": "HTMLModel",
      "_view_count": null,
      "_view_module": "@jupyter-widgets/controls",
      "_view_module_version": "1.5.0",
      "_view_name": "HTMLView",
      "description": "",
      "description_tooltip": null,
      "layout": "IPY_MODEL_8e2a389dd7064d8381eded838501edf7",
      "placeholder": "​",
      "style": "IPY_MODEL_862c4ada4adf422285d0f4184402b417",
      "value": "Fetching 17 files: 100%"
     }
    }
   }
  }
 },
 "nbformat": 4,
 "nbformat_minor": 0
}
